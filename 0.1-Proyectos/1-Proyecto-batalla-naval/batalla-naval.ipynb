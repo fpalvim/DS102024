{
 "cells": [
  {
   "cell_type": "code",
   "execution_count": null,
   "metadata": {},
   "outputs": [],
   "source": []
  },
  {
   "cell_type": "code",
   "execution_count": 55,
   "metadata": {},
   "outputs": [
    {
     "name": "stdout",
     "output_type": "stream",
     "text": [
      "<function Tablero.imprimir_tablero at 0x000002B662EBFC40>\n"
     ]
    }
   ],
   "source": [
    "mi_tablero = Tablero.imprimir_tablero\n",
    "print(mi_tablero)"
   ]
  },
  {
   "cell_type": "code",
   "execution_count": null,
   "metadata": {},
   "outputs": [
    {
     "name": "stdout",
     "output_type": "stream",
     "text": [
      "dict_keys(['portaaviones'])\n"
     ]
    }
   ],
   "source": [
    "barcos = [\n",
    "    {'nombre': 'portaaviones', 'tamano': 5},\n",
    "    {'nombre': 'acorazado', 'tamano': 4},\n",
    "    {'nombre': 'crucero', 'tamano': 3},\n",
    "    {'nombre': 'submarino', 'tamano': 3},\n",
    "    {'nombre': 'destructor', 'tamano': 2}\n",
    "]\n",
    "\n",
    "# print(barcos[0].keys())\n",
    "\n",
    "class Tablero:\n",
    "\n",
    "    def __init__(self, tablero, barcos):\n",
    "        self.tablero = [['~' for _ in range(10)] for _ in range(10)]\n",
    "        self.barcos = []\n",
    "\n",
    "    def colocar_barco(self, barco, posicion, orientacion):\n",
    "        fila, columna = posicion\n",
    "        tamano = barco['tamano']\n",
    "\n",
    "    if orientacion == 'H' and columna + tamano > 10:\n",
    "        print('Error: El barco no cabe en esta posición')\n",
    "        return False\n",
    "    def mostrar_tablero(self):\n",
    "        \n",
    "\n",
    "    def todos_barcos_hundidos(self):\n"
   ]
  }
 ],
 "metadata": {
  "kernelspec": {
   "display_name": "Python 3",
   "language": "python",
   "name": "python3"
  },
  "language_info": {
   "codemirror_mode": {
    "name": "ipython",
    "version": 3
   },
   "file_extension": ".py",
   "mimetype": "text/x-python",
   "name": "python",
   "nbconvert_exporter": "python",
   "pygments_lexer": "ipython3",
   "version": "3.11.9"
  }
 },
 "nbformat": 4,
 "nbformat_minor": 2
}
