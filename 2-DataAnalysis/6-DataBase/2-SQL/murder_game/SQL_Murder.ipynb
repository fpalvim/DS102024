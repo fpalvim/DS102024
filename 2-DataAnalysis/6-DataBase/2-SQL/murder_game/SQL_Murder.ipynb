{
  "cells": [
    {
      "cell_type": "markdown",
      "metadata": {
        "id": "Ej11X-Yvy6Y9"
      },
      "source": [
        "# SQL"
      ]
    },
    {
      "cell_type": "markdown",
      "metadata": {},
      "source": [
        "## Conexión a PostgreSQL usando SQLAlchemy"
      ]
    },
    {
      "cell_type": "code",
<<<<<<< HEAD
      "execution_count": 1,
      "metadata": {},
      "outputs": [
        {
          "name": "stdout",
          "output_type": "stream",
          "text": [
            "Conexión exitosa\n"
          ]
        }
      ],
=======
      "execution_count": null,
      "metadata": {},
      "outputs": [],
>>>>>>> 4342c51dc31d6e48a68248542912a9413afe0fba
      "source": [
        "import os\n",
        "import pandas as pd\n",
        "from typing import Union\n",
        "from sqlalchemy import create_engine, text\n",
        "\n",
        "# Reemplaza USER y PASSWORD del .env\n",
        "engine = create_engine(\"sqlite:///data/sql-murder-mystery.db\")\n",
        "\n",
        "# Probar la conexión\n",
        "try:\n",
        "    connection = engine.connect()\n",
        "    print(\"Conexión exitosa\")\n",
        "    connection.close()\n",
        "except Exception as e:\n",
        "    print(f\"Error al conectar: {e}\")\n",
        "\n",
        "\n",
        "def ejecutar_query(query: str) -> Union[pd.DataFrame, str]:\n",
        "    \"\"\"\n",
        "    Ejecuta una consulta SQL en la base de datos y devuelve un DataFrame.\n",
        "\n",
        "    Parámetros:\n",
        "    - query (str): La consulta SQL a ejecutar.\n",
        "\n",
        "    Retorna:\n",
        "    - Union[pd.DataFrame, pl.DataFrame, str]: Retorna un DataFrame en pandas o polars dependiendo del parámetro 'devolver_polars',\n",
        "      o un mensaje de éxito/error si la operación no es un SELECT.\n",
        "    \"\"\"\n",
        "    \n",
        "    with engine.connect() as connection:\n",
        "        try:\n",
        "            result = connection.execute(text(query))\n",
        "            \n",
        "            # Determinar si es una consulta SELECT para devolver datos\n",
        "            if result.returns_rows:\n",
        "                rows = result.fetchall()\n",
        "                columns = result.keys()\n",
        "\n",
        "                # Convertir filas en un diccionario de listas para crear correctamente el DataFrame en polars\n",
        "                data_dict = {col: [row[idx] for row in rows] for idx, col in enumerate(columns)}\n",
        "\n",
        "                # Verificación de coincidencia de columnas y filas\n",
        "                return pd.DataFrame(data_dict)\n",
        "            else:\n",
        "                connection.commit()\n",
        "                return f\"Query ejecutada correctamente: {result.rowcount} filas afectadas.\"\n",
        "        except Exception as e:\n",
        "            return f\"Error al ejecutar la query: {e}\"\n"
      ]
    },
    {
      "cell_type": "code",
<<<<<<< HEAD
      "execution_count": 21,
=======
      "execution_count": null,
>>>>>>> 4342c51dc31d6e48a68248542912a9413afe0fba
      "metadata": {
        "colab": {
          "base_uri": "https://localhost:8080/",
          "height": 159
        },
        "id": "GoWPG4ne6iCz",
        "outputId": "00902065-d2be-429b-cd67-4a495f4aa7b8"
      },
<<<<<<< HEAD
      "outputs": [
        {
          "data": {
            "text/html": [
              "<div>\n",
              "<style scoped>\n",
              "    .dataframe tbody tr th:only-of-type {\n",
              "        vertical-align: middle;\n",
              "    }\n",
              "\n",
              "    .dataframe tbody tr th {\n",
              "        vertical-align: top;\n",
              "    }\n",
              "\n",
              "    .dataframe thead th {\n",
              "        text-align: right;\n",
              "    }\n",
              "</style>\n",
              "<table border=\"1\" class=\"dataframe\">\n",
              "  <thead>\n",
              "    <tr style=\"text-align: right;\">\n",
              "      <th></th>\n",
              "      <th>date</th>\n",
              "      <th>type</th>\n",
              "      <th>description</th>\n",
              "      <th>city</th>\n",
              "    </tr>\n",
              "  </thead>\n",
              "  <tbody>\n",
              "    <tr>\n",
              "      <th>0</th>\n",
              "      <td>20180115</td>\n",
              "      <td>murder</td>\n",
              "      <td>Security footage shows that there were 2 witnesses. The first witness lives at the last house on \"Northwestern Dr\". The second witness, named Annabel, lives somewhere on \"Franklin Ave\".</td>\n",
              "      <td>SQL City</td>\n",
              "    </tr>\n",
              "  </tbody>\n",
              "</table>\n",
              "</div>"
            ],
            "text/plain": [
              "       date    type  \\\n",
              "0  20180115  murder   \n",
              "\n",
              "                                                                                                                                                                                 description  \\\n",
              "0  Security footage shows that there were 2 witnesses. The first witness lives at the last house on \"Northwestern Dr\". The second witness, named Annabel, lives somewhere on \"Franklin Ave\".   \n",
              "\n",
              "       city  \n",
              "0  SQL City  "
            ]
          },
          "execution_count": 21,
          "metadata": {},
          "output_type": "execute_result"
        }
      ],
      "source": [
        "pd.set_option('display.max_colwidth',None)\n",
        "\n",
        "query= \"\"\"SELECT * \n",
        "FROM crime_scene_report\n",
        "WHERE type = 'murder'\n",
        "AND city = 'SQL City'\n",
        "AND date = '20180115'\n",
        "\"\"\" \n",
        "\n",
=======
      "outputs": [],
      "source": [
        "query= \"\"\n",
>>>>>>> 4342c51dc31d6e48a68248542912a9413afe0fba
        "ejecutar_query(query=query)"
      ]
    },
    {
      "cell_type": "code",
<<<<<<< HEAD
      "execution_count": 34,
=======
      "execution_count": null,
>>>>>>> 4342c51dc31d6e48a68248542912a9413afe0fba
      "metadata": {
        "colab": {
          "base_uri": "https://localhost:8080/",
          "height": 159
        },
        "id": "9jYYgjP568zC",
        "outputId": "5a050c26-a8d5-4bc0-acf3-c50d3a02128d"
      },
<<<<<<< HEAD
      "outputs": [
        {
          "data": {
            "text/html": [
              "<div>\n",
              "<style scoped>\n",
              "    .dataframe tbody tr th:only-of-type {\n",
              "        vertical-align: middle;\n",
              "    }\n",
              "\n",
              "    .dataframe tbody tr th {\n",
              "        vertical-align: top;\n",
              "    }\n",
              "\n",
              "    .dataframe thead th {\n",
              "        text-align: right;\n",
              "    }\n",
              "</style>\n",
              "<table border=\"1\" class=\"dataframe\">\n",
              "  <thead>\n",
              "    <tr style=\"text-align: right;\">\n",
              "      <th></th>\n",
              "      <th>id</th>\n",
              "      <th>name</th>\n",
              "      <th>license_id</th>\n",
              "      <th>address_number</th>\n",
              "      <th>address_street_name</th>\n",
              "      <th>ssn</th>\n",
              "    </tr>\n",
              "  </thead>\n",
              "  <tbody>\n",
              "    <tr>\n",
              "      <th>0</th>\n",
              "      <td>16371</td>\n",
              "      <td>Annabel Miller</td>\n",
              "      <td>490173</td>\n",
              "      <td>103</td>\n",
              "      <td>Franklin Ave</td>\n",
              "      <td>318771143</td>\n",
              "    </tr>\n",
              "  </tbody>\n",
              "</table>\n",
              "</div>"
            ],
            "text/plain": [
              "      id            name  license_id  address_number address_street_name  \\\n",
              "0  16371  Annabel Miller      490173             103        Franklin Ave   \n",
              "\n",
              "         ssn  \n",
              "0  318771143  "
            ]
          },
          "execution_count": 34,
          "metadata": {},
          "output_type": "execute_result"
        }
      ],
      "source": [
        "query =\"\"\"\n",
        "select * from person where name like '%Annabel%' and address_street_name like '%Franklin Ave%'\n",
        "\"\"\"\n",
=======
      "outputs": [],
      "source": [
        "query =''\n",
>>>>>>> 4342c51dc31d6e48a68248542912a9413afe0fba
        "\n",
        "ejecutar_query(query=query)"
      ]
    },
    {
      "cell_type": "code",
<<<<<<< HEAD
      "execution_count": 43,
      "metadata": {},
      "outputs": [
        {
          "data": {
            "text/html": [
              "<div>\n",
              "<style scoped>\n",
              "    .dataframe tbody tr th:only-of-type {\n",
              "        vertical-align: middle;\n",
              "    }\n",
              "\n",
              "    .dataframe tbody tr th {\n",
              "        vertical-align: top;\n",
              "    }\n",
              "\n",
              "    .dataframe thead th {\n",
              "        text-align: right;\n",
              "    }\n",
              "</style>\n",
              "<table border=\"1\" class=\"dataframe\">\n",
              "  <thead>\n",
              "    <tr style=\"text-align: right;\">\n",
              "      <th></th>\n",
              "      <th>id</th>\n",
              "      <th>name</th>\n",
              "      <th>license_id</th>\n",
              "      <th>address_number</th>\n",
              "      <th>address_street_name</th>\n",
              "      <th>ssn</th>\n",
              "    </tr>\n",
              "  </thead>\n",
              "  <tbody>\n",
              "    <tr>\n",
              "      <th>0</th>\n",
              "      <td>14887</td>\n",
              "      <td>Morty Schapiro</td>\n",
              "      <td>118009</td>\n",
              "      <td>4919</td>\n",
              "      <td>Northwestern Dr</td>\n",
              "      <td>111564949</td>\n",
              "    </tr>\n",
              "  </tbody>\n",
              "</table>\n",
              "</div>"
            ],
            "text/plain": [
              "      id            name  license_id  address_number address_street_name  \\\n",
              "0  14887  Morty Schapiro      118009            4919     Northwestern Dr   \n",
              "\n",
              "         ssn  \n",
              "0  111564949  "
            ]
          },
          "execution_count": 43,
          "metadata": {},
          "output_type": "execute_result"
        }
      ],
      "source": [
        "query =\"\"\"\n",
        "select * from person where address_street_name = 'Northwestern Dr' order by address_number desc limit 1\n",
        "\"\"\"\n",
        "\n",
        "ejecutar_query(query=query)"
      ]
    },
    {
      "cell_type": "code",
      "execution_count": 45,
=======
      "execution_count": null,
>>>>>>> 4342c51dc31d6e48a68248542912a9413afe0fba
      "metadata": {
        "colab": {
          "base_uri": "https://localhost:8080/",
          "height": 97
        },
        "id": "zgfE-oyR6bEw",
        "outputId": "29909a01-8e0a-4d89-ea81-9c931d1bcb22"
      },
<<<<<<< HEAD
      "outputs": [
        {
          "data": {
            "text/html": [
              "<div>\n",
              "<style scoped>\n",
              "    .dataframe tbody tr th:only-of-type {\n",
              "        vertical-align: middle;\n",
              "    }\n",
              "\n",
              "    .dataframe tbody tr th {\n",
              "        vertical-align: top;\n",
              "    }\n",
              "\n",
              "    .dataframe thead th {\n",
              "        text-align: right;\n",
              "    }\n",
              "</style>\n",
              "<table border=\"1\" class=\"dataframe\">\n",
              "  <thead>\n",
              "    <tr style=\"text-align: right;\">\n",
              "      <th></th>\n",
              "      <th>person_id</th>\n",
              "      <th>transcript</th>\n",
              "    </tr>\n",
              "  </thead>\n",
              "  <tbody>\n",
              "    <tr>\n",
              "      <th>0</th>\n",
              "      <td>16371</td>\n",
              "      <td>I saw the murder happen, and I recognized the killer from my gym when I was working out last week on January the 9th.</td>\n",
              "    </tr>\n",
              "  </tbody>\n",
              "</table>\n",
              "</div>"
            ],
            "text/plain": [
              "   person_id  \\\n",
              "0      16371   \n",
              "\n",
              "                                                                                                              transcript  \n",
              "0  I saw the murder happen, and I recognized the killer from my gym when I was working out last week on January the 9th.  "
            ]
          },
          "execution_count": 45,
          "metadata": {},
          "output_type": "execute_result"
        }
      ],
      "source": [
        "query = \"\"\"\n",
        "select * from interview\n",
        "where person_id = 16371\n",
        "\"\"\"\n",
=======
      "outputs": [],
      "source": [
        "query = \"\"\n",
>>>>>>> 4342c51dc31d6e48a68248542912a9413afe0fba
        "\n",
        "ejecutar_query(query=query)"
      ]
    },
    {
      "cell_type": "code",
<<<<<<< HEAD
      "execution_count": 46,
      "metadata": {},
      "outputs": [
        {
          "data": {
            "text/html": [
              "<div>\n",
              "<style scoped>\n",
              "    .dataframe tbody tr th:only-of-type {\n",
              "        vertical-align: middle;\n",
              "    }\n",
              "\n",
              "    .dataframe tbody tr th {\n",
              "        vertical-align: top;\n",
              "    }\n",
              "\n",
              "    .dataframe thead th {\n",
              "        text-align: right;\n",
              "    }\n",
              "</style>\n",
              "<table border=\"1\" class=\"dataframe\">\n",
              "  <thead>\n",
              "    <tr style=\"text-align: right;\">\n",
              "      <th></th>\n",
              "      <th>person_id</th>\n",
              "      <th>transcript</th>\n",
              "    </tr>\n",
              "  </thead>\n",
              "  <tbody>\n",
              "    <tr>\n",
              "      <th>0</th>\n",
              "      <td>14887</td>\n",
              "      <td>I heard a gunshot and then saw a man run out. He had a \"Get Fit Now Gym\" bag. The membership number on the bag started with \"48Z\". Only gold members have those bags. The man got into a car with a plate that included \"H42W\".</td>\n",
              "    </tr>\n",
              "  </tbody>\n",
              "</table>\n",
              "</div>"
            ],
            "text/plain": [
              "   person_id  \\\n",
              "0      14887   \n",
              "\n",
              "                                                                                                                                                                                                                        transcript  \n",
              "0  I heard a gunshot and then saw a man run out. He had a \"Get Fit Now Gym\" bag. The membership number on the bag started with \"48Z\". Only gold members have those bags. The man got into a car with a plate that included \"H42W\".  "
            ]
          },
          "execution_count": 46,
          "metadata": {},
          "output_type": "execute_result"
        }
      ],
      "source": [
        "query = \"\"\"\n",
        "select * from interview\n",
        "where person_id = 14887\n",
        "\"\"\"\n",
        "\n",
        "ejecutar_query(query=query)"
      ]
    },
    {
      "cell_type": "code",
      "execution_count": 49,
=======
      "execution_count": null,
>>>>>>> 4342c51dc31d6e48a68248542912a9413afe0fba
      "metadata": {
        "colab": {
          "base_uri": "https://localhost:8080/",
          "height": 159
        },
        "id": "QSXZaaiVY87_",
        "outputId": "a4c1a398-2a5d-4f4b-f0df-d354442c1a40"
      },
<<<<<<< HEAD
      "outputs": [
        {
          "data": {
            "text/html": [
              "<div>\n",
              "<style scoped>\n",
              "    .dataframe tbody tr th:only-of-type {\n",
              "        vertical-align: middle;\n",
              "    }\n",
              "\n",
              "    .dataframe tbody tr th {\n",
              "        vertical-align: top;\n",
              "    }\n",
              "\n",
              "    .dataframe thead th {\n",
              "        text-align: right;\n",
              "    }\n",
              "</style>\n",
              "<table border=\"1\" class=\"dataframe\">\n",
              "  <thead>\n",
              "    <tr style=\"text-align: right;\">\n",
              "      <th></th>\n",
              "      <th>membership_id</th>\n",
              "      <th>check_in_date</th>\n",
              "      <th>check_in_time</th>\n",
              "      <th>check_out_time</th>\n",
              "    </tr>\n",
              "  </thead>\n",
              "  <tbody>\n",
              "    <tr>\n",
              "      <th>0</th>\n",
              "      <td>48Z7A</td>\n",
              "      <td>20180109</td>\n",
              "      <td>1600</td>\n",
              "      <td>1730</td>\n",
              "    </tr>\n",
              "    <tr>\n",
              "      <th>1</th>\n",
              "      <td>48Z55</td>\n",
              "      <td>20180109</td>\n",
              "      <td>1530</td>\n",
              "      <td>1700</td>\n",
              "    </tr>\n",
              "  </tbody>\n",
              "</table>\n",
              "</div>"
            ],
            "text/plain": [
              "  membership_id  check_in_date  check_in_time  check_out_time\n",
              "0         48Z7A       20180109           1600            1730\n",
              "1         48Z55       20180109           1530            1700"
            ]
          },
          "execution_count": 49,
          "metadata": {},
          "output_type": "execute_result"
        }
      ],
      "source": [
        "query= \"\"\"\n",
        "select * from get_fit_now_check_in\n",
        "where check_in_date = 20180109\n",
        "and membership_id like '%48Z%'\n",
        "\"\"\"\n",
=======
      "outputs": [],
      "source": [
        "query= ''\n",
>>>>>>> 4342c51dc31d6e48a68248542912a9413afe0fba
        "\n",
        "ejecutar_query(query=query)"
      ]
    },
    {
      "cell_type": "code",
<<<<<<< HEAD
      "execution_count": 55,
=======
      "execution_count": null,
>>>>>>> 4342c51dc31d6e48a68248542912a9413afe0fba
      "metadata": {
        "colab": {
          "base_uri": "https://localhost:8080/",
          "height": 97
        },
        "id": "-bmjZbx1ZonS",
        "outputId": "00762230-f24f-4bb8-9b8c-3cb1fa1dcc51"
      },
<<<<<<< HEAD
      "outputs": [
        {
          "data": {
            "text/html": [
              "<div>\n",
              "<style scoped>\n",
              "    .dataframe tbody tr th:only-of-type {\n",
              "        vertical-align: middle;\n",
              "    }\n",
              "\n",
              "    .dataframe tbody tr th {\n",
              "        vertical-align: top;\n",
              "    }\n",
              "\n",
              "    .dataframe thead th {\n",
              "        text-align: right;\n",
              "    }\n",
              "</style>\n",
              "<table border=\"1\" class=\"dataframe\">\n",
              "  <thead>\n",
              "    <tr style=\"text-align: right;\">\n",
              "      <th></th>\n",
              "      <th>id</th>\n",
              "      <th>person_id</th>\n",
              "      <th>name</th>\n",
              "      <th>membership_start_date</th>\n",
              "      <th>membership_status</th>\n",
              "    </tr>\n",
              "  </thead>\n",
              "  <tbody>\n",
              "    <tr>\n",
              "      <th>0</th>\n",
              "      <td>48Z7A</td>\n",
              "      <td>28819</td>\n",
              "      <td>Joe Germuska</td>\n",
              "      <td>20160305</td>\n",
              "      <td>gold</td>\n",
              "    </tr>\n",
              "    <tr>\n",
              "      <th>1</th>\n",
              "      <td>48Z55</td>\n",
              "      <td>67318</td>\n",
              "      <td>Jeremy Bowers</td>\n",
              "      <td>20160101</td>\n",
              "      <td>gold</td>\n",
              "    </tr>\n",
              "  </tbody>\n",
              "</table>\n",
              "</div>"
            ],
            "text/plain": [
              "      id  person_id           name  membership_start_date membership_status\n",
              "0  48Z7A      28819   Joe Germuska               20160305              gold\n",
              "1  48Z55      67318  Jeremy Bowers               20160101              gold"
            ]
          },
          "execution_count": 55,
          "metadata": {},
          "output_type": "execute_result"
        }
      ],
      "source": [
        "query= \"\"\"\n",
        "select * from get_fit_now_member\n",
        "where membership_status = 'gold'\n",
        "and id like '%48Z%'\n",
        "\"\"\"\n",
=======
      "outputs": [],
      "source": [
        "query= ''\n",
>>>>>>> 4342c51dc31d6e48a68248542912a9413afe0fba
        "\n",
        "ejecutar_query(query=query)"
      ]
    },
    {
      "cell_type": "code",
<<<<<<< HEAD
      "execution_count": 58,
=======
      "execution_count": null,
>>>>>>> 4342c51dc31d6e48a68248542912a9413afe0fba
      "metadata": {
        "colab": {
          "base_uri": "https://localhost:8080/",
          "height": 97
        },
        "id": "hJRXJmuraJfJ",
        "outputId": "6ef2728b-de42-4f29-86ff-d3a7b324312c"
      },
<<<<<<< HEAD
      "outputs": [
        {
          "data": {
            "text/html": [
              "<div>\n",
              "<style scoped>\n",
              "    .dataframe tbody tr th:only-of-type {\n",
              "        vertical-align: middle;\n",
              "    }\n",
              "\n",
              "    .dataframe tbody tr th {\n",
              "        vertical-align: top;\n",
              "    }\n",
              "\n",
              "    .dataframe thead th {\n",
              "        text-align: right;\n",
              "    }\n",
              "</style>\n",
              "<table border=\"1\" class=\"dataframe\">\n",
              "  <thead>\n",
              "    <tr style=\"text-align: right;\">\n",
              "      <th></th>\n",
              "      <th>person_id</th>\n",
              "      <th>event_id</th>\n",
              "      <th>event_name</th>\n",
              "      <th>date</th>\n",
              "    </tr>\n",
              "  </thead>\n",
              "  <tbody>\n",
              "    <tr>\n",
              "      <th>0</th>\n",
              "      <td>67318</td>\n",
              "      <td>4719</td>\n",
              "      <td>The Funky Grooves Tour</td>\n",
              "      <td>20180115</td>\n",
              "    </tr>\n",
              "    <tr>\n",
              "      <th>1</th>\n",
              "      <td>67318</td>\n",
              "      <td>1143</td>\n",
              "      <td>SQL Symphony Concert</td>\n",
              "      <td>20171206</td>\n",
              "    </tr>\n",
              "  </tbody>\n",
              "</table>\n",
              "</div>"
            ],
            "text/plain": [
              "   person_id  event_id              event_name      date\n",
              "0      67318      4719  The Funky Grooves Tour  20180115\n",
              "1      67318      1143    SQL Symphony Concert  20171206"
            ]
          },
          "execution_count": 58,
          "metadata": {},
          "output_type": "execute_result"
        }
      ],
      "source": [
        "query= \"\"\"\n",
        "select * from facebook_event_checkin\n",
        "where person_id = 67318\n",
        "\"\"\"\n",
=======
      "outputs": [],
      "source": [
        "query= ''\n",
>>>>>>> 4342c51dc31d6e48a68248542912a9413afe0fba
        "\n",
        "ejecutar_query(query=query)"
      ]
    },
    {
      "cell_type": "code",
<<<<<<< HEAD
      "execution_count": 60,
=======
      "execution_count": null,
>>>>>>> 4342c51dc31d6e48a68248542912a9413afe0fba
      "metadata": {
        "colab": {
          "base_uri": "https://localhost:8080/",
          "height": 97
        },
        "id": "cVdeElzqa968",
        "outputId": "5678aae8-53af-4c6c-b35b-993f24b815ae"
      },
<<<<<<< HEAD
      "outputs": [
        {
          "data": {
            "text/html": [
              "<div>\n",
              "<style scoped>\n",
              "    .dataframe tbody tr th:only-of-type {\n",
              "        vertical-align: middle;\n",
              "    }\n",
              "\n",
              "    .dataframe tbody tr th {\n",
              "        vertical-align: top;\n",
              "    }\n",
              "\n",
              "    .dataframe thead th {\n",
              "        text-align: right;\n",
              "    }\n",
              "</style>\n",
              "<table border=\"1\" class=\"dataframe\">\n",
              "  <thead>\n",
              "    <tr style=\"text-align: right;\">\n",
              "      <th></th>\n",
              "      <th>ssn</th>\n",
              "      <th>annual_income</th>\n",
              "    </tr>\n",
              "  </thead>\n",
              "  <tbody>\n",
              "    <tr>\n",
              "      <th>0</th>\n",
              "      <td>100009868</td>\n",
              "      <td>52200</td>\n",
              "    </tr>\n",
              "    <tr>\n",
              "      <th>1</th>\n",
              "      <td>100169584</td>\n",
              "      <td>64500</td>\n",
              "    </tr>\n",
              "    <tr>\n",
              "      <th>2</th>\n",
              "      <td>100300433</td>\n",
              "      <td>74400</td>\n",
              "    </tr>\n",
              "    <tr>\n",
              "      <th>3</th>\n",
              "      <td>100355733</td>\n",
              "      <td>35900</td>\n",
              "    </tr>\n",
              "    <tr>\n",
              "      <th>4</th>\n",
              "      <td>100366269</td>\n",
              "      <td>73000</td>\n",
              "    </tr>\n",
              "    <tr>\n",
              "      <th>...</th>\n",
              "      <td>...</td>\n",
              "      <td>...</td>\n",
              "    </tr>\n",
              "    <tr>\n",
              "      <th>7509</th>\n",
              "      <td>999679296</td>\n",
              "      <td>54400</td>\n",
              "    </tr>\n",
              "    <tr>\n",
              "      <th>7510</th>\n",
              "      <td>999762859</td>\n",
              "      <td>77000</td>\n",
              "    </tr>\n",
              "    <tr>\n",
              "      <th>7511</th>\n",
              "      <td>999824984</td>\n",
              "      <td>82000</td>\n",
              "    </tr>\n",
              "    <tr>\n",
              "      <th>7512</th>\n",
              "      <td>999910617</td>\n",
              "      <td>82600</td>\n",
              "    </tr>\n",
              "    <tr>\n",
              "      <th>7513</th>\n",
              "      <td>999942603</td>\n",
              "      <td>11500</td>\n",
              "    </tr>\n",
              "  </tbody>\n",
              "</table>\n",
              "<p>7514 rows × 2 columns</p>\n",
              "</div>"
            ],
            "text/plain": [
              "            ssn  annual_income\n",
              "0     100009868          52200\n",
              "1     100169584          64500\n",
              "2     100300433          74400\n",
              "3     100355733          35900\n",
              "4     100366269          73000\n",
              "...         ...            ...\n",
              "7509  999679296          54400\n",
              "7510  999762859          77000\n",
              "7511  999824984          82000\n",
              "7512  999910617          82600\n",
              "7513  999942603          11500\n",
              "\n",
              "[7514 rows x 2 columns]"
            ]
          },
          "execution_count": 60,
          "metadata": {},
          "output_type": "execute_result"
        }
      ],
      "source": [
        "query= \"\"\"\n",
        "select * from income\n",
        "\"\"\"\n",
=======
      "outputs": [],
      "source": [
        "query= ''\n",
>>>>>>> 4342c51dc31d6e48a68248542912a9413afe0fba
        "\n",
        "ejecutar_query(query=query)"
      ]
    },
    {
      "cell_type": "code",
<<<<<<< HEAD
      "execution_count": 69,
=======
      "execution_count": null,
>>>>>>> 4342c51dc31d6e48a68248542912a9413afe0fba
      "metadata": {
        "colab": {
          "base_uri": "https://localhost:8080/",
          "height": 128
        },
        "id": "hRBWuE-Ec8TO",
        "outputId": "74eb542d-4704-4d64-844e-77be4e19b728"
      },
<<<<<<< HEAD
      "outputs": [
        {
          "data": {
            "text/html": [
              "<div>\n",
              "<style scoped>\n",
              "    .dataframe tbody tr th:only-of-type {\n",
              "        vertical-align: middle;\n",
              "    }\n",
              "\n",
              "    .dataframe tbody tr th {\n",
              "        vertical-align: top;\n",
              "    }\n",
              "\n",
              "    .dataframe thead th {\n",
              "        text-align: right;\n",
              "    }\n",
              "</style>\n",
              "<table border=\"1\" class=\"dataframe\">\n",
              "  <thead>\n",
              "    <tr style=\"text-align: right;\">\n",
              "      <th></th>\n",
              "      <th>id</th>\n",
              "      <th>name</th>\n",
              "      <th>license_id</th>\n",
              "      <th>address_number</th>\n",
              "      <th>address_street_name</th>\n",
              "      <th>ssn</th>\n",
              "    </tr>\n",
              "  </thead>\n",
              "  <tbody>\n",
              "    <tr>\n",
              "      <th>0</th>\n",
              "      <td>66700</td>\n",
              "      <td>Shelby Bowersock</td>\n",
              "      <td>887825</td>\n",
              "      <td>1518</td>\n",
              "      <td>Carberry Dr</td>\n",
              "      <td>519286420</td>\n",
              "    </tr>\n",
              "    <tr>\n",
              "      <th>1</th>\n",
              "      <td>67318</td>\n",
              "      <td>Jeremy Bowers</td>\n",
              "      <td>423327</td>\n",
              "      <td>530</td>\n",
              "      <td>Washington Pl, Apt 3A</td>\n",
              "      <td>871539279</td>\n",
              "    </tr>\n",
              "    <tr>\n",
              "      <th>2</th>\n",
              "      <td>93975</td>\n",
              "      <td>Boyce Bowersmith</td>\n",
              "      <td>604820</td>\n",
              "      <td>1003</td>\n",
              "      <td>Callington Blvd</td>\n",
              "      <td>299785370</td>\n",
              "    </tr>\n",
              "  </tbody>\n",
              "</table>\n",
              "</div>"
            ],
            "text/plain": [
              "      id              name  license_id  address_number    address_street_name  \\\n",
              "0  66700  Shelby Bowersock      887825            1518            Carberry Dr   \n",
              "1  67318     Jeremy Bowers      423327             530  Washington Pl, Apt 3A   \n",
              "2  93975  Boyce Bowersmith      604820            1003        Callington Blvd   \n",
              "\n",
              "         ssn  \n",
              "0  519286420  \n",
              "1  871539279  \n",
              "2  299785370  "
            ]
          },
          "execution_count": 69,
          "metadata": {},
          "output_type": "execute_result"
        }
      ],
      "source": [
        "query= \"\"\"\n",
        "select * from person\n",
        "where name like '%Bowers%'\n",
        "\"\"\"\n",
        "\n",
        "ejecutar_query(query=query)"
      ]
    },
    {
      "cell_type": "code",
      "execution_count": 70,
      "metadata": {},
      "outputs": [
        {
          "data": {
            "text/html": [
              "<div>\n",
              "<style scoped>\n",
              "    .dataframe tbody tr th:only-of-type {\n",
              "        vertical-align: middle;\n",
              "    }\n",
              "\n",
              "    .dataframe tbody tr th {\n",
              "        vertical-align: top;\n",
              "    }\n",
              "\n",
              "    .dataframe thead th {\n",
              "        text-align: right;\n",
              "    }\n",
              "</style>\n",
              "<table border=\"1\" class=\"dataframe\">\n",
              "  <thead>\n",
              "    <tr style=\"text-align: right;\">\n",
              "      <th></th>\n",
              "      <th>id</th>\n",
              "      <th>name</th>\n",
              "      <th>license_id</th>\n",
              "      <th>address_number</th>\n",
              "      <th>address_street_name</th>\n",
              "      <th>ssn</th>\n",
              "    </tr>\n",
              "  </thead>\n",
              "  <tbody>\n",
              "    <tr>\n",
              "      <th>0</th>\n",
              "      <td>28819</td>\n",
              "      <td>Joe Germuska</td>\n",
              "      <td>173289</td>\n",
              "      <td>111</td>\n",
              "      <td>Fisk Rd</td>\n",
              "      <td>138909730</td>\n",
              "    </tr>\n",
              "  </tbody>\n",
              "</table>\n",
              "</div>"
            ],
            "text/plain": [
              "      id          name  license_id  address_number address_street_name  \\\n",
              "0  28819  Joe Germuska      173289             111             Fisk Rd   \n",
              "\n",
              "         ssn  \n",
              "0  138909730  "
            ]
          },
          "execution_count": 70,
          "metadata": {},
          "output_type": "execute_result"
        }
      ],
      "source": [
        "query= \"\"\"\n",
        "select * from person\n",
        "where name like '%Germuska%'\n",
        "\"\"\"\n",
        "\n",
        "ejecutar_query(query=query)"
      ]
    },
    {
      "cell_type": "code",
      "execution_count": 74,
      "metadata": {},
      "outputs": [
        {
          "data": {
            "text/html": [
              "<div>\n",
              "<style scoped>\n",
              "    .dataframe tbody tr th:only-of-type {\n",
              "        vertical-align: middle;\n",
              "    }\n",
              "\n",
              "    .dataframe tbody tr th {\n",
              "        vertical-align: top;\n",
              "    }\n",
              "\n",
              "    .dataframe thead th {\n",
              "        text-align: right;\n",
              "    }\n",
              "</style>\n",
              "<table border=\"1\" class=\"dataframe\">\n",
              "  <thead>\n",
              "    <tr style=\"text-align: right;\">\n",
              "      <th></th>\n",
              "      <th>ssn</th>\n",
              "      <th>annual_income</th>\n",
              "    </tr>\n",
              "  </thead>\n",
              "  <tbody>\n",
              "    <tr>\n",
              "      <th>0</th>\n",
              "      <td>871539279</td>\n",
              "      <td>10500</td>\n",
              "    </tr>\n",
              "  </tbody>\n",
              "</table>\n",
              "</div>"
            ],
            "text/plain": [
              "         ssn  annual_income\n",
              "0  871539279          10500"
            ]
          },
          "execution_count": 74,
          "metadata": {},
          "output_type": "execute_result"
        }
      ],
      "source": [
        "# YEARS INCOME OF JEREMY BOWERS\n",
        "\n",
        "query= \"\"\"\n",
        "select * from income\n",
        "where ssn = 871539279\n",
        "\"\"\"\n",
        "\n",
        "ejecutar_query(query=query)"
      ]
    },
    {
      "cell_type": "code",
      "execution_count": 77,
      "metadata": {},
      "outputs": [
        {
          "data": {
            "text/html": [
              "<div>\n",
              "<style scoped>\n",
              "    .dataframe tbody tr th:only-of-type {\n",
              "        vertical-align: middle;\n",
              "    }\n",
              "\n",
              "    .dataframe tbody tr th {\n",
              "        vertical-align: top;\n",
              "    }\n",
              "\n",
              "    .dataframe thead th {\n",
              "        text-align: right;\n",
              "    }\n",
              "</style>\n",
              "<table border=\"1\" class=\"dataframe\">\n",
              "  <thead>\n",
              "    <tr style=\"text-align: right;\">\n",
              "      <th></th>\n",
              "      <th>ssn</th>\n",
              "      <th>annual_income</th>\n",
              "    </tr>\n",
              "  </thead>\n",
              "  <tbody>\n",
              "  </tbody>\n",
              "</table>\n",
              "</div>"
            ],
            "text/plain": [
              "Empty DataFrame\n",
              "Columns: [ssn, annual_income]\n",
              "Index: []"
            ]
          },
          "execution_count": 77,
          "metadata": {},
          "output_type": "execute_result"
        }
      ],
      "source": [
        "# YEARS INCOME OF JOE GERMUSKA\n",
        "\n",
        "query= \"\"\"\n",
        "select * from income\n",
        "where ssn = 138909730\n",
        "\"\"\"\n",
        "\n",
        "ejecutar_query(query=query)"
      ]
    },
    {
      "cell_type": "code",
      "execution_count": 80,
      "metadata": {},
      "outputs": [
        {
          "data": {
            "text/html": [
              "<div>\n",
              "<style scoped>\n",
              "    .dataframe tbody tr th:only-of-type {\n",
              "        vertical-align: middle;\n",
              "    }\n",
              "\n",
              "    .dataframe tbody tr th {\n",
              "        vertical-align: top;\n",
              "    }\n",
              "\n",
              "    .dataframe thead th {\n",
              "        text-align: right;\n",
              "    }\n",
              "</style>\n",
              "<table border=\"1\" class=\"dataframe\">\n",
              "  <thead>\n",
              "    <tr style=\"text-align: right;\">\n",
              "      <th></th>\n",
              "      <th>id</th>\n",
              "      <th>age</th>\n",
              "      <th>height</th>\n",
              "      <th>eye_color</th>\n",
              "      <th>hair_color</th>\n",
              "      <th>gender</th>\n",
              "      <th>plate_number</th>\n",
              "      <th>car_make</th>\n",
              "      <th>car_model</th>\n",
              "    </tr>\n",
              "  </thead>\n",
              "  <tbody>\n",
              "    <tr>\n",
              "      <th>0</th>\n",
              "      <td>183779</td>\n",
              "      <td>21</td>\n",
              "      <td>65</td>\n",
              "      <td>blue</td>\n",
              "      <td>blonde</td>\n",
              "      <td>female</td>\n",
              "      <td>H42W0X</td>\n",
              "      <td>Toyota</td>\n",
              "      <td>Prius</td>\n",
              "    </tr>\n",
              "    <tr>\n",
              "      <th>1</th>\n",
              "      <td>423327</td>\n",
              "      <td>30</td>\n",
              "      <td>70</td>\n",
              "      <td>brown</td>\n",
              "      <td>brown</td>\n",
              "      <td>male</td>\n",
              "      <td>0H42W2</td>\n",
              "      <td>Chevrolet</td>\n",
              "      <td>Spark LS</td>\n",
              "    </tr>\n",
              "    <tr>\n",
              "      <th>2</th>\n",
              "      <td>664760</td>\n",
              "      <td>21</td>\n",
              "      <td>71</td>\n",
              "      <td>black</td>\n",
              "      <td>black</td>\n",
              "      <td>male</td>\n",
              "      <td>4H42WR</td>\n",
              "      <td>Nissan</td>\n",
              "      <td>Altima</td>\n",
              "    </tr>\n",
              "  </tbody>\n",
              "</table>\n",
              "</div>"
            ],
            "text/plain": [
              "       id  age  height eye_color hair_color  gender plate_number   car_make  \\\n",
              "0  183779   21      65      blue     blonde  female       H42W0X     Toyota   \n",
              "1  423327   30      70     brown      brown    male       0H42W2  Chevrolet   \n",
              "2  664760   21      71     black      black    male       4H42WR     Nissan   \n",
              "\n",
              "  car_model  \n",
              "0     Prius  \n",
              "1  Spark LS  \n",
              "2    Altima  "
            ]
          },
          "execution_count": 80,
          "metadata": {},
          "output_type": "execute_result"
        }
      ],
      "source": [
        "query= \"\"\"\n",
        "select * from drivers_license\n",
        "where plate_number like '%H42W%'\n",
        "\"\"\"\n",
        "\n",
        "ejecutar_query(query=query)"
      ]
    },
    {
      "cell_type": "code",
      "execution_count": null,
      "metadata": {},
      "outputs": [],
      "source": [
        "query= \"\"\"\n",
        "select * from drivers_license\n",
        "where plate_number like '%H42W%'\n",
        "\"\"\"\n",
        "\n",
        "ejecutar_query(query=query)"
      ]
    },
    {
      "cell_type": "code",
      "execution_count": 83,
      "metadata": {},
      "outputs": [
        {
          "data": {
            "text/html": [
              "<div>\n",
              "<style scoped>\n",
              "    .dataframe tbody tr th:only-of-type {\n",
              "        vertical-align: middle;\n",
              "    }\n",
              "\n",
              "    .dataframe tbody tr th {\n",
              "        vertical-align: top;\n",
              "    }\n",
              "\n",
              "    .dataframe thead th {\n",
              "        text-align: right;\n",
              "    }\n",
              "</style>\n",
              "<table border=\"1\" class=\"dataframe\">\n",
              "  <thead>\n",
              "    <tr style=\"text-align: right;\">\n",
              "      <th></th>\n",
              "      <th>person_id</th>\n",
              "      <th>transcript</th>\n",
              "    </tr>\n",
              "  </thead>\n",
              "  <tbody>\n",
              "    <tr>\n",
              "      <th>0</th>\n",
              "      <td>67318</td>\n",
              "      <td>I was hired by a woman with a lot of money. I don't know her name but I know she's around 5'5\" (65\") or 5'7\" (67\"). She has red hair and she drives a Tesla Model S. I know that she attended the SQL Symphony Concert 3 times in December 2017.\\n</td>\n",
              "    </tr>\n",
              "  </tbody>\n",
              "</table>\n",
              "</div>"
            ],
            "text/plain": [
              "   person_id  \\\n",
              "0      67318   \n",
              "\n",
              "                                                                                                                                                                                                                                           transcript  \n",
              "0  I was hired by a woman with a lot of money. I don't know her name but I know she's around 5'5\" (65\") or 5'7\" (67\"). She has red hair and she drives a Tesla Model S. I know that she attended the SQL Symphony Concert 3 times in December 2017.\\n  "
            ]
          },
          "execution_count": 83,
          "metadata": {},
          "output_type": "execute_result"
        }
      ],
      "source": [
        "# INTERVIEW OF JEREMY BOWERS\n",
        "\n",
        "query= \"\"\"\n",
        "select * from interview\n",
        "where person_id = 67318 \n",
        "\"\"\"\n",
        "\n",
        "ejecutar_query(query=query)"
      ]
    },
    {
      "cell_type": "code",
      "execution_count": 92,
      "metadata": {},
      "outputs": [
        {
          "data": {
            "text/html": [
              "<div>\n",
              "<style scoped>\n",
              "    .dataframe tbody tr th:only-of-type {\n",
              "        vertical-align: middle;\n",
              "    }\n",
              "\n",
              "    .dataframe tbody tr th {\n",
              "        vertical-align: top;\n",
              "    }\n",
              "\n",
              "    .dataframe thead th {\n",
              "        text-align: right;\n",
              "    }\n",
              "</style>\n",
              "<table border=\"1\" class=\"dataframe\">\n",
              "  <thead>\n",
              "    <tr style=\"text-align: right;\">\n",
              "      <th></th>\n",
              "      <th>id</th>\n",
              "      <th>age</th>\n",
              "      <th>height</th>\n",
              "      <th>eye_color</th>\n",
              "      <th>hair_color</th>\n",
              "      <th>gender</th>\n",
              "      <th>plate_number</th>\n",
              "      <th>car_make</th>\n",
              "      <th>car_model</th>\n",
              "    </tr>\n",
              "  </thead>\n",
              "  <tbody>\n",
              "    <tr>\n",
              "      <th>0</th>\n",
              "      <td>202298</td>\n",
              "      <td>68</td>\n",
              "      <td>66</td>\n",
              "      <td>green</td>\n",
              "      <td>red</td>\n",
              "      <td>female</td>\n",
              "      <td>500123</td>\n",
              "      <td>Tesla</td>\n",
              "      <td>Model S</td>\n",
              "    </tr>\n",
              "    <tr>\n",
              "      <th>1</th>\n",
              "      <td>291182</td>\n",
              "      <td>65</td>\n",
              "      <td>66</td>\n",
              "      <td>blue</td>\n",
              "      <td>red</td>\n",
              "      <td>female</td>\n",
              "      <td>08CM64</td>\n",
              "      <td>Tesla</td>\n",
              "      <td>Model S</td>\n",
              "    </tr>\n",
              "    <tr>\n",
              "      <th>2</th>\n",
              "      <td>918773</td>\n",
              "      <td>48</td>\n",
              "      <td>65</td>\n",
              "      <td>black</td>\n",
              "      <td>red</td>\n",
              "      <td>female</td>\n",
              "      <td>917UU3</td>\n",
              "      <td>Tesla</td>\n",
              "      <td>Model S</td>\n",
              "    </tr>\n",
              "  </tbody>\n",
              "</table>\n",
              "</div>"
            ],
            "text/plain": [
              "       id  age  height eye_color hair_color  gender plate_number car_make  \\\n",
              "0  202298   68      66     green        red  female       500123    Tesla   \n",
              "1  291182   65      66      blue        red  female       08CM64    Tesla   \n",
              "2  918773   48      65     black        red  female       917UU3    Tesla   \n",
              "\n",
              "  car_model  \n",
              "0   Model S  \n",
              "1   Model S  \n",
              "2   Model S  "
            ]
          },
          "execution_count": 92,
          "metadata": {},
          "output_type": "execute_result"
        }
      ],
      "source": [
        "query= \"\"\"\n",
        "select * from drivers_license\n",
        "where hair_color = 'red'\n",
        "and gender = 'female'\n",
        "and height >= 65\n",
        "and height <= 67\n",
        "and car_make = 'Tesla'\n",
        "\"\"\"\n",
        "\n",
        "ejecutar_query(query=query)"
      ]
    },
    {
      "cell_type": "code",
      "execution_count": 103,
      "metadata": {},
      "outputs": [
        {
          "data": {
            "text/html": [
              "<div>\n",
              "<style scoped>\n",
              "    .dataframe tbody tr th:only-of-type {\n",
              "        vertical-align: middle;\n",
              "    }\n",
              "\n",
              "    .dataframe tbody tr th {\n",
              "        vertical-align: top;\n",
              "    }\n",
              "\n",
              "    .dataframe thead th {\n",
              "        text-align: right;\n",
              "    }\n",
              "</style>\n",
              "<table border=\"1\" class=\"dataframe\">\n",
              "  <thead>\n",
              "    <tr style=\"text-align: right;\">\n",
              "      <th></th>\n",
              "      <th>name</th>\n",
              "      <th>ssn</th>\n",
              "    </tr>\n",
              "  </thead>\n",
              "  <tbody>\n",
              "    <tr>\n",
              "      <th>0</th>\n",
              "      <td>Red Korb</td>\n",
              "      <td>961388910</td>\n",
              "    </tr>\n",
              "    <tr>\n",
              "      <th>1</th>\n",
              "      <td>Regina George</td>\n",
              "      <td>337169072</td>\n",
              "    </tr>\n",
              "    <tr>\n",
              "      <th>2</th>\n",
              "      <td>Miranda Priestly</td>\n",
              "      <td>987756388</td>\n",
              "    </tr>\n",
              "  </tbody>\n",
              "</table>\n",
              "</div>"
            ],
            "text/plain": [
              "               name        ssn\n",
              "0          Red Korb  961388910\n",
              "1     Regina George  337169072\n",
              "2  Miranda Priestly  987756388"
            ]
          },
          "execution_count": 103,
          "metadata": {},
          "output_type": "execute_result"
        }
      ],
      "source": [
        "query= \"\"\"\n",
        "select name, ssn from person\n",
        "where license_id in (202298,291182,918773)\n",
        "\"\"\"\n",
        "\n",
        "ejecutar_query(query=query)"
      ]
    },
    {
      "cell_type": "code",
      "execution_count": 109,
      "metadata": {},
      "outputs": [
        {
          "data": {
            "text/html": [
              "<div>\n",
              "<style scoped>\n",
              "    .dataframe tbody tr th:only-of-type {\n",
              "        vertical-align: middle;\n",
              "    }\n",
              "\n",
              "    .dataframe tbody tr th {\n",
              "        vertical-align: top;\n",
              "    }\n",
              "\n",
              "    .dataframe thead th {\n",
              "        text-align: right;\n",
              "    }\n",
              "</style>\n",
              "<table border=\"1\" class=\"dataframe\">\n",
              "  <thead>\n",
              "    <tr style=\"text-align: right;\">\n",
              "      <th></th>\n",
              "      <th>ssn</th>\n",
              "      <th>annual_income</th>\n",
              "    </tr>\n",
              "  </thead>\n",
              "  <tbody>\n",
              "    <tr>\n",
              "      <th>0</th>\n",
              "      <td>987756388</td>\n",
              "      <td>310000</td>\n",
              "    </tr>\n",
              "  </tbody>\n",
              "</table>\n",
              "</div>"
            ],
            "text/plain": [
              "         ssn  annual_income\n",
              "0  987756388         310000"
            ]
          },
          "execution_count": 109,
          "metadata": {},
          "output_type": "execute_result"
        }
      ],
      "source": [
        "# higher year income Miranda Priestly\n",
        "\n",
        "query= \"\"\"\n",
        "select * from income \n",
        "where ssn = 987756388\n",
        "\"\"\"\n",
        "\n",
        "ejecutar_query(query=query)"
      ]
    },
    {
      "cell_type": "code",
      "execution_count": 119,
      "metadata": {},
      "outputs": [
        {
          "data": {
            "text/html": [
              "<div>\n",
              "<style scoped>\n",
              "    .dataframe tbody tr th:only-of-type {\n",
              "        vertical-align: middle;\n",
              "    }\n",
              "\n",
              "    .dataframe tbody tr th {\n",
              "        vertical-align: top;\n",
              "    }\n",
              "\n",
              "    .dataframe thead th {\n",
              "        text-align: right;\n",
              "    }\n",
              "</style>\n",
              "<table border=\"1\" class=\"dataframe\">\n",
              "  <thead>\n",
              "    <tr style=\"text-align: right;\">\n",
              "      <th></th>\n",
              "      <th>id</th>\n",
              "      <th>name</th>\n",
              "      <th>license_id</th>\n",
              "      <th>address_number</th>\n",
              "      <th>address_street_name</th>\n",
              "      <th>ssn</th>\n",
              "    </tr>\n",
              "  </thead>\n",
              "  <tbody>\n",
              "    <tr>\n",
              "      <th>0</th>\n",
              "      <td>99716</td>\n",
              "      <td>Miranda Priestly</td>\n",
              "      <td>202298</td>\n",
              "      <td>1883</td>\n",
              "      <td>Golden Ave</td>\n",
              "      <td>987756388</td>\n",
              "    </tr>\n",
              "  </tbody>\n",
              "</table>\n",
              "</div>"
            ],
            "text/plain": [
              "      id              name  license_id  address_number address_street_name  \\\n",
              "0  99716  Miranda Priestly      202298            1883          Golden Ave   \n",
              "\n",
              "         ssn  \n",
              "0  987756388  "
            ]
          },
          "execution_count": 119,
          "metadata": {},
          "output_type": "execute_result"
        }
      ],
      "source": [
        "query= \"\"\"\n",
        "select * from person \n",
        "where name like '%Priestly%'\n",
        "\"\"\"\n",
        "\n",
        "ejecutar_query(query=query)"
      ]
    },
    {
      "cell_type": "code",
      "execution_count": 117,
      "metadata": {},
      "outputs": [
        {
          "data": {
            "text/html": [
              "<div>\n",
              "<style scoped>\n",
              "    .dataframe tbody tr th:only-of-type {\n",
              "        vertical-align: middle;\n",
              "    }\n",
              "\n",
              "    .dataframe tbody tr th {\n",
              "        vertical-align: top;\n",
              "    }\n",
              "\n",
              "    .dataframe thead th {\n",
              "        text-align: right;\n",
              "    }\n",
              "</style>\n",
              "<table border=\"1\" class=\"dataframe\">\n",
              "  <thead>\n",
              "    <tr style=\"text-align: right;\">\n",
              "      <th></th>\n",
              "      <th>person_id</th>\n",
              "      <th>transcript</th>\n",
              "    </tr>\n",
              "  </thead>\n",
              "  <tbody>\n",
              "  </tbody>\n",
              "</table>\n",
              "</div>"
            ],
            "text/plain": [
              "Empty DataFrame\n",
              "Columns: [person_id, transcript]\n",
              "Index: []"
            ]
          },
          "execution_count": 117,
          "metadata": {},
          "output_type": "execute_result"
        }
      ],
      "source": [
        "query= \"\"\"\n",
        "select * from interview\n",
        "where person_id = 90700\n",
        "\"\"\"\n",
        "\n",
        "ejecutar_query(query=query)"
      ]
    },
    {
      "cell_type": "code",
      "execution_count": 138,
      "metadata": {},
      "outputs": [
        {
          "data": {
            "text/html": [
              "<div>\n",
              "<style scoped>\n",
              "    .dataframe tbody tr th:only-of-type {\n",
              "        vertical-align: middle;\n",
              "    }\n",
              "\n",
              "    .dataframe tbody tr th {\n",
              "        vertical-align: top;\n",
              "    }\n",
              "\n",
              "    .dataframe thead th {\n",
              "        text-align: right;\n",
              "    }\n",
              "</style>\n",
              "<table border=\"1\" class=\"dataframe\">\n",
              "  <thead>\n",
              "    <tr style=\"text-align: right;\">\n",
              "      <th></th>\n",
              "      <th>count(person_id)</th>\n",
              "      <th>person_id</th>\n",
              "      <th>event_id</th>\n",
              "      <th>event_name</th>\n",
              "      <th>date</th>\n",
              "    </tr>\n",
              "  </thead>\n",
              "  <tbody>\n",
              "    <tr>\n",
              "      <th>0</th>\n",
              "      <td>1</td>\n",
              "      <td>11173</td>\n",
              "      <td>1143</td>\n",
              "      <td>SQL Symphony Concert</td>\n",
              "      <td>20171223</td>\n",
              "    </tr>\n",
              "    <tr>\n",
              "      <th>1</th>\n",
              "      <td>1</td>\n",
              "      <td>19260</td>\n",
              "      <td>1143</td>\n",
              "      <td>SQL Symphony Concert</td>\n",
              "      <td>20171214</td>\n",
              "    </tr>\n",
              "    <tr>\n",
              "      <th>2</th>\n",
              "      <td>1</td>\n",
              "      <td>19292</td>\n",
              "      <td>1143</td>\n",
              "      <td>SQL Symphony Concert</td>\n",
              "      <td>20171213</td>\n",
              "    </tr>\n",
              "    <tr>\n",
              "      <th>3</th>\n",
              "      <td>1</td>\n",
              "      <td>24397</td>\n",
              "      <td>1143</td>\n",
              "      <td>SQL Symphony Concert</td>\n",
              "      <td>20171208</td>\n",
              "    </tr>\n",
              "    <tr>\n",
              "      <th>4</th>\n",
              "      <td>3</td>\n",
              "      <td>24556</td>\n",
              "      <td>1143</td>\n",
              "      <td>SQL Symphony Concert</td>\n",
              "      <td>20171207</td>\n",
              "    </tr>\n",
              "    <tr>\n",
              "      <th>5</th>\n",
              "      <td>2</td>\n",
              "      <td>28582</td>\n",
              "      <td>1143</td>\n",
              "      <td>SQL Symphony Concert</td>\n",
              "      <td>20171220</td>\n",
              "    </tr>\n",
              "    <tr>\n",
              "      <th>6</th>\n",
              "      <td>1</td>\n",
              "      <td>43366</td>\n",
              "      <td>1143</td>\n",
              "      <td>SQL Symphony Concert</td>\n",
              "      <td>20171207</td>\n",
              "    </tr>\n",
              "    <tr>\n",
              "      <th>7</th>\n",
              "      <td>1</td>\n",
              "      <td>58898</td>\n",
              "      <td>1143</td>\n",
              "      <td>SQL Symphony Concert</td>\n",
              "      <td>20171220</td>\n",
              "    </tr>\n",
              "    <tr>\n",
              "      <th>8</th>\n",
              "      <td>1</td>\n",
              "      <td>62596</td>\n",
              "      <td>1143</td>\n",
              "      <td>SQL Symphony Concert</td>\n",
              "      <td>20171225</td>\n",
              "    </tr>\n",
              "    <tr>\n",
              "      <th>9</th>\n",
              "      <td>1</td>\n",
              "      <td>67318</td>\n",
              "      <td>1143</td>\n",
              "      <td>SQL Symphony Concert</td>\n",
              "      <td>20171206</td>\n",
              "    </tr>\n",
              "    <tr>\n",
              "      <th>10</th>\n",
              "      <td>1</td>\n",
              "      <td>69325</td>\n",
              "      <td>1143</td>\n",
              "      <td>SQL Symphony Concert</td>\n",
              "      <td>20171206</td>\n",
              "    </tr>\n",
              "    <tr>\n",
              "      <th>11</th>\n",
              "      <td>1</td>\n",
              "      <td>69699</td>\n",
              "      <td>1143</td>\n",
              "      <td>SQL Symphony Concert</td>\n",
              "      <td>20171214</td>\n",
              "    </tr>\n",
              "    <tr>\n",
              "      <th>12</th>\n",
              "      <td>1</td>\n",
              "      <td>79312</td>\n",
              "      <td>1143</td>\n",
              "      <td>SQL Symphony Concert</td>\n",
              "      <td>20171203</td>\n",
              "    </tr>\n",
              "    <tr>\n",
              "      <th>13</th>\n",
              "      <td>1</td>\n",
              "      <td>81526</td>\n",
              "      <td>1143</td>\n",
              "      <td>SQL Symphony Concert</td>\n",
              "      <td>20171202</td>\n",
              "    </tr>\n",
              "    <tr>\n",
              "      <th>14</th>\n",
              "      <td>1</td>\n",
              "      <td>92343</td>\n",
              "      <td>1143</td>\n",
              "      <td>SQL Symphony Concert</td>\n",
              "      <td>20171212</td>\n",
              "    </tr>\n",
              "    <tr>\n",
              "      <th>15</th>\n",
              "      <td>3</td>\n",
              "      <td>99716</td>\n",
              "      <td>1143</td>\n",
              "      <td>SQL Symphony Concert</td>\n",
              "      <td>20171206</td>\n",
              "    </tr>\n",
              "  </tbody>\n",
              "</table>\n",
              "</div>"
            ],
            "text/plain": [
              "    count(person_id)  person_id  event_id            event_name      date\n",
              "0                  1      11173      1143  SQL Symphony Concert  20171223\n",
              "1                  1      19260      1143  SQL Symphony Concert  20171214\n",
              "2                  1      19292      1143  SQL Symphony Concert  20171213\n",
              "3                  1      24397      1143  SQL Symphony Concert  20171208\n",
              "4                  3      24556      1143  SQL Symphony Concert  20171207\n",
              "5                  2      28582      1143  SQL Symphony Concert  20171220\n",
              "6                  1      43366      1143  SQL Symphony Concert  20171207\n",
              "7                  1      58898      1143  SQL Symphony Concert  20171220\n",
              "8                  1      62596      1143  SQL Symphony Concert  20171225\n",
              "9                  1      67318      1143  SQL Symphony Concert  20171206\n",
              "10                 1      69325      1143  SQL Symphony Concert  20171206\n",
              "11                 1      69699      1143  SQL Symphony Concert  20171214\n",
              "12                 1      79312      1143  SQL Symphony Concert  20171203\n",
              "13                 1      81526      1143  SQL Symphony Concert  20171202\n",
              "14                 1      92343      1143  SQL Symphony Concert  20171212\n",
              "15                 3      99716      1143  SQL Symphony Concert  20171206"
            ]
          },
          "execution_count": 138,
          "metadata": {},
          "output_type": "execute_result"
        }
      ],
      "source": [
        "query= \"\"\"\n",
        "select count(person_id),* from facebook_event_checkin\n",
        "where event_name like '%concert%'\n",
        "and date between 20171201 and 20171231\n",
        "group by person_id\n",
        "\"\"\"\n",
        "\n",
        "ejecutar_query(query=query)"
      ]
    },
    {
      "cell_type": "code",
      "execution_count": 152,
      "metadata": {},
      "outputs": [
        {
          "data": {
            "text/html": [
              "<div>\n",
              "<style scoped>\n",
              "    .dataframe tbody tr th:only-of-type {\n",
              "        vertical-align: middle;\n",
              "    }\n",
              "\n",
              "    .dataframe tbody tr th {\n",
              "        vertical-align: top;\n",
              "    }\n",
              "\n",
              "    .dataframe thead th {\n",
              "        text-align: right;\n",
              "    }\n",
              "</style>\n",
              "<table border=\"1\" class=\"dataframe\">\n",
              "  <thead>\n",
              "    <tr style=\"text-align: right;\">\n",
              "      <th></th>\n",
              "      <th>id</th>\n",
              "      <th>name</th>\n",
              "      <th>license_id</th>\n",
              "      <th>address_number</th>\n",
              "      <th>address_street_name</th>\n",
              "      <th>ssn</th>\n",
              "    </tr>\n",
              "  </thead>\n",
              "  <tbody>\n",
              "    <tr>\n",
              "      <th>0</th>\n",
              "      <td>99716</td>\n",
              "      <td>Miranda Priestly</td>\n",
              "      <td>202298</td>\n",
              "      <td>1883</td>\n",
              "      <td>Golden Ave</td>\n",
              "      <td>987756388</td>\n",
              "    </tr>\n",
              "  </tbody>\n",
              "</table>\n",
              "</div>"
            ],
            "text/plain": [
              "      id              name  license_id  address_number address_street_name  \\\n",
              "0  99716  Miranda Priestly      202298            1883          Golden Ave   \n",
              "\n",
              "         ssn  \n",
              "0  987756388  "
            ]
          },
          "execution_count": 152,
          "metadata": {},
          "output_type": "execute_result"
        }
      ],
      "source": [
        "query= \"\"\"\n",
        "select * from person\n",
        "where id = 99716\n",
        "\"\"\"\n",
        "\n",
        "ejecutar_query(query=query)"
      ]
    },
    {
      "cell_type": "code",
      "execution_count": 153,
      "metadata": {},
      "outputs": [
        {
          "data": {
            "text/html": [
              "<div>\n",
              "<style scoped>\n",
              "    .dataframe tbody tr th:only-of-type {\n",
              "        vertical-align: middle;\n",
              "    }\n",
              "\n",
              "    .dataframe tbody tr th {\n",
              "        vertical-align: top;\n",
              "    }\n",
              "\n",
              "    .dataframe thead th {\n",
              "        text-align: right;\n",
              "    }\n",
              "</style>\n",
              "<table border=\"1\" class=\"dataframe\">\n",
              "  <thead>\n",
              "    <tr style=\"text-align: right;\">\n",
              "      <th></th>\n",
              "      <th>person_id</th>\n",
              "      <th>event_id</th>\n",
              "      <th>event_name</th>\n",
              "      <th>date</th>\n",
              "    </tr>\n",
              "  </thead>\n",
              "  <tbody>\n",
              "    <tr>\n",
              "      <th>0</th>\n",
              "      <td>99716</td>\n",
              "      <td>1143</td>\n",
              "      <td>SQL Symphony Concert</td>\n",
              "      <td>20171206</td>\n",
              "    </tr>\n",
              "    <tr>\n",
              "      <th>1</th>\n",
              "      <td>99716</td>\n",
              "      <td>1143</td>\n",
              "      <td>SQL Symphony Concert</td>\n",
              "      <td>20171212</td>\n",
              "    </tr>\n",
              "    <tr>\n",
              "      <th>2</th>\n",
              "      <td>99716</td>\n",
              "      <td>1143</td>\n",
              "      <td>SQL Symphony Concert</td>\n",
              "      <td>20171229</td>\n",
              "    </tr>\n",
              "  </tbody>\n",
              "</table>\n",
              "</div>"
            ],
            "text/plain": [
              "   person_id  event_id            event_name      date\n",
              "0      99716      1143  SQL Symphony Concert  20171206\n",
              "1      99716      1143  SQL Symphony Concert  20171212\n",
              "2      99716      1143  SQL Symphony Concert  20171229"
            ]
          },
          "execution_count": 153,
          "metadata": {},
          "output_type": "execute_result"
        }
      ],
      "source": [
        "query= \"\"\"\n",
        "select * from facebook_event_checkin\n",
        "where person_id = 99716\n",
        "\"\"\"\n",
        "\n",
        "ejecutar_query(query=query)"
      ]
    },
    {
      "cell_type": "code",
      "execution_count": 154,
      "metadata": {},
      "outputs": [
        {
          "data": {
            "text/html": [
              "<div>\n",
              "<style scoped>\n",
              "    .dataframe tbody tr th:only-of-type {\n",
              "        vertical-align: middle;\n",
              "    }\n",
              "\n",
              "    .dataframe tbody tr th {\n",
              "        vertical-align: top;\n",
              "    }\n",
              "\n",
              "    .dataframe thead th {\n",
              "        text-align: right;\n",
              "    }\n",
              "</style>\n",
              "<table border=\"1\" class=\"dataframe\">\n",
              "  <thead>\n",
              "    <tr style=\"text-align: right;\">\n",
              "      <th></th>\n",
              "      <th>ssn</th>\n",
              "      <th>annual_income</th>\n",
              "    </tr>\n",
              "  </thead>\n",
              "  <tbody>\n",
              "    <tr>\n",
              "      <th>0</th>\n",
              "      <td>987756388</td>\n",
              "      <td>310000</td>\n",
              "    </tr>\n",
              "  </tbody>\n",
              "</table>\n",
              "</div>"
            ],
            "text/plain": [
              "         ssn  annual_income\n",
              "0  987756388         310000"
            ]
          },
          "execution_count": 154,
          "metadata": {},
          "output_type": "execute_result"
        }
      ],
      "source": [
        "query= \"\"\"\n",
        "select * from income\n",
        "where ssn = 987756388\n",
        "\"\"\"\n",
        "\n",
        "ejecutar_query(query=query)"
      ]
    },
    {
      "cell_type": "markdown",
      "metadata": {},
      "source": [
        "basado en el checkin realizado tres veces en diciembre de 2017 en el evento SQL Symphony Concert, reportado en la entrevista condedida por Jeremy Bowers, se puede concluir que Miranda Priestly lo contrató para ejecutar el crimen."
      ]
=======
      "outputs": [],
      "source": [
        "query= \"\"\n",
        "\n",
        "ejecutar_query(query=query)"
      ]
>>>>>>> 4342c51dc31d6e48a68248542912a9413afe0fba
    }
  ],
  "metadata": {
    "colab": {
      "collapsed_sections": [],
      "name": "HUMAI - SQL.ipynb",
      "provenance": []
    },
    "kernelspec": {
<<<<<<< HEAD
      "display_name": "bootcamp-ds-D1404OgA-py3.11",
      "language": "python",
=======
      "display_name": "Python 3",
>>>>>>> 4342c51dc31d6e48a68248542912a9413afe0fba
      "name": "python3"
    },
    "language_info": {
      "codemirror_mode": {
        "name": "ipython",
        "version": 3
      },
      "file_extension": ".py",
      "mimetype": "text/x-python",
      "name": "python",
      "nbconvert_exporter": "python",
      "pygments_lexer": "ipython3",
      "version": "3.11.9"
    }
  },
  "nbformat": 4,
  "nbformat_minor": 0
}
