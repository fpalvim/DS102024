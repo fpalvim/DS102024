{
  "cells": [
    {
      "cell_type": "markdown",
      "metadata": {
        "id": "YbltOBlVWDIZ"
      },
      "source": [
        "# Encontrando APIs ocultas\n",
        "\n",
        "Cuando una compañia desarrolla un sitio web muchas veces separa lo que se dice el _frontend_, que es la parte visible del sitio y la cual se ejecuta en tu navegador, del _backend_, la parte del sitio que realiza el computo mas pesado y se ejecuta en servidores/computadoras de la compañia.\n",
        "\n",
        "Para comunicar el _backend_ con el _frontend_ una forma popular es desarrollar REST APIs, a veces estas son públicas pero a veces están ocultas y las utilizamos sin darnos cuenta cuando interactuamos con un sitio web.\n",
        "\n",
        "Ejemplo de un sitio web y su API: http://numbersapi.com/\n",
        "\n",
        "Hoy veremos como encontrarlas y utilizarlas para extraer datos de forma cómoda"
      ]
    },
    {
      "cell_type": "markdown",
      "metadata": {
        "id": "-_mZyv8SWDIb"
      },
      "source": [
        "## Ejemplo 1: Valor del Bitcoin\n",
        "\n",
        "Para este primer ejemplo veremos como encontrar una API oculta en https://coinmarketcap.com/es\n",
        "\n",
        "Luego veremos como utilizarla de 3 maneras:\n",
        "1. Desde el navegador\n",
        "2. Con cURL (Un programa de linea de comandos para transferir datos de internet)\n",
        "3. Con Python"
      ]
    },
    {
      "cell_type": "markdown",
      "metadata": {},
      "source": [
        "[Herramienta](https://www.epochconverter.com/)"
      ]
    },
    {
      "cell_type": "markdown",
      "metadata": {
        "id": "jnUvD8TUWDIc"
      },
      "source": [
        "### Método utilizando python\n",
        "\n",
        "Usaremos el sitio web de [coinmarketcap](https://coinmarketcap.com/es/currencies/bitcoin/) que proporciona datos del Bitcoin en tiempo real.\n",
        "\n",
        "#### Pasos para encontrar la API oculta y utilizarla con Python\n",
        "\n",
        "1. Entrar al sitio web:\n",
        "\n",
        "    - Visita el sitio\n",
        "\n",
        "2. Abrir las herramientas de desarrollo:\n",
        "\n",
        "    - Presiona Ctrl+Shift+I para abrir las herramientas de desarrollo en tu navegador.\n",
        "    - Ve a la solapa Network y selecciona XHR.\n",
        "\n",
        "3. Recargar el sitio y analizar las peticiones:\n",
        "\n",
        "    - Recarga la página para capturar todas las solicitudes que realiza el sitio.\n",
        "    - En la pestaña XHR, revisa las peticiones que se están realizando. Busca aquellas que tienen nombres relevantes o cuyo Response contiene datos que te interesen, como el valor del Bitcoin.\n",
        "\n",
        "4. Identificar la API y copiar el comando cURL:\n",
        "\n",
        "    - Una vez que encuentres una solicitud relevante, haz clic derecho sobre ella y selecciona \"Copy as cURL(bash)\" para copiar el comando cURL que realiza la solicitud.\n",
        "\n",
        "5. Convertir el comando cURL a código Python:\n",
        "\n",
        "    - Utiliza [curlconverter.com](https://curlconverter.com/) para convertir el comando cURL a código Python. Pega el cURL copiado y el sitio te generará un código en Python utilizando la librería requests.\n",
        "\n",
        "6. Escribir el código en Python:\n",
        "\n",
        "    - A partir del código generado, puedes realizar la solicitud a la API y extraer los datos que necesites."
      ]
    },
    {
      "cell_type": "code",
      "execution_count": null,
      "metadata": {
        "colab": {
          "base_uri": "https://localhost:8080/"
        },
        "id": "jawgGIYzWDIc",
        "outputId": "efa5f013-1710-4557-e69a-f8c4cc403d1e"
      },
      "outputs": [],
      "source": [
        "import requests\n",
        "\n",
        "headers = {\n",
        "    'accept': 'application/json, text/plain, */*',\n",
        "    'accept-language': 'es-ES,es;q=0.8',\n",
        "    'cache-control': 'no-cache',\n",
        "    'origin': 'https://coinmarketcap.com',\n",
        "    'platform': 'web',\n",
        "    'priority': 'u=1, i',\n",
        "    'referer': 'https://coinmarketcap.com/',\n",
        "    'sec-ch-ua': '\"Chromium\";v=\"128\", \"Not;A=Brand\";v=\"24\", \"Brave\";v=\"128\"',\n",
        "    'sec-ch-ua-mobile': '?0',\n",
        "    'sec-ch-ua-platform': '\"Windows\"',\n",
        "    'sec-fetch-dest': 'empty',\n",
        "    'sec-fetch-mode': 'cors',\n",
        "    'sec-fetch-site': 'same-site',\n",
        "    'sec-gpc': '1',\n",
        "    'user-agent': 'Mozilla/5.0 (Windows NT 10.0; Win64; x64) AppleWebKit/537.36 (KHTML, like Gecko) Chrome/128.0.0.0 Safari/537.36',\n",
        "    'x-request-id': 'ae6571a8c35944b8863462441f81f1c9',\n",
        "}\n",
        "\n",
        "params = {\n",
        "    'id': '1',\n",
        "    'range': '1D',\n",
        "}\n",
        "\n",
        "response = requests.get('https://api.coinmarketcap.com/data-api/v3/cryptocurrency/detail/chart', params=params, headers=headers)\n",
        "response.json()"
      ]
    },
    {
      "cell_type": "markdown",
      "metadata": {
        "id": "ygsIxo1pWDIe"
      },
      "source": [
        "## Mejorando el código\n",
        "\n",
        "Analizando la API se puede ver que tiene al menos un parámetro modificables, el periodo.\n",
        "\n",
        "Podemos poner todo dentro de una función que extraiga los precios del Bitcoin para un periodo determinado. De esta forma será más fácil de usar y no necesitemos repetir el código."
      ]
    },
    {
      "cell_type": "code",
      "execution_count": null,
      "metadata": {
        "id": "9hsw76yLDSUc"
      },
      "outputs": [],
      "source": [
        "import requests\n",
        "\n",
        "headers = {\n",
        "    'accept': 'application/json, text/plain, */*',\n",
        "    'accept-language': 'es-ES,es;q=0.8',\n",
        "    'cache-control': 'no-cache',\n",
        "    'origin': 'https://coinmarketcap.com',\n",
        "    'platform': 'web',\n",
        "    'priority': 'u=1, i',\n",
        "    'referer': 'https://coinmarketcap.com/',\n",
        "    'sec-ch-ua': '\"Chromium\";v=\"128\", \"Not;A=Brand\";v=\"24\", \"Brave\";v=\"128\"',\n",
        "    'sec-ch-ua-mobile': '?0',\n",
        "    'sec-ch-ua-platform': '\"Windows\"',\n",
        "    'sec-fetch-dest': 'empty',\n",
        "    'sec-fetch-mode': 'cors',\n",
        "    'sec-fetch-site': 'same-site',\n",
        "    'sec-gpc': '1',\n",
        "    'user-agent': 'Mozilla/5.0 (Windows NT 10.0; Win64; x64) AppleWebKit/537.36 (KHTML, like Gecko) Chrome/128.0.0.0 Safari/537.36',\n",
        "    'x-request-id': 'ae6571a8c35944b8863462441f81f1c9',\n",
        "}\n",
        "\n",
        "params = {\n",
        "    'id': '1',  # ID de la criptomoneda (1 es Bitcoin)\n",
        "    'range': '7D',  # Rango de tiempo para los últimos 7 días\n",
        "}\n",
        "\n",
        "response = requests.get('https://api.coinmarketcap.com/data-api/v3/cryptocurrency/detail/chart', params=params, headers=headers)\n",
        "\n",
        "if response.status_code == 200:\n",
        "    data = response.json()\n",
        "    print(data)\n",
        "else:\n",
        "    print(\"Error:\", response.status_code)\n"
      ]
    },
    {
      "cell_type": "code",
      "execution_count": null,
      "metadata": {},
      "outputs": [],
      "source": [
        "import pandas as pd\n",
        "\n",
        "points = data['data']['points']\n",
        "\n",
        "# Convertir los datos en un DataFrame\n",
        "df = pd.DataFrame.from_dict(points, orient='index')\n",
        "\n",
        "# Separar los valores de 'v' en columnas\n",
        "df[['price', 'volume_24h', 'market_cap', 'c4', 'c5']] = pd.DataFrame(df['v'].tolist(), index=df.index)\n",
        "\n",
        "# Eliminar las columnas innecesarias ('v' y 'c')\n",
        "df = df.drop(columns=['v', 'c4', 'c5', 'c'])\n",
        "\n",
        "# Convertir la columna index (timestamps) a un formato de fecha legible\n",
        "df.index = pd.to_datetime(pd.to_numeric(df.index), unit='s')\n",
        "\n",
        "# Mostrar el DataFrame\n",
        "df"
      ]
    },
    {
      "cell_type": "code",
      "execution_count": null,
      "metadata": {},
      "outputs": [],
      "source": [
        "df['market_cap']/df['price']\n"
      ]
    },
    {
      "cell_type": "code",
      "execution_count": null,
      "metadata": {
        "colab": {
          "base_uri": "https://localhost:8080/",
          "height": 668
        },
        "id": "NvqXcelXDbFz",
        "outputId": "b00f8420-9fae-4dff-f029-78be050948f5"
      },
      "outputs": [],
      "source": [
        "import plotly.graph_objects as go\n",
        "\n",
        "fig = go.Figure()\n",
        "\n",
        "# Graficar el Precio\n",
        "fig.add_trace(go.Scatter(x=df.index, y=df['price'], mode='lines', name='Price (USD)', yaxis='y1'))\n",
        "\n",
        "# Graficar el Volumen de 24h\n",
        "fig.add_trace(go.Scatter(x=df.index, y=df['volume_24h'], mode='lines', name='Volume 24h (USD)', yaxis='y2'))\n",
        "\n",
        "# Configurar los ejes con escala logarítmica\n",
        "fig.update_layout(\n",
        "    title='Evolución de Precio, Volumen de 24h y Capitalización de Mercado (Escala Logarítmica)',\n",
        "    xaxis_title='Fecha',\n",
        "    yaxis=dict(\n",
        "        title='Price (USD)',\n",
        "        type='log',  # Escala logarítmica\n",
        "        titlefont=dict(color='blue'),\n",
        "        tickfont=dict(color='blue'),\n",
        "        side='left'\n",
        "    ),\n",
        "    yaxis2=dict(\n",
        "        title='Volume 24h (USD)',\n",
        "        type='log',  # Escala logarítmica\n",
        "        titlefont=dict(color='orange'),\n",
        "        tickfont=dict(color='orange'),\n",
        "        overlaying='y',\n",
        "        side='right'\n",
        "    ),\n",
        ")\n",
        "\n",
        "# Mostrar la figura\n",
        "fig.show()\n"
      ]
    },
    {
      "cell_type": "markdown",
      "metadata": {
        "id": "JO58sZHIWDIf"
      },
      "source": [
        "## Ejercicio Meteorológica\n",
        "\n",
        "Conseguir los datos de la meteorología de Madrid: https://www.bbc.com/weather/3117735"
      ]
    },
    {
      "cell_type": "code",
      "execution_count": 1,
      "metadata": {
        "id": "Ldaf6e4_WDIg"
      },
      "outputs": [],
      "source": [
        "import requests\n",
        "\n",
        "headers = {\n",
        "    'sec-ch-ua-platform': '\"Windows\"',\n",
        "    'Referer': 'https://www.bbc.com/',\n",
        "    'User-Agent': 'Mozilla/5.0 (Windows NT 10.0; Win64; x64) AppleWebKit/537.36 (KHTML, like Gecko) Chrome/131.0.0.0 Safari/537.36',\n",
        "    'sec-ch-ua': '\"Google Chrome\";v=\"131\", \"Chromium\";v=\"131\", \"Not_A Brand\";v=\"24\"',\n",
        "    'sec-ch-ua-mobile': '?0',\n",
        "}\n",
        "\n",
        "response = requests.get('https://weather-broker-cdn.api.bbci.co.uk/en/forecast/aggregated/3117735', headers=headers)"
      ]
    },
    {
      "cell_type": "code",
      "execution_count": 64,
      "metadata": {},
      "outputs": [],
      "source": [
        "data_weather = response.json()"
      ]
    },
    {
      "cell_type": "code",
      "execution_count": 36,
      "metadata": {},
      "outputs": [],
      "source": [
        "temp_per_hour = data_weather['forecasts'][0]['detailed']['reports'][0]['temperatureC']"
      ]
    },
    {
      "cell_type": "code",
      "execution_count": 79,
      "metadata": {},
      "outputs": [
        {
          "name": "stdout",
          "output_type": "stream",
          "text": [
            "{'issueDate': '2025-01-10T22:42:00+01:00', 'lastUpdated': '2025-01-11T10:01:25.277+01:00', 'report': {'enhancedWeatherDescription': 'Sunny intervals and a gentle breeze', 'gustSpeedKph': 23, 'gustSpeedMph': 14, 'localDate': '2025-01-11', 'lowermaxTemperatureC': None, 'lowermaxTemperatureF': None, 'lowerminTemperatureC': None, 'lowerminTemperatureF': None, 'maxTempC': 18, 'maxTempF': 64, 'minTempC': 5, 'minTempF': 40, 'mostLikelyHighTemperatureC': 19, 'mostLikelyHighTemperatureF': 66, 'mostLikelyLowTemperatureC': 1, 'mostLikelyLowTemperatureF': 34, 'pollenIndex': None, 'pollenIndexBand': None, 'pollenIndexIconText': None, 'pollenIndexText': None, 'pollutionIndex': None, 'pollutionIndexBand': None, 'pollutionIndexIconText': None, 'pollutionIndexText': None, 'precipitationProbabilityInPercent': 0, 'precipitationProbabilityText': 'Precipitation is not expected', 'sunrise': '08:38', 'sunset': '18:08', 'uppermaxTemperatureC': None, 'uppermaxTemperatureF': None, 'upperminTemperatureC': None, 'upperminTemperatureF': None, 'uvIndex': 3, 'uvIndexBand': 'MODERATE', 'uvIndexIconText': 'M', 'uvIndexText': 'Moderate', 'weatherType': 3, 'weatherTypeText': 'Sunny Intervals', 'windDescription': 'A gentle breeze from the west', 'windDirection': 'W', 'windDirectionAbbreviation': 'W', 'windDirectionFull': 'Westerly', 'windSpeedKph': 13, 'windSpeedMph': 8}} {'enhancedWeatherDescription': 'Sunny intervals and a gentle breeze', 'gustSpeedKph': 23, 'gustSpeedMph': 14, 'localDate': '2025-01-11', 'lowermaxTemperatureC': None, 'lowermaxTemperatureF': None, 'lowerminTemperatureC': None, 'lowerminTemperatureF': None, 'maxTempC': 18, 'maxTempF': 64, 'minTempC': 5, 'minTempF': 40, 'mostLikelyHighTemperatureC': 19, 'mostLikelyHighTemperatureF': 66, 'mostLikelyLowTemperatureC': 1, 'mostLikelyLowTemperatureF': 34, 'pollenIndex': None, 'pollenIndexBand': None, 'pollenIndexIconText': None, 'pollenIndexText': None, 'pollutionIndex': None, 'pollutionIndexBand': None, 'pollutionIndexIconText': None, 'pollutionIndexText': None, 'precipitationProbabilityInPercent': 0, 'precipitationProbabilityText': 'Precipitation is not expected', 'sunrise': '08:38', 'sunset': '18:08', 'uppermaxTemperatureC': None, 'uppermaxTemperatureF': None, 'upperminTemperatureC': None, 'upperminTemperatureF': None, 'uvIndex': 3, 'uvIndexBand': 'MODERATE', 'uvIndexIconText': 'M', 'uvIndexText': 'Moderate', 'weatherType': 3, 'weatherTypeText': 'Sunny Intervals', 'windDescription': 'A gentle breeze from the west', 'windDirection': 'W', 'windDirectionAbbreviation': 'W', 'windDirectionFull': 'Westerly', 'windSpeedKph': 13, 'windSpeedMph': 8}\n",
            "{'issueDate': '2025-01-10T22:42:00+01:00', 'lastUpdated': '2025-01-11T10:01:25.277+01:00', 'report': {'enhancedWeatherDescription': 'Sunny and a gentle breeze', 'gustSpeedKph': 29, 'gustSpeedMph': 18, 'localDate': '2025-01-12', 'lowermaxTemperatureC': None, 'lowermaxTemperatureF': None, 'lowerminTemperatureC': None, 'lowerminTemperatureF': None, 'maxTempC': 15, 'maxTempF': 58, 'minTempC': -1, 'minTempF': 30, 'mostLikelyHighTemperatureC': 16, 'mostLikelyHighTemperatureF': 60, 'mostLikelyLowTemperatureC': -5, 'mostLikelyLowTemperatureF': 23, 'pollenIndex': None, 'pollenIndexBand': None, 'pollenIndexIconText': None, 'pollenIndexText': None, 'pollutionIndex': None, 'pollutionIndexBand': None, 'pollutionIndexIconText': None, 'pollutionIndexText': None, 'precipitationProbabilityInPercent': 0, 'precipitationProbabilityText': 'Precipitation is not expected', 'sunrise': '08:37', 'sunset': '18:09', 'uppermaxTemperatureC': None, 'uppermaxTemperatureF': None, 'upperminTemperatureC': None, 'upperminTemperatureF': None, 'uvIndex': 3, 'uvIndexBand': 'MODERATE', 'uvIndexIconText': 'M', 'uvIndexText': 'Moderate', 'weatherType': 1, 'weatherTypeText': 'Sunny', 'windDescription': 'A gentle breeze from the north', 'windDirection': 'N', 'windDirectionAbbreviation': 'N', 'windDirectionFull': 'Northerly', 'windSpeedKph': 15, 'windSpeedMph': 9}} {'enhancedWeatherDescription': 'Sunny and a gentle breeze', 'gustSpeedKph': 29, 'gustSpeedMph': 18, 'localDate': '2025-01-12', 'lowermaxTemperatureC': None, 'lowermaxTemperatureF': None, 'lowerminTemperatureC': None, 'lowerminTemperatureF': None, 'maxTempC': 15, 'maxTempF': 58, 'minTempC': -1, 'minTempF': 30, 'mostLikelyHighTemperatureC': 16, 'mostLikelyHighTemperatureF': 60, 'mostLikelyLowTemperatureC': -5, 'mostLikelyLowTemperatureF': 23, 'pollenIndex': None, 'pollenIndexBand': None, 'pollenIndexIconText': None, 'pollenIndexText': None, 'pollutionIndex': None, 'pollutionIndexBand': None, 'pollutionIndexIconText': None, 'pollutionIndexText': None, 'precipitationProbabilityInPercent': 0, 'precipitationProbabilityText': 'Precipitation is not expected', 'sunrise': '08:37', 'sunset': '18:09', 'uppermaxTemperatureC': None, 'uppermaxTemperatureF': None, 'upperminTemperatureC': None, 'upperminTemperatureF': None, 'uvIndex': 3, 'uvIndexBand': 'MODERATE', 'uvIndexIconText': 'M', 'uvIndexText': 'Moderate', 'weatherType': 1, 'weatherTypeText': 'Sunny', 'windDescription': 'A gentle breeze from the north', 'windDirection': 'N', 'windDirectionAbbreviation': 'N', 'windDirectionFull': 'Northerly', 'windSpeedKph': 15, 'windSpeedMph': 9}\n",
            "{'issueDate': '2025-01-10T22:42:00+01:00', 'lastUpdated': '2025-01-11T10:01:25.277+01:00', 'report': {'enhancedWeatherDescription': 'Sunny and light winds', 'gustSpeedKph': 14, 'gustSpeedMph': 9, 'localDate': '2025-01-13', 'lowermaxTemperatureC': None, 'lowermaxTemperatureF': None, 'lowerminTemperatureC': None, 'lowerminTemperatureF': None, 'maxTempC': 12, 'maxTempF': 54, 'minTempC': -2, 'minTempF': 28, 'mostLikelyHighTemperatureC': 13, 'mostLikelyHighTemperatureF': 56, 'mostLikelyLowTemperatureC': -6, 'mostLikelyLowTemperatureF': 21, 'pollenIndex': None, 'pollenIndexBand': None, 'pollenIndexIconText': None, 'pollenIndexText': None, 'pollutionIndex': None, 'pollutionIndexBand': None, 'pollutionIndexIconText': None, 'pollutionIndexText': None, 'precipitationProbabilityInPercent': 0, 'precipitationProbabilityText': 'Precipitation is not expected', 'sunrise': '08:37', 'sunset': '18:10', 'uppermaxTemperatureC': None, 'uppermaxTemperatureF': None, 'upperminTemperatureC': None, 'upperminTemperatureF': None, 'uvIndex': 4, 'uvIndexBand': 'MODERATE', 'uvIndexIconText': 'M', 'uvIndexText': 'Moderate', 'weatherType': 1, 'weatherTypeText': 'Sunny', 'windDescription': 'Light winds from the north', 'windDirection': 'N', 'windDirectionAbbreviation': 'N', 'windDirectionFull': 'Northerly', 'windSpeedKph': 7, 'windSpeedMph': 4}} {'enhancedWeatherDescription': 'Sunny and light winds', 'gustSpeedKph': 14, 'gustSpeedMph': 9, 'localDate': '2025-01-13', 'lowermaxTemperatureC': None, 'lowermaxTemperatureF': None, 'lowerminTemperatureC': None, 'lowerminTemperatureF': None, 'maxTempC': 12, 'maxTempF': 54, 'minTempC': -2, 'minTempF': 28, 'mostLikelyHighTemperatureC': 13, 'mostLikelyHighTemperatureF': 56, 'mostLikelyLowTemperatureC': -6, 'mostLikelyLowTemperatureF': 21, 'pollenIndex': None, 'pollenIndexBand': None, 'pollenIndexIconText': None, 'pollenIndexText': None, 'pollutionIndex': None, 'pollutionIndexBand': None, 'pollutionIndexIconText': None, 'pollutionIndexText': None, 'precipitationProbabilityInPercent': 0, 'precipitationProbabilityText': 'Precipitation is not expected', 'sunrise': '08:37', 'sunset': '18:10', 'uppermaxTemperatureC': None, 'uppermaxTemperatureF': None, 'upperminTemperatureC': None, 'upperminTemperatureF': None, 'uvIndex': 4, 'uvIndexBand': 'MODERATE', 'uvIndexIconText': 'M', 'uvIndexText': 'Moderate', 'weatherType': 1, 'weatherTypeText': 'Sunny', 'windDescription': 'Light winds from the north', 'windDirection': 'N', 'windDirectionAbbreviation': 'N', 'windDirectionFull': 'Northerly', 'windSpeedKph': 7, 'windSpeedMph': 4}\n",
            "{'issueDate': '2025-01-10T22:42:00+01:00', 'lastUpdated': '2025-01-11T10:01:25.277+01:00', 'report': {'enhancedWeatherDescription': 'Sunny and light winds', 'gustSpeedKph': 11, 'gustSpeedMph': 7, 'localDate': '2025-01-14', 'lowermaxTemperatureC': None, 'lowermaxTemperatureF': None, 'lowerminTemperatureC': None, 'lowerminTemperatureF': None, 'maxTempC': 11, 'maxTempF': 52, 'minTempC': -2, 'minTempF': 28, 'mostLikelyHighTemperatureC': 14, 'mostLikelyHighTemperatureF': 57, 'mostLikelyLowTemperatureC': -7, 'mostLikelyLowTemperatureF': 20, 'pollenIndex': None, 'pollenIndexBand': None, 'pollenIndexIconText': None, 'pollenIndexText': None, 'pollutionIndex': None, 'pollutionIndexBand': None, 'pollutionIndexIconText': None, 'pollutionIndexText': None, 'precipitationProbabilityInPercent': 0, 'precipitationProbabilityText': 'Precipitation is not expected', 'sunrise': '08:37', 'sunset': '18:12', 'uppermaxTemperatureC': None, 'uppermaxTemperatureF': None, 'upperminTemperatureC': None, 'upperminTemperatureF': None, 'uvIndex': 3, 'uvIndexBand': 'MODERATE', 'uvIndexIconText': 'M', 'uvIndexText': 'Moderate', 'weatherType': 1, 'weatherTypeText': 'Sunny', 'windDescription': 'Light winds from the north east', 'windDirection': 'NE', 'windDirectionAbbreviation': 'NE', 'windDirectionFull': 'North Easterly', 'windSpeedKph': 6, 'windSpeedMph': 4}} {'enhancedWeatherDescription': 'Sunny and light winds', 'gustSpeedKph': 11, 'gustSpeedMph': 7, 'localDate': '2025-01-14', 'lowermaxTemperatureC': None, 'lowermaxTemperatureF': None, 'lowerminTemperatureC': None, 'lowerminTemperatureF': None, 'maxTempC': 11, 'maxTempF': 52, 'minTempC': -2, 'minTempF': 28, 'mostLikelyHighTemperatureC': 14, 'mostLikelyHighTemperatureF': 57, 'mostLikelyLowTemperatureC': -7, 'mostLikelyLowTemperatureF': 20, 'pollenIndex': None, 'pollenIndexBand': None, 'pollenIndexIconText': None, 'pollenIndexText': None, 'pollutionIndex': None, 'pollutionIndexBand': None, 'pollutionIndexIconText': None, 'pollutionIndexText': None, 'precipitationProbabilityInPercent': 0, 'precipitationProbabilityText': 'Precipitation is not expected', 'sunrise': '08:37', 'sunset': '18:12', 'uppermaxTemperatureC': None, 'uppermaxTemperatureF': None, 'upperminTemperatureC': None, 'upperminTemperatureF': None, 'uvIndex': 3, 'uvIndexBand': 'MODERATE', 'uvIndexIconText': 'M', 'uvIndexText': 'Moderate', 'weatherType': 1, 'weatherTypeText': 'Sunny', 'windDescription': 'Light winds from the north east', 'windDirection': 'NE', 'windDirectionAbbreviation': 'NE', 'windDirectionFull': 'North Easterly', 'windSpeedKph': 6, 'windSpeedMph': 4}\n",
            "{'issueDate': '2025-01-10T22:42:00+01:00', 'lastUpdated': '2025-01-11T10:01:25.277+01:00', 'report': {'enhancedWeatherDescription': 'Sunny and light winds', 'gustSpeedKph': 8, 'gustSpeedMph': 5, 'localDate': '2025-01-15', 'lowermaxTemperatureC': None, 'lowermaxTemperatureF': None, 'lowerminTemperatureC': None, 'lowerminTemperatureF': None, 'maxTempC': 11, 'maxTempF': 53, 'minTempC': -2, 'minTempF': 29, 'mostLikelyHighTemperatureC': 13, 'mostLikelyHighTemperatureF': 55, 'mostLikelyLowTemperatureC': -5, 'mostLikelyLowTemperatureF': 22, 'pollenIndex': None, 'pollenIndexBand': None, 'pollenIndexIconText': None, 'pollenIndexText': None, 'pollutionIndex': None, 'pollutionIndexBand': None, 'pollutionIndexIconText': None, 'pollutionIndexText': None, 'precipitationProbabilityInPercent': 0, 'precipitationProbabilityText': 'Precipitation is not expected', 'sunrise': '08:36', 'sunset': '18:13', 'uppermaxTemperatureC': None, 'uppermaxTemperatureF': None, 'upperminTemperatureC': None, 'upperminTemperatureF': None, 'uvIndex': 4, 'uvIndexBand': 'MODERATE', 'uvIndexIconText': 'M', 'uvIndexText': 'Moderate', 'weatherType': 1, 'weatherTypeText': 'Sunny', 'windDescription': 'Light winds from the north east', 'windDirection': 'NE', 'windDirectionAbbreviation': 'NE', 'windDirectionFull': 'North Easterly', 'windSpeedKph': 4, 'windSpeedMph': 2}} {'enhancedWeatherDescription': 'Sunny and light winds', 'gustSpeedKph': 8, 'gustSpeedMph': 5, 'localDate': '2025-01-15', 'lowermaxTemperatureC': None, 'lowermaxTemperatureF': None, 'lowerminTemperatureC': None, 'lowerminTemperatureF': None, 'maxTempC': 11, 'maxTempF': 53, 'minTempC': -2, 'minTempF': 29, 'mostLikelyHighTemperatureC': 13, 'mostLikelyHighTemperatureF': 55, 'mostLikelyLowTemperatureC': -5, 'mostLikelyLowTemperatureF': 22, 'pollenIndex': None, 'pollenIndexBand': None, 'pollenIndexIconText': None, 'pollenIndexText': None, 'pollutionIndex': None, 'pollutionIndexBand': None, 'pollutionIndexIconText': None, 'pollutionIndexText': None, 'precipitationProbabilityInPercent': 0, 'precipitationProbabilityText': 'Precipitation is not expected', 'sunrise': '08:36', 'sunset': '18:13', 'uppermaxTemperatureC': None, 'uppermaxTemperatureF': None, 'upperminTemperatureC': None, 'upperminTemperatureF': None, 'uvIndex': 4, 'uvIndexBand': 'MODERATE', 'uvIndexIconText': 'M', 'uvIndexText': 'Moderate', 'weatherType': 1, 'weatherTypeText': 'Sunny', 'windDescription': 'Light winds from the north east', 'windDirection': 'NE', 'windDirectionAbbreviation': 'NE', 'windDirectionFull': 'North Easterly', 'windSpeedKph': 4, 'windSpeedMph': 2}\n",
            "{'issueDate': '2025-01-10T22:42:00+01:00', 'lastUpdated': '2025-01-11T10:01:25.277+01:00', 'report': {'enhancedWeatherDescription': 'Sunny and light winds', 'gustSpeedKph': 7, 'gustSpeedMph': 4, 'localDate': '2025-01-16', 'lowermaxTemperatureC': None, 'lowermaxTemperatureF': None, 'lowerminTemperatureC': None, 'lowerminTemperatureF': None, 'maxTempC': 12, 'maxTempF': 53, 'minTempC': -1, 'minTempF': 30, 'mostLikelyHighTemperatureC': 13, 'mostLikelyHighTemperatureF': 56, 'mostLikelyLowTemperatureC': -4, 'mostLikelyLowTemperatureF': 24, 'pollenIndex': None, 'pollenIndexBand': None, 'pollenIndexIconText': None, 'pollenIndexText': None, 'pollutionIndex': None, 'pollutionIndexBand': None, 'pollutionIndexIconText': None, 'pollutionIndexText': None, 'precipitationProbabilityInPercent': 0, 'precipitationProbabilityText': 'Precipitation is not expected', 'sunrise': '08:36', 'sunset': '18:14', 'uppermaxTemperatureC': None, 'uppermaxTemperatureF': None, 'upperminTemperatureC': None, 'upperminTemperatureF': None, 'uvIndex': 4, 'uvIndexBand': 'MODERATE', 'uvIndexIconText': 'M', 'uvIndexText': 'Moderate', 'weatherType': 1, 'weatherTypeText': 'Sunny', 'windDescription': 'Light winds from the north east', 'windDirection': 'NE', 'windDirectionAbbreviation': 'NE', 'windDirectionFull': 'North Easterly', 'windSpeedKph': 5, 'windSpeedMph': 3}} {'enhancedWeatherDescription': 'Sunny and light winds', 'gustSpeedKph': 7, 'gustSpeedMph': 4, 'localDate': '2025-01-16', 'lowermaxTemperatureC': None, 'lowermaxTemperatureF': None, 'lowerminTemperatureC': None, 'lowerminTemperatureF': None, 'maxTempC': 12, 'maxTempF': 53, 'minTempC': -1, 'minTempF': 30, 'mostLikelyHighTemperatureC': 13, 'mostLikelyHighTemperatureF': 56, 'mostLikelyLowTemperatureC': -4, 'mostLikelyLowTemperatureF': 24, 'pollenIndex': None, 'pollenIndexBand': None, 'pollenIndexIconText': None, 'pollenIndexText': None, 'pollutionIndex': None, 'pollutionIndexBand': None, 'pollutionIndexIconText': None, 'pollutionIndexText': None, 'precipitationProbabilityInPercent': 0, 'precipitationProbabilityText': 'Precipitation is not expected', 'sunrise': '08:36', 'sunset': '18:14', 'uppermaxTemperatureC': None, 'uppermaxTemperatureF': None, 'upperminTemperatureC': None, 'upperminTemperatureF': None, 'uvIndex': 4, 'uvIndexBand': 'MODERATE', 'uvIndexIconText': 'M', 'uvIndexText': 'Moderate', 'weatherType': 1, 'weatherTypeText': 'Sunny', 'windDescription': 'Light winds from the north east', 'windDirection': 'NE', 'windDirectionAbbreviation': 'NE', 'windDirectionFull': 'North Easterly', 'windSpeedKph': 5, 'windSpeedMph': 3}\n",
            "{'issueDate': '2025-01-10T22:42:00+01:00', 'lastUpdated': '2025-01-11T10:01:25.277+01:00', 'report': {'enhancedWeatherDescription': 'Sunny and light winds', 'gustSpeedKph': 12, 'gustSpeedMph': 7, 'localDate': '2025-01-17', 'lowermaxTemperatureC': None, 'lowermaxTemperatureF': None, 'lowerminTemperatureC': None, 'lowerminTemperatureF': None, 'maxTempC': 12, 'maxTempF': 54, 'minTempC': -1, 'minTempF': 31, 'mostLikelyHighTemperatureC': 14, 'mostLikelyHighTemperatureF': 58, 'mostLikelyLowTemperatureC': -4, 'mostLikelyLowTemperatureF': 24, 'pollenIndex': None, 'pollenIndexBand': None, 'pollenIndexIconText': None, 'pollenIndexText': None, 'pollutionIndex': None, 'pollutionIndexBand': None, 'pollutionIndexIconText': None, 'pollutionIndexText': None, 'precipitationProbabilityInPercent': 0, 'precipitationProbabilityText': 'Precipitation is not expected', 'sunrise': '08:35', 'sunset': '18:15', 'uppermaxTemperatureC': None, 'uppermaxTemperatureF': None, 'upperminTemperatureC': None, 'upperminTemperatureF': None, 'uvIndex': 4, 'uvIndexBand': 'MODERATE', 'uvIndexIconText': 'M', 'uvIndexText': 'Moderate', 'weatherType': 1, 'weatherTypeText': 'Sunny', 'windDescription': 'Light winds from the north east', 'windDirection': 'NE', 'windDirectionAbbreviation': 'NE', 'windDirectionFull': 'North Easterly', 'windSpeedKph': 6, 'windSpeedMph': 4}} {'enhancedWeatherDescription': 'Sunny and light winds', 'gustSpeedKph': 12, 'gustSpeedMph': 7, 'localDate': '2025-01-17', 'lowermaxTemperatureC': None, 'lowermaxTemperatureF': None, 'lowerminTemperatureC': None, 'lowerminTemperatureF': None, 'maxTempC': 12, 'maxTempF': 54, 'minTempC': -1, 'minTempF': 31, 'mostLikelyHighTemperatureC': 14, 'mostLikelyHighTemperatureF': 58, 'mostLikelyLowTemperatureC': -4, 'mostLikelyLowTemperatureF': 24, 'pollenIndex': None, 'pollenIndexBand': None, 'pollenIndexIconText': None, 'pollenIndexText': None, 'pollutionIndex': None, 'pollutionIndexBand': None, 'pollutionIndexIconText': None, 'pollutionIndexText': None, 'precipitationProbabilityInPercent': 0, 'precipitationProbabilityText': 'Precipitation is not expected', 'sunrise': '08:35', 'sunset': '18:15', 'uppermaxTemperatureC': None, 'uppermaxTemperatureF': None, 'upperminTemperatureC': None, 'upperminTemperatureF': None, 'uvIndex': 4, 'uvIndexBand': 'MODERATE', 'uvIndexIconText': 'M', 'uvIndexText': 'Moderate', 'weatherType': 1, 'weatherTypeText': 'Sunny', 'windDescription': 'Light winds from the north east', 'windDirection': 'NE', 'windDirectionAbbreviation': 'NE', 'windDirectionFull': 'North Easterly', 'windSpeedKph': 6, 'windSpeedMph': 4}\n",
            "{'issueDate': '2025-01-10T22:42:00+01:00', 'lastUpdated': '2025-01-11T10:01:25.277+01:00', 'report': {'enhancedWeatherDescription': 'Sunny and light winds', 'gustSpeedKph': 9, 'gustSpeedMph': 5, 'localDate': '2025-01-18', 'lowermaxTemperatureC': None, 'lowermaxTemperatureF': None, 'lowerminTemperatureC': None, 'lowerminTemperatureF': None, 'maxTempC': 13, 'maxTempF': 55, 'minTempC': 0, 'minTempF': 32, 'mostLikelyHighTemperatureC': 16, 'mostLikelyHighTemperatureF': 61, 'mostLikelyLowTemperatureC': -3, 'mostLikelyLowTemperatureF': 27, 'pollenIndex': None, 'pollenIndexBand': None, 'pollenIndexIconText': None, 'pollenIndexText': None, 'pollutionIndex': None, 'pollutionIndexBand': None, 'pollutionIndexIconText': None, 'pollutionIndexText': None, 'precipitationProbabilityInPercent': 0, 'precipitationProbabilityText': 'Precipitation is not expected', 'sunrise': '08:35', 'sunset': '18:16', 'uppermaxTemperatureC': None, 'uppermaxTemperatureF': None, 'upperminTemperatureC': None, 'upperminTemperatureF': None, 'uvIndex': 4, 'uvIndexBand': 'MODERATE', 'uvIndexIconText': 'M', 'uvIndexText': 'Moderate', 'weatherType': 1, 'weatherTypeText': 'Sunny', 'windDescription': 'Light winds from the south west', 'windDirection': 'SW', 'windDirectionAbbreviation': 'SW', 'windDirectionFull': 'South Westerly', 'windSpeedKph': 5, 'windSpeedMph': 3}} {'enhancedWeatherDescription': 'Sunny and light winds', 'gustSpeedKph': 9, 'gustSpeedMph': 5, 'localDate': '2025-01-18', 'lowermaxTemperatureC': None, 'lowermaxTemperatureF': None, 'lowerminTemperatureC': None, 'lowerminTemperatureF': None, 'maxTempC': 13, 'maxTempF': 55, 'minTempC': 0, 'minTempF': 32, 'mostLikelyHighTemperatureC': 16, 'mostLikelyHighTemperatureF': 61, 'mostLikelyLowTemperatureC': -3, 'mostLikelyLowTemperatureF': 27, 'pollenIndex': None, 'pollenIndexBand': None, 'pollenIndexIconText': None, 'pollenIndexText': None, 'pollutionIndex': None, 'pollutionIndexBand': None, 'pollutionIndexIconText': None, 'pollutionIndexText': None, 'precipitationProbabilityInPercent': 0, 'precipitationProbabilityText': 'Precipitation is not expected', 'sunrise': '08:35', 'sunset': '18:16', 'uppermaxTemperatureC': None, 'uppermaxTemperatureF': None, 'upperminTemperatureC': None, 'upperminTemperatureF': None, 'uvIndex': 4, 'uvIndexBand': 'MODERATE', 'uvIndexIconText': 'M', 'uvIndexText': 'Moderate', 'weatherType': 1, 'weatherTypeText': 'Sunny', 'windDescription': 'Light winds from the south west', 'windDirection': 'SW', 'windDirectionAbbreviation': 'SW', 'windDirectionFull': 'South Westerly', 'windSpeedKph': 5, 'windSpeedMph': 3}\n",
            "{'issueDate': '2025-01-11T10:01:25+01:00', 'lastUpdated': '2025-01-11T10:01:25.277+01:00', 'report': {'enhancedWeatherDescription': 'Sunny and light winds', 'gustSpeedKph': 7, 'gustSpeedMph': 5, 'localDate': '2025-01-19', 'lowermaxTemperatureC': None, 'lowermaxTemperatureF': None, 'lowerminTemperatureC': None, 'lowerminTemperatureF': None, 'maxTempC': 12, 'maxTempF': 54, 'minTempC': 0, 'minTempF': 33, 'mostLikelyHighTemperatureC': 15, 'mostLikelyHighTemperatureF': 59, 'mostLikelyLowTemperatureC': -3, 'mostLikelyLowTemperatureF': 27, 'pollenIndex': None, 'pollenIndexBand': None, 'pollenIndexIconText': None, 'pollenIndexText': None, 'pollutionIndex': None, 'pollutionIndexBand': None, 'pollutionIndexIconText': None, 'pollutionIndexText': None, 'precipitationProbabilityInPercent': 0, 'precipitationProbabilityText': 'Precipitation is not expected', 'sunrise': '08:34', 'sunset': '18:17', 'uppermaxTemperatureC': None, 'uppermaxTemperatureF': None, 'upperminTemperatureC': None, 'upperminTemperatureF': None, 'uvIndex': 4, 'uvIndexBand': 'MODERATE', 'uvIndexIconText': 'M', 'uvIndexText': 'Moderate', 'weatherType': 1, 'weatherTypeText': 'Sunny', 'windDescription': 'Light winds from the south west', 'windDirection': 'SW', 'windDirectionAbbreviation': 'SW', 'windDirectionFull': 'South Westerly', 'windSpeedKph': 5, 'windSpeedMph': 3}} {'enhancedWeatherDescription': 'Sunny and light winds', 'gustSpeedKph': 7, 'gustSpeedMph': 5, 'localDate': '2025-01-19', 'lowermaxTemperatureC': None, 'lowermaxTemperatureF': None, 'lowerminTemperatureC': None, 'lowerminTemperatureF': None, 'maxTempC': 12, 'maxTempF': 54, 'minTempC': 0, 'minTempF': 33, 'mostLikelyHighTemperatureC': 15, 'mostLikelyHighTemperatureF': 59, 'mostLikelyLowTemperatureC': -3, 'mostLikelyLowTemperatureF': 27, 'pollenIndex': None, 'pollenIndexBand': None, 'pollenIndexIconText': None, 'pollenIndexText': None, 'pollutionIndex': None, 'pollutionIndexBand': None, 'pollutionIndexIconText': None, 'pollutionIndexText': None, 'precipitationProbabilityInPercent': 0, 'precipitationProbabilityText': 'Precipitation is not expected', 'sunrise': '08:34', 'sunset': '18:17', 'uppermaxTemperatureC': None, 'uppermaxTemperatureF': None, 'upperminTemperatureC': None, 'upperminTemperatureF': None, 'uvIndex': 4, 'uvIndexBand': 'MODERATE', 'uvIndexIconText': 'M', 'uvIndexText': 'Moderate', 'weatherType': 1, 'weatherTypeText': 'Sunny', 'windDescription': 'Light winds from the south west', 'windDirection': 'SW', 'windDirectionAbbreviation': 'SW', 'windDirectionFull': 'South Westerly', 'windSpeedKph': 5, 'windSpeedMph': 3}\n",
            "{'issueDate': '2025-01-11T10:01:25+01:00', 'lastUpdated': '2025-01-11T10:01:25.277+01:00', 'report': {'enhancedWeatherDescription': 'Sunny and light winds', 'gustSpeedKph': 10, 'gustSpeedMph': 6, 'localDate': '2025-01-20', 'lowermaxTemperatureC': None, 'lowermaxTemperatureF': None, 'lowerminTemperatureC': None, 'lowerminTemperatureF': None, 'maxTempC': 12, 'maxTempF': 54, 'minTempC': 1, 'minTempF': 34, 'mostLikelyHighTemperatureC': 15, 'mostLikelyHighTemperatureF': 60, 'mostLikelyLowTemperatureC': -2, 'mostLikelyLowTemperatureF': 28, 'pollenIndex': None, 'pollenIndexBand': None, 'pollenIndexIconText': None, 'pollenIndexText': None, 'pollutionIndex': None, 'pollutionIndexBand': None, 'pollutionIndexIconText': None, 'pollutionIndexText': None, 'precipitationProbabilityInPercent': 26, 'precipitationProbabilityText': 'Low chance of precipitation', 'sunrise': '08:34', 'sunset': '18:18', 'uppermaxTemperatureC': None, 'uppermaxTemperatureF': None, 'upperminTemperatureC': None, 'upperminTemperatureF': None, 'uvIndex': 4, 'uvIndexBand': 'MODERATE', 'uvIndexIconText': 'M', 'uvIndexText': 'Moderate', 'weatherType': 1, 'weatherTypeText': 'Sunny', 'windDescription': 'Light winds from the south west', 'windDirection': 'SW', 'windDirectionAbbreviation': 'SW', 'windDirectionFull': 'South Westerly', 'windSpeedKph': 5, 'windSpeedMph': 3}} {'enhancedWeatherDescription': 'Sunny and light winds', 'gustSpeedKph': 10, 'gustSpeedMph': 6, 'localDate': '2025-01-20', 'lowermaxTemperatureC': None, 'lowermaxTemperatureF': None, 'lowerminTemperatureC': None, 'lowerminTemperatureF': None, 'maxTempC': 12, 'maxTempF': 54, 'minTempC': 1, 'minTempF': 34, 'mostLikelyHighTemperatureC': 15, 'mostLikelyHighTemperatureF': 60, 'mostLikelyLowTemperatureC': -2, 'mostLikelyLowTemperatureF': 28, 'pollenIndex': None, 'pollenIndexBand': None, 'pollenIndexIconText': None, 'pollenIndexText': None, 'pollutionIndex': None, 'pollutionIndexBand': None, 'pollutionIndexIconText': None, 'pollutionIndexText': None, 'precipitationProbabilityInPercent': 26, 'precipitationProbabilityText': 'Low chance of precipitation', 'sunrise': '08:34', 'sunset': '18:18', 'uppermaxTemperatureC': None, 'uppermaxTemperatureF': None, 'upperminTemperatureC': None, 'upperminTemperatureF': None, 'uvIndex': 4, 'uvIndexBand': 'MODERATE', 'uvIndexIconText': 'M', 'uvIndexText': 'Moderate', 'weatherType': 1, 'weatherTypeText': 'Sunny', 'windDescription': 'Light winds from the south west', 'windDirection': 'SW', 'windDirectionAbbreviation': 'SW', 'windDirectionFull': 'South Westerly', 'windSpeedKph': 5, 'windSpeedMph': 3}\n",
            "{'issueDate': '2025-01-11T10:01:25+01:00', 'lastUpdated': '2025-01-11T10:01:25.277+01:00', 'report': {'enhancedWeatherDescription': 'Sunny intervals and light winds', 'gustSpeedKph': 13, 'gustSpeedMph': 8, 'localDate': '2025-01-21', 'lowermaxTemperatureC': None, 'lowermaxTemperatureF': None, 'lowerminTemperatureC': None, 'lowerminTemperatureF': None, 'maxTempC': 12, 'maxTempF': 54, 'minTempC': 3, 'minTempF': 38, 'mostLikelyHighTemperatureC': 16, 'mostLikelyHighTemperatureF': 61, 'mostLikelyLowTemperatureC': -1, 'mostLikelyLowTemperatureF': 31, 'pollenIndex': None, 'pollenIndexBand': None, 'pollenIndexIconText': None, 'pollenIndexText': None, 'pollutionIndex': None, 'pollutionIndexBand': None, 'pollutionIndexIconText': None, 'pollutionIndexText': None, 'precipitationProbabilityInPercent': 17, 'precipitationProbabilityText': 'Low chance of precipitation', 'sunrise': '08:33', 'sunset': '18:19', 'uppermaxTemperatureC': None, 'uppermaxTemperatureF': None, 'upperminTemperatureC': None, 'upperminTemperatureF': None, 'uvIndex': 4, 'uvIndexBand': 'MODERATE', 'uvIndexIconText': 'M', 'uvIndexText': 'Moderate', 'weatherType': 3, 'weatherTypeText': 'Sunny Intervals', 'windDescription': 'Light winds from the south', 'windDirection': 'S', 'windDirectionAbbreviation': 'S', 'windDirectionFull': 'Southerly', 'windSpeedKph': 6, 'windSpeedMph': 4}} {'enhancedWeatherDescription': 'Sunny intervals and light winds', 'gustSpeedKph': 13, 'gustSpeedMph': 8, 'localDate': '2025-01-21', 'lowermaxTemperatureC': None, 'lowermaxTemperatureF': None, 'lowerminTemperatureC': None, 'lowerminTemperatureF': None, 'maxTempC': 12, 'maxTempF': 54, 'minTempC': 3, 'minTempF': 38, 'mostLikelyHighTemperatureC': 16, 'mostLikelyHighTemperatureF': 61, 'mostLikelyLowTemperatureC': -1, 'mostLikelyLowTemperatureF': 31, 'pollenIndex': None, 'pollenIndexBand': None, 'pollenIndexIconText': None, 'pollenIndexText': None, 'pollutionIndex': None, 'pollutionIndexBand': None, 'pollutionIndexIconText': None, 'pollutionIndexText': None, 'precipitationProbabilityInPercent': 17, 'precipitationProbabilityText': 'Low chance of precipitation', 'sunrise': '08:33', 'sunset': '18:19', 'uppermaxTemperatureC': None, 'uppermaxTemperatureF': None, 'upperminTemperatureC': None, 'upperminTemperatureF': None, 'uvIndex': 4, 'uvIndexBand': 'MODERATE', 'uvIndexIconText': 'M', 'uvIndexText': 'Moderate', 'weatherType': 3, 'weatherTypeText': 'Sunny Intervals', 'windDescription': 'Light winds from the south', 'windDirection': 'S', 'windDirectionAbbreviation': 'S', 'windDirectionFull': 'Southerly', 'windSpeedKph': 6, 'windSpeedMph': 4}\n",
            "{'issueDate': '2025-01-11T10:01:25+01:00', 'lastUpdated': '2025-01-11T10:01:25.277+01:00', 'report': {'enhancedWeatherDescription': 'Light rain and light winds', 'gustSpeedKph': 14, 'gustSpeedMph': 9, 'localDate': '2025-01-22', 'lowermaxTemperatureC': None, 'lowermaxTemperatureF': None, 'lowerminTemperatureC': None, 'lowerminTemperatureF': None, 'maxTempC': 12, 'maxTempF': 54, 'minTempC': 3, 'minTempF': 37, 'mostLikelyHighTemperatureC': 16, 'mostLikelyHighTemperatureF': 61, 'mostLikelyLowTemperatureC': -2, 'mostLikelyLowTemperatureF': 29, 'pollenIndex': None, 'pollenIndexBand': None, 'pollenIndexIconText': None, 'pollenIndexText': None, 'pollutionIndex': None, 'pollutionIndexBand': None, 'pollutionIndexIconText': None, 'pollutionIndexText': None, 'precipitationProbabilityInPercent': 33, 'precipitationProbabilityText': 'Chance of precipitation', 'sunrise': '08:33', 'sunset': '18:21', 'uppermaxTemperatureC': None, 'uppermaxTemperatureF': None, 'upperminTemperatureC': None, 'upperminTemperatureF': None, 'uvIndex': 2, 'uvIndexBand': 'LOW', 'uvIndexIconText': 'L', 'uvIndexText': 'Low', 'weatherType': 12, 'weatherTypeText': 'Light Rain', 'windDescription': 'Light winds from the south east', 'windDirection': 'SE', 'windDirectionAbbreviation': 'SE', 'windDirectionFull': 'South Easterly', 'windSpeedKph': 7, 'windSpeedMph': 4}} {'enhancedWeatherDescription': 'Light rain and light winds', 'gustSpeedKph': 14, 'gustSpeedMph': 9, 'localDate': '2025-01-22', 'lowermaxTemperatureC': None, 'lowermaxTemperatureF': None, 'lowerminTemperatureC': None, 'lowerminTemperatureF': None, 'maxTempC': 12, 'maxTempF': 54, 'minTempC': 3, 'minTempF': 37, 'mostLikelyHighTemperatureC': 16, 'mostLikelyHighTemperatureF': 61, 'mostLikelyLowTemperatureC': -2, 'mostLikelyLowTemperatureF': 29, 'pollenIndex': None, 'pollenIndexBand': None, 'pollenIndexIconText': None, 'pollenIndexText': None, 'pollutionIndex': None, 'pollutionIndexBand': None, 'pollutionIndexIconText': None, 'pollutionIndexText': None, 'precipitationProbabilityInPercent': 33, 'precipitationProbabilityText': 'Chance of precipitation', 'sunrise': '08:33', 'sunset': '18:21', 'uppermaxTemperatureC': None, 'uppermaxTemperatureF': None, 'upperminTemperatureC': None, 'upperminTemperatureF': None, 'uvIndex': 2, 'uvIndexBand': 'LOW', 'uvIndexIconText': 'L', 'uvIndexText': 'Low', 'weatherType': 12, 'weatherTypeText': 'Light Rain', 'windDescription': 'Light winds from the south east', 'windDirection': 'SE', 'windDirectionAbbreviation': 'SE', 'windDirectionFull': 'South Easterly', 'windSpeedKph': 7, 'windSpeedMph': 4}\n",
            "{'issueDate': '2025-01-11T10:01:25+01:00', 'lastUpdated': '2025-01-11T10:01:25.277+01:00', 'report': {'enhancedWeatherDescription': 'Sunny and light winds', 'gustSpeedKph': 16, 'gustSpeedMph': 10, 'localDate': '2025-01-23', 'lowermaxTemperatureC': None, 'lowermaxTemperatureF': None, 'lowerminTemperatureC': None, 'lowerminTemperatureF': None, 'maxTempC': 12, 'maxTempF': 54, 'minTempC': 3, 'minTempF': 37, 'mostLikelyHighTemperatureC': 17, 'mostLikelyHighTemperatureF': 62, 'mostLikelyLowTemperatureC': -2, 'mostLikelyLowTemperatureF': 28, 'pollenIndex': None, 'pollenIndexBand': None, 'pollenIndexIconText': None, 'pollenIndexText': None, 'pollutionIndex': None, 'pollutionIndexBand': None, 'pollutionIndexIconText': None, 'pollutionIndexText': None, 'precipitationProbabilityInPercent': 18, 'precipitationProbabilityText': 'Low chance of precipitation', 'sunrise': '08:32', 'sunset': '18:22', 'uppermaxTemperatureC': None, 'uppermaxTemperatureF': None, 'upperminTemperatureC': None, 'upperminTemperatureF': None, 'uvIndex': 4, 'uvIndexBand': 'MODERATE', 'uvIndexIconText': 'M', 'uvIndexText': 'Moderate', 'weatherType': 1, 'weatherTypeText': 'Sunny', 'windDescription': 'Light winds from the east', 'windDirection': 'E', 'windDirectionAbbreviation': 'E', 'windDirectionFull': 'Easterly', 'windSpeedKph': 7, 'windSpeedMph': 4}} {'enhancedWeatherDescription': 'Sunny and light winds', 'gustSpeedKph': 16, 'gustSpeedMph': 10, 'localDate': '2025-01-23', 'lowermaxTemperatureC': None, 'lowermaxTemperatureF': None, 'lowerminTemperatureC': None, 'lowerminTemperatureF': None, 'maxTempC': 12, 'maxTempF': 54, 'minTempC': 3, 'minTempF': 37, 'mostLikelyHighTemperatureC': 17, 'mostLikelyHighTemperatureF': 62, 'mostLikelyLowTemperatureC': -2, 'mostLikelyLowTemperatureF': 28, 'pollenIndex': None, 'pollenIndexBand': None, 'pollenIndexIconText': None, 'pollenIndexText': None, 'pollutionIndex': None, 'pollutionIndexBand': None, 'pollutionIndexIconText': None, 'pollutionIndexText': None, 'precipitationProbabilityInPercent': 18, 'precipitationProbabilityText': 'Low chance of precipitation', 'sunrise': '08:32', 'sunset': '18:22', 'uppermaxTemperatureC': None, 'uppermaxTemperatureF': None, 'upperminTemperatureC': None, 'upperminTemperatureF': None, 'uvIndex': 4, 'uvIndexBand': 'MODERATE', 'uvIndexIconText': 'M', 'uvIndexText': 'Moderate', 'weatherType': 1, 'weatherTypeText': 'Sunny', 'windDescription': 'Light winds from the east', 'windDirection': 'E', 'windDirectionAbbreviation': 'E', 'windDirectionFull': 'Easterly', 'windSpeedKph': 7, 'windSpeedMph': 4}\n",
            "{'issueDate': '2025-01-11T10:01:25+01:00', 'lastUpdated': '2025-01-11T10:01:25.277+01:00', 'report': {'enhancedWeatherDescription': 'Sunny and light winds', 'gustSpeedKph': 11, 'gustSpeedMph': 7, 'localDate': '2025-01-24', 'lowermaxTemperatureC': None, 'lowermaxTemperatureF': None, 'lowerminTemperatureC': None, 'lowerminTemperatureF': None, 'maxTempC': 13, 'maxTempF': 55, 'minTempC': 2, 'minTempF': 36, 'mostLikelyHighTemperatureC': 17, 'mostLikelyHighTemperatureF': 63, 'mostLikelyLowTemperatureC': -3, 'mostLikelyLowTemperatureF': 27, 'pollenIndex': None, 'pollenIndexBand': None, 'pollenIndexIconText': None, 'pollenIndexText': None, 'pollutionIndex': None, 'pollutionIndexBand': None, 'pollutionIndexIconText': None, 'pollutionIndexText': None, 'precipitationProbabilityInPercent': 0, 'precipitationProbabilityText': 'Precipitation is not expected', 'sunrise': '08:31', 'sunset': '18:23', 'uppermaxTemperatureC': None, 'uppermaxTemperatureF': None, 'upperminTemperatureC': None, 'upperminTemperatureF': None, 'uvIndex': 4, 'uvIndexBand': 'MODERATE', 'uvIndexIconText': 'M', 'uvIndexText': 'Moderate', 'weatherType': 1, 'weatherTypeText': 'Sunny', 'windDescription': 'Light winds from the east', 'windDirection': 'E', 'windDirectionAbbreviation': 'E', 'windDirectionFull': 'Easterly', 'windSpeedKph': 8, 'windSpeedMph': 5}} {'enhancedWeatherDescription': 'Sunny and light winds', 'gustSpeedKph': 11, 'gustSpeedMph': 7, 'localDate': '2025-01-24', 'lowermaxTemperatureC': None, 'lowermaxTemperatureF': None, 'lowerminTemperatureC': None, 'lowerminTemperatureF': None, 'maxTempC': 13, 'maxTempF': 55, 'minTempC': 2, 'minTempF': 36, 'mostLikelyHighTemperatureC': 17, 'mostLikelyHighTemperatureF': 63, 'mostLikelyLowTemperatureC': -3, 'mostLikelyLowTemperatureF': 27, 'pollenIndex': None, 'pollenIndexBand': None, 'pollenIndexIconText': None, 'pollenIndexText': None, 'pollutionIndex': None, 'pollutionIndexBand': None, 'pollutionIndexIconText': None, 'pollutionIndexText': None, 'precipitationProbabilityInPercent': 0, 'precipitationProbabilityText': 'Precipitation is not expected', 'sunrise': '08:31', 'sunset': '18:23', 'uppermaxTemperatureC': None, 'uppermaxTemperatureF': None, 'upperminTemperatureC': None, 'upperminTemperatureF': None, 'uvIndex': 4, 'uvIndexBand': 'MODERATE', 'uvIndexIconText': 'M', 'uvIndexText': 'Moderate', 'weatherType': 1, 'weatherTypeText': 'Sunny', 'windDescription': 'Light winds from the east', 'windDirection': 'E', 'windDirectionAbbreviation': 'E', 'windDirectionFull': 'Easterly', 'windSpeedKph': 8, 'windSpeedMph': 5}\n"
          ]
        }
      ],
      "source": [
        "forecasts = data_weather['forecasts']\n",
        "records = []\n",
        "\n",
        "for forecast in forecasts:\n",
        "    summary = forecast['summary']\n",
        "    report = summary['report']\n",
        "    \n",
        "    record = {\n",
        "        'localDate': summary['issueDate']\n",
        "        'Temperature': report[]\n",
        "    }"
      ]
    },
    {
      "cell_type": "code",
      "execution_count": 74,
      "metadata": {},
      "outputs": [
        {
          "data": {
            "text/plain": [
              "[]"
            ]
          },
          "execution_count": 74,
          "metadata": {},
          "output_type": "execute_result"
        }
      ],
      "source": [
        "records"
      ]
    },
    {
      "cell_type": "markdown",
      "metadata": {
        "id": "mCYHNvv_WDIg"
      },
      "source": [
        "#### Crear el DataFrame"
      ]
    },
    {
      "cell_type": "code",
      "execution_count": null,
      "metadata": {},
      "outputs": [],
      "source": []
    },
    {
      "cell_type": "markdown",
      "metadata": {},
      "source": [
        "#### Trazar un gráfico"
      ]
    },
    {
      "cell_type": "code",
      "execution_count": 37,
      "metadata": {
        "colab": {
          "base_uri": "https://localhost:8080/",
          "height": 283
        },
        "id": "d1rEpllFWDIh",
        "outputId": "9d94cb8f-7171-46ac-f162-4f43352b66d1"
      },
      "outputs": [
        {
          "data": {
            "text/plain": [
              "12"
            ]
          },
          "execution_count": 37,
          "metadata": {},
          "output_type": "execute_result"
        }
      ],
      "source": [
        "temp_per_hour"
      ]
    }
  ],
  "metadata": {
    "colab": {
      "provenance": []
    },
    "instance_type": "ml.t3.medium",
    "kernelspec": {
      "display_name": "bootcamp-ds-D1404OgA-py3.11",
      "language": "python",
      "name": "python3"
    },
    "language_info": {
      "codemirror_mode": {
        "name": "ipython",
        "version": 3
      },
      "file_extension": ".py",
      "mimetype": "text/x-python",
      "name": "python",
      "nbconvert_exporter": "python",
      "pygments_lexer": "ipython3",
      "version": "3.11.9"
    }
  },
  "nbformat": 4,
  "nbformat_minor": 0
}
