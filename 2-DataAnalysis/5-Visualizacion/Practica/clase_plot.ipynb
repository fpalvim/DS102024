{
 "cells": [
  {
   "cell_type": "markdown",
   "metadata": {},
   "source": [
    "# Ejercicio: Generador de Gráficos Automático\n",
    "\n",
    "## Instrucciones:\n",
    "1. Crea una clase llamada `AutoPlot`.\n",
    "\n",
    "2. La clase debe tener tres métodos principales:\n",
    "   - `univariate_plot`: para gráficos univariantes.\n",
    "   - `bivariate_plot`: para gráficos bivariantes.\n",
    "   - `multivariate_plot`: para gráficos multivariantes.\n",
    "\n",
    "3. Cada método debe recibir como argumentos:\n",
    "   - `data`: un DataFrame de pandas que contiene los datos.\n",
    "   - `variables`: una lista de nombres de columnas.\n",
    "   - `types`: una lista de tipos correspondientes a cada columna (nominal, ordinal, continuo, discreto, fecha).\n",
    "   \n",
    "4. Los métodos deben seleccionar y generar automáticamente el gráfico más adecuado basado en los tipos de variables.\n"
   ]
  },
  {
   "cell_type": "code",
   "execution_count": null,
   "metadata": {},
   "outputs": [],
   "source": [
    "import matplotlib.pyplot as plt\n",
    "import seaborn as sns\n",
    "\n",
    "\n",
    "class AutoPlot:\n",
    "    def __init__(self):\n",
    "        self.numeric_plots = ['hist', 'boxplot', 'kde']\n",
    "        self.categorical_plots = ['countplot', 'barplot']\n",
    "        self.bivariate_plots = {\n",
    "            ('numeric', 'numeric'): 'scatterplot',\n",
    "            ('numeric', 'categorical'): 'boxplot',\n",
    "            ('categorical', 'categorical'): 'countplot'\n",
    "        }\n",
    "\n",
    "    def univariate_plot(self, data, variable, type):\n",
    "        if type in ['continuo', 'discreto']:\n",
    "            sns.histplot(data=data, x=variable, kde=True)\n",
    "        elif type == 'nominal' or type == 'ordinal':\n",
    "            sns.countplot(data=data, x=variable)\n",
    "        plt.title(f'Distribución de {variable}')\n",
    "        plt.show()\n",
    "\n",
    "    def bivariate_plot(self, data, variables, types):\n",
    "        plot_type = self.bivariate_plots.get((types[0], types[1]), None)\n",
    "        if plot_type == 'scatterplot':\n",
    "            sns.scatterplot(data=data, x=variables[0], y=variables[1])\n",
    "        elif plot_type == 'boxplot':\n",
    "            sns.boxplot(data=data, x=variables[1], y=variables[0]) \n",
    "        elif plot_type == 'countplot':\n",
    "            sns.countplot(data=data, x=variables[0], hue=variables[1])\n",
    "        plt.title(f'Relación entre {variables[0]} y {variables[1]}')\n",
    "        plt.show()\n",
    "\n",
    "    def multivariate_plot(self, data, variables, types):\n",
    "       \n",
    "        numeric_vars = [var for var, t in zip(variables, types) if t in ['continuo', 'discreto']]\n",
    "        if len(numeric_vars) > 1:\n",
    "            sns.pairplot(data[numeric_vars])\n",
    "        plt.show()"
   ]
  }
 ],
 "metadata": {
  "kernelspec": {
   "display_name": "bootcamp-ds-D1404OgA-py3.11",
   "language": "python",
   "name": "python3"
  },
  "language_info": {
   "name": "python",
   "version": "3.11.9"
  }
 },
 "nbformat": 4,
 "nbformat_minor": 2
}
