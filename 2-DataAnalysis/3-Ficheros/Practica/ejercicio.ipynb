{
 "cells": [
  {
   "cell_type": "markdown",
   "metadata": {},
   "source": [
    "# AutoImporter para Importaciones Simplificadas"
   ]
  },
  {
   "cell_type": "markdown",
   "metadata": {},
   "source": [
    "# Objetivo:\n",
    "\n",
    "Crear una clase en Python que, al ser importada y utilizada al inicio de un notebook o script, permita importar módulos directamente utilizando solo el nombre del archivo, sin necesidad de especificar rutas relativas o absolutas.\n",
    "\n",
    "# Descripción:\n",
    "En proyectos con estructuras de directorios complejas, es común tener que escribir rutas largas y complicadas para importar módulos ubicados en carpetas profundas. Esto puede hacer que el código sea menos legible y más propenso a errores. Para simplificar este proceso, se te pide que implementes una clase llamada AutoImporter que modifique dinámicamente el entorno de importaciones de Python.\n",
    "\n",
    "# Requisitos:\n",
    "\n",
    "1. Clase AutoImporter:\n",
    "\n",
    "    - Debe estar implementada en un archivo Python, por ejemplo, auto_importer.py.\n",
    "    - Al instanciar esta clase, debe:\n",
    "        - Añadir automáticamente al sys.path todos los subdirectorios del directorio base especificado, permitiendo que Python pueda encontrar y cargar módulos desde cualquier subdirectorio.\n",
    "        - Si no se especifica un directorio base, debe utilizar el directorio actual desde donde se ejecuta el notebook o script (Path.cwd()).\n",
    "\n",
    "2. Métodos de la Clase:\n",
    "\n",
    "    - **__init__(self, base_dir=None)**: Constructor que acepta un parámetro opcional base_dir. Si se proporciona, este será el directorio base para buscar subdirectorios; si no, se utilizará el directorio actual.\n",
    "    - **add_to_sys_path(self)**: Método que recorre recursivamente todos los subdirectorios del base_dir y los añade a sys.path.\n",
    "\n",
    "2. Uso de la Clase:\n",
    "\n",
    "    - Una vez creada la instancia de la clase AutoImporter en un notebook o script, debe ser posible importar cualquier archivo ubicado en las subcarpetas del base_dir sin necesidad de escribir la ruta completa, usando únicamente import nombre_modulo."
   ]
  },
  {
   "cell_type": "markdown",
   "metadata": {},
   "source": [
    "## Ejemplo de Uso:\n",
    "\n",
    "Supongamos que tienes la siguiente estructura de carpetas:"
   ]
  },
  {
   "cell_type": "markdown",
   "metadata": {},
   "source": [
    "````/mi_proyecto\n",
    "│\n",
    "├── /src\n",
    "│   ├── /utils\n",
    "│   │   └── mi_utilidad.py\n",
    "│   └── /models\n",
    "│       └── mi_modelo.py\n",
    "└── main.py"
   ]
  },
  {
   "cell_type": "markdown",
   "metadata": {},
   "source": [
    "Si utilizas la clase AutoImporter al inicio de main.py, podrías importar los módulos mi_utilidad.py y mi_modelo.py directamente en el código de la siguiente manera:"
   ]
  },
  {
   "cell_type": "markdown",
   "metadata": {
    "vscode": {
     "languageId": "plaintext"
    }
   },
   "source": [
    "```python\n",
    "from auto_importer import AutoImporter\n",
    "\n",
    "# Inicializa el AutoImporter, utilizando la carpeta 'src' como base\n",
    "auto_importer = AutoImporter(base_dir='src')\n",
    "\n",
    "# Ahora puedes importar los módulos directamente por su nombre\n",
    "import mi_utilidad\n",
    "import mi_modelo"
   ]
  },
  {
   "cell_type": "markdown",
   "metadata": {},
   "source": [
    "Con esta clase, ya no será necesario especificar rutas como from utils.mi_utilidad import ... o from models.mi_modelo import ..., lo que simplifica el proceso de importación en proyectos con estructuras de carpetas complejas."
   ]
  },
  {
   "cell_type": "markdown",
   "metadata": {},
   "source": [
    "# Ejercicio_descargas (PDF), script a continuación"
   ]
  },
  {
   "cell_type": "code",
   "execution_count": 3,
   "metadata": {},
   "outputs": [
    {
     "ename": "Error",
     "evalue": "Cannot move a directory 'C:\\Users\\Felipe\\Desktop\\fake_downloads\\others' into itself 'C:\\Users\\Felipe\\Desktop\\fake_downloads\\others\\others'.",
     "output_type": "error",
     "traceback": [
      "\u001b[1;31m---------------------------------------------------------------------------\u001b[0m",
      "\u001b[1;31mOSError\u001b[0m                                   Traceback (most recent call last)",
      "File \u001b[1;32mC:\\Program Files\\Python311\\Lib\\shutil.py:853\u001b[0m, in \u001b[0;36mmove\u001b[1;34m(src, dst, copy_function)\u001b[0m\n\u001b[0;32m    852\u001b[0m \u001b[38;5;28;01mtry\u001b[39;00m:\n\u001b[1;32m--> 853\u001b[0m     \u001b[43mos\u001b[49m\u001b[38;5;241;43m.\u001b[39;49m\u001b[43mrename\u001b[49m\u001b[43m(\u001b[49m\u001b[43msrc\u001b[49m\u001b[43m,\u001b[49m\u001b[43m \u001b[49m\u001b[43mreal_dst\u001b[49m\u001b[43m)\u001b[49m\n\u001b[0;32m    854\u001b[0m \u001b[38;5;28;01mexcept\u001b[39;00m \u001b[38;5;167;01mOSError\u001b[39;00m:\n",
      "\u001b[1;31mOSError\u001b[0m: [WinError 87] The parameter is incorrect: 'C:\\\\Users\\\\Felipe\\\\Desktop\\\\fake_downloads\\\\others' -> 'C:\\\\Users\\\\Felipe\\\\Desktop\\\\fake_downloads\\\\others\\\\others'",
      "\nDuring handling of the above exception, another exception occurred:\n",
      "\u001b[1;31mError\u001b[0m                                     Traceback (most recent call last)",
      "Cell \u001b[1;32mIn[3], line 31\u001b[0m\n\u001b[0;32m     28\u001b[0m origen_archivo \u001b[38;5;241m=\u001b[39m os\u001b[38;5;241m.\u001b[39mpath\u001b[38;5;241m.\u001b[39mjoin(root_dir, archivo)\n\u001b[0;32m     29\u001b[0m destino_archivo \u001b[38;5;241m=\u001b[39m os\u001b[38;5;241m.\u001b[39mpath\u001b[38;5;241m.\u001b[39mjoin(destination_dir, archivo)\n\u001b[1;32m---> 31\u001b[0m \u001b[43mmove\u001b[49m\u001b[43m(\u001b[49m\u001b[43morigen_archivo\u001b[49m\u001b[43m,\u001b[49m\u001b[43mdestino_archivo\u001b[49m\u001b[43m)\u001b[49m\n",
      "File \u001b[1;32mC:\\Program Files\\Python311\\Lib\\shutil.py:861\u001b[0m, in \u001b[0;36mmove\u001b[1;34m(src, dst, copy_function)\u001b[0m\n\u001b[0;32m    859\u001b[0m \u001b[38;5;28;01melif\u001b[39;00m os\u001b[38;5;241m.\u001b[39mpath\u001b[38;5;241m.\u001b[39misdir(src):\n\u001b[0;32m    860\u001b[0m     \u001b[38;5;28;01mif\u001b[39;00m _destinsrc(src, dst):\n\u001b[1;32m--> 861\u001b[0m         \u001b[38;5;28;01mraise\u001b[39;00m Error(\u001b[38;5;124m\"\u001b[39m\u001b[38;5;124mCannot move a directory \u001b[39m\u001b[38;5;124m'\u001b[39m\u001b[38;5;132;01m%s\u001b[39;00m\u001b[38;5;124m'\u001b[39m\u001b[38;5;124m into itself\u001b[39m\u001b[38;5;124m\"\u001b[39m\n\u001b[0;32m    862\u001b[0m                     \u001b[38;5;124m\"\u001b[39m\u001b[38;5;124m \u001b[39m\u001b[38;5;124m'\u001b[39m\u001b[38;5;132;01m%s\u001b[39;00m\u001b[38;5;124m'\u001b[39m\u001b[38;5;124m.\u001b[39m\u001b[38;5;124m\"\u001b[39m \u001b[38;5;241m%\u001b[39m (src, dst))\n\u001b[0;32m    863\u001b[0m     \u001b[38;5;28;01mif\u001b[39;00m (_is_immutable(src)\n\u001b[0;32m    864\u001b[0m             \u001b[38;5;129;01mor\u001b[39;00m (\u001b[38;5;129;01mnot\u001b[39;00m os\u001b[38;5;241m.\u001b[39maccess(src, os\u001b[38;5;241m.\u001b[39mW_OK) \u001b[38;5;129;01mand\u001b[39;00m os\u001b[38;5;241m.\u001b[39mlistdir(src)\n\u001b[0;32m    865\u001b[0m                 \u001b[38;5;129;01mand\u001b[39;00m sys\u001b[38;5;241m.\u001b[39mplatform \u001b[38;5;241m==\u001b[39m \u001b[38;5;124m'\u001b[39m\u001b[38;5;124mdarwin\u001b[39m\u001b[38;5;124m'\u001b[39m)):\n\u001b[0;32m    866\u001b[0m         \u001b[38;5;28;01mraise\u001b[39;00m \u001b[38;5;167;01mPermissionError\u001b[39;00m(\u001b[38;5;124m\"\u001b[39m\u001b[38;5;124mCannot move the non-empty directory \u001b[39m\u001b[38;5;124m\"\u001b[39m\n\u001b[0;32m    867\u001b[0m                               \u001b[38;5;124m\"\u001b[39m\u001b[38;5;124m'\u001b[39m\u001b[38;5;132;01m%s\u001b[39;00m\u001b[38;5;124m'\u001b[39m\u001b[38;5;124m: Lacking write permission to \u001b[39m\u001b[38;5;124m'\u001b[39m\u001b[38;5;132;01m%s\u001b[39;00m\u001b[38;5;124m'\u001b[39m\u001b[38;5;124m.\u001b[39m\u001b[38;5;124m\"\u001b[39m\n\u001b[0;32m    868\u001b[0m                               \u001b[38;5;241m%\u001b[39m (src, src))\n",
      "\u001b[1;31mError\u001b[0m: Cannot move a directory 'C:\\Users\\Felipe\\Desktop\\fake_downloads\\others' into itself 'C:\\Users\\Felipe\\Desktop\\fake_downloads\\others\\others'."
     ]
    }
   ],
   "source": [
    "import os\n",
    "\n",
    "from shutil import move\n",
    "\n",
    "user = os.getlogin()\n",
    "root_dir = r\"C:\\Users\\Felipe\\Desktop\\fake_downloads\".format(user)\n",
    "image_dir = r\"C:\\Users\\Felipe\\Desktop\\fake_downloads\\images\".format(user)\n",
    "documents_dir = r\"C:\\Users\\Felipe\\Desktop\\fake_downloads\\docs\".format(user)\n",
    "others_dir = r\"C:\\Users\\Felipe\\Desktop\\fake_downloads\\others\".format(user)\n",
    "software_dir = r\"C:\\Users\\Felipe\\Desktop\\fake_downloads\\soft\".format(user)\n",
    "\n",
    "doc_types = ('.doc', '.docx', '.txt', '.pdf', '.xls', '.ppt', '.xlsx', '.pptx')\n",
    "img_types = ('.jpg', '.jpeg', '.png', '.svg', '.gif', '.tif', '.tiff')\n",
    "software_types = ('.exe', '.pkg', '.dmg')\n",
    "\n",
    "for archivo in os.listdir(root_dir):\n",
    "    extension_archivo = os.path.splitext(archivo)[1].lower()\n",
    "    if extension_archivo in doc_types:\n",
    "        destination_dir = documents_dir\n",
    "    elif extension_archivo in img_types:\n",
    "        destination_dir = image_dir\n",
    "    elif extension_archivo in software_types:\n",
    "        destination_dir = software_dir\n",
    "    else:\n",
    "        destination_dir = others_dir\n",
    "\n",
    "    os.makedirs(destination_dir, exist_ok=True)\n",
    "    origen_archivo = os.path.join(root_dir, archivo)\n",
    "    destino_archivo = os.path.join(destination_dir, archivo)\n",
    "\n",
    "    move(origen_archivo,destino_archivo)"
   ]
  },
  {
   "cell_type": "code",
   "execution_count": 1,
   "metadata": {},
   "outputs": [],
   "source": [
    "import sys\n",
    "import os\n",
    "from pathlib import Path\n",
    "\n",
    "sys.path.append(os.path.abspath(r'C:\\Users\\Felipe\\Desktop\\THE-BRIDGE\\THEBRIDGE-BOOTCAMP-GITHUB\\DS102024'))\n",
    "\n",
    "# target_path = Path().resolve() \n",
    "# target_path\n",
    "# sys.path.append(str(target_path))\n",
    "\n",
    "# current_dir = Path.cwd()\n",
    "# parent_dir = current_dir.parent"
   ]
  },
  {
   "cell_type": "code",
   "execution_count": 2,
   "metadata": {},
   "outputs": [],
   "source": [
    "from auto_importer import suma"
   ]
  },
  {
   "cell_type": "code",
   "execution_count": 3,
   "metadata": {},
   "outputs": [
    {
     "data": {
      "text/plain": [
       "5"
      ]
     },
     "execution_count": 3,
     "metadata": {},
     "output_type": "execute_result"
    }
   ],
   "source": [
    "suma(2,3)"
   ]
  }
 ],
 "metadata": {
  "kernelspec": {
   "display_name": "bootcamp-ds-D1404OgA-py3.11",
   "language": "python",
   "name": "python3"
  },
  "language_info": {
   "codemirror_mode": {
    "name": "ipython",
    "version": 3
   },
   "file_extension": ".py",
   "mimetype": "text/x-python",
   "name": "python",
   "nbconvert_exporter": "python",
   "pygments_lexer": "ipython3",
   "version": "3.11.9"
  }
 },
 "nbformat": 4,
 "nbformat_minor": 2
}
