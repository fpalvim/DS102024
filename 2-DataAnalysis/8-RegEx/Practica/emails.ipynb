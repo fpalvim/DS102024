{
 "cells": [
  {
   "cell_type": "code",
   "execution_count": 42,
   "metadata": {},
   "outputs": [],
   "source": [
    "import re\n",
    "\n",
    "emails = '''\n",
    "loquesea@\n",
    "juanmaniglia@thebridgeschool.tech\n",
    "juan.maniglia@uc3m.es\n",
    "juan-12-1993@mi-correo.net\n",
    "'''"
   ]
  },
  {
   "cell_type": "code",
   "execution_count": 5,
   "metadata": {},
   "outputs": [
    {
     "name": "stdout",
     "output_type": "stream",
     "text": [
      "<re.Match object; span=(13, 34), match='@thebridgeschool.tech'>\n",
      "<re.Match object; span=(48, 56), match='@uc3m.es'>\n",
      "<re.Match object; span=(71, 85), match='@mi-correo.net'>\n"
     ]
    }
   ],
   "source": []
  },
  {
   "cell_type": "code",
   "execution_count": 11,
   "metadata": {},
   "outputs": [
    {
     "name": "stdout",
     "output_type": "stream",
     "text": [
      "<re.Match object; span=(23, 44), match='@thebridgeschool.tech'>\n",
      "<re.Match object; span=(58, 66), match='@uc3m.es'>\n",
      "<re.Match object; span=(81, 95), match='@mi-correo.net'>\n"
     ]
    }
   ],
   "source": []
  },
  {
   "cell_type": "code",
   "execution_count": 48,
   "metadata": {},
   "outputs": [
    {
     "data": {
      "text/plain": [
       "['@thebridgeschool.tech', '@uc3m.es', '@mi-correo.net']"
      ]
     },
     "execution_count": 48,
     "metadata": {},
     "output_type": "execute_result"
    }
   ],
   "source": [
    "regla = r'@[a-zA-Z0-9.-]+\\.[a-zA-Z]{2,6}'\n",
    "re.findall(regla, emails)"
   ]
  }
 ],
 "metadata": {
  "kernelspec": {
   "display_name": "bootcamp-ds-D1404OgA-py3.11",
   "language": "python",
   "name": "python3"
  },
  "language_info": {
   "codemirror_mode": {
    "name": "ipython",
    "version": 3
   },
   "file_extension": ".py",
   "mimetype": "text/x-python",
   "name": "python",
   "nbconvert_exporter": "python",
   "pygments_lexer": "ipython3",
   "version": "3.11.9"
  },
  "orig_nbformat": 4
 },
 "nbformat": 4,
 "nbformat_minor": 2
}
