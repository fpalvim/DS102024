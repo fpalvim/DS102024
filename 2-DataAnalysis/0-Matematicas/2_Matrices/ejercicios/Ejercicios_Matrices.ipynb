{
 "cells": [
  {
   "cell_type": "markdown",
   "metadata": {
    "id": "AOe1_suhwZNN"
   },
   "source": [
    "### Ejercicio 1: Suma Matrices\n",
    "Complete la implementación de la función suma_matrices para que devuelva como resultado la suma entre las dos matrices (arreglos numpy) pasados como parámetro (recordá verificar que los tamaños sean compatibles). "
   ]
  },
  {
   "cell_type": "code",
   "execution_count": 3,
   "metadata": {
    "id": "CkVRd7MMwZNP"
   },
   "outputs": [
    {
     "data": {
      "text/plain": [
       "array([[5, 7, 9],\n",
       "       [9, 7, 5]])"
      ]
     },
     "execution_count": 3,
     "metadata": {},
     "output_type": "execute_result"
    }
   ],
   "source": [
    "import numpy as np\n",
    "def suma_matrices(A, B):\n",
    "  # suma = np.array([])\n",
    "  #complete con su código aquí\n",
    "  A = np.array(A)\n",
    "  B = np.array(B)\n",
    "  \n",
    "  for dim_a, dim_b in zip(A.shape[::-1], B.shape[::-1]):\n",
    "    if dim_a != dim_b and dim_a != 1 and dim_b != 1:\n",
    "      None\n",
    "  return A+B\n",
    "  \n",
    "suma_matrices([[1,2,3],[3,2,1]],[[4,5,6],[6,5,4]])"
   ]
  },
  {
   "cell_type": "code",
   "execution_count": 4,
   "metadata": {
    "cellView": "form",
    "id": "YYxIsuAswZNR"
   },
   "outputs": [
    {
     "name": "stdout",
     "output_type": "stream",
     "text": [
      "Tu función suma_matrices está excelente\n"
     ]
    }
   ],
   "source": [
    "#@title Ejecuta esta celda para evaluar tu función\n",
    "import numpy as np\n",
    "A = np.array([\n",
    "    [10,20,30],\n",
    "    [40,50,60]\n",
    "])\n",
    "\n",
    "B = np.array([\n",
    "    [10,50,30],\n",
    "    [40,20,60]\n",
    "])\n",
    "\n",
    "C = np.array([\n",
    "        [ 2,  3,  5,  -8],\n",
    "        [4, 13, 17, -19],\n",
    "        [23, 15, 31, 0]\n",
    "])\n",
    "\n",
    "D = np.array([\n",
    "        [ 2,  3,  5,  7],\n",
    "        [11, 13, 17, 19],\n",
    "        [23, 29, 31, 37]\n",
    "    ])\n",
    "\n",
    "def test_suma(A,B,C,D):\n",
    "  if( not (suma_matrices(A, B) == A + B).all()): raise ValueError(\"La suma entre A y B falla\")\n",
    "  try:\n",
    "    suma_matrices(C, A)\n",
    "    print(\"Tu función no contempla tamaños incompatibles a la hora de sumar\" )\n",
    "  except ValueError:\n",
    "    print(\"Tu función suma_matrices está excelente\")\n",
    "\n",
    "test_suma(A,B,C,D)"
   ]
  },
  {
   "cell_type": "markdown",
   "metadata": {
    "id": "deUSjqihk0Fk"
   },
   "source": [
    "### Ejercicio 2\n",
    "Complete la implementación de las funciones es_triangular_superior(), es_triangular_inferior() y es_diagonal() para que devuelvan verdadero o falso según corresponda. "
   ]
  },
  {
   "cell_type": "code",
   "execution_count": 182,
   "metadata": {
    "id": "EEYgk4_7p71E"
   },
   "outputs": [
    {
     "data": {
      "text/plain": [
       "True"
      ]
     },
     "execution_count": 182,
     "metadata": {},
     "output_type": "execute_result"
    }
   ],
   "source": [
    "def es_triangular_superior(A):\n",
    "  #complete con su código aquí\n",
    "  A = np.matrix(A)\n",
    "\n",
    "  if A.shape[0] != A.shape[1]:\n",
    "    return False\n",
    "  return np.allclose(A, np.triu(A))\n",
    "\n",
    "def es_triangular_inferior(A):\n",
    "  #complete con su código aquí  \n",
    "  A = np.matrix(A)\n",
    "\n",
    "  if A.shape[0] != A.shape[1]:\n",
    "    return False\n",
    "  return np.allclose(A, np.tril(A))\n",
    "\n",
    "def es_diagonal(A):\n",
    "  #complete con su código aquí\n",
    "  A = np.matrix(A)\n",
    " \n",
    "  if A.shape[0] != A.shape[1]:\n",
    "    return False  \n",
    "  return np.allclose(A, np.diag(np.diag(A)))\n",
    "\n",
    "es_triangular_superior([[1,0,0],[0,2,0],[0,0,3]])"
   ]
  },
  {
   "cell_type": "code",
   "execution_count": 183,
   "metadata": {
    "cellView": "form",
    "id": "h_OQM9pfsCMR"
   },
   "outputs": [
    {
     "name": "stdout",
     "output_type": "stream",
     "text": [
      "Las tres funciones están excelentes!\n"
     ]
    }
   ],
   "source": [
    "#@title Ejecuta esta celda para evaluar tu función\n",
    "import numpy as np\n",
    "A = np.array([[4, 1, 0],\n",
    "       [0, 5, 0],\n",
    "       [0, 0, 6]])\n",
    "\n",
    "B = np.array([[4, 0, 0],\n",
    "       [1, 5, 0],\n",
    "       [3, 0, 6]])\n",
    "\n",
    "C = np.array([[4, 0, 0],\n",
    "       [0, 5, 0],\n",
    "       [0, 0, 6]])\n",
    "\n",
    "D = np.array([\n",
    "        [ 2,  3,  5,  7],\n",
    "        [11, 13, 17, 19],\n",
    "        [23, 29, 31, 37]\n",
    "    ])\n",
    "\n",
    "def test(A,B,C,D):\n",
    "  if not es_triangular_superior(A): raise ValueError(\"tu función falla al detectar matrices triangulares superiores\")\n",
    "  if not es_triangular_inferior(B): raise ValueError(\"tu función falla al detectar matrices triangulares inferiores\")\n",
    "  if not es_diagonal(C): raise ValueError(\"tu función falla al detectar matrices diagonales\")\n",
    "  if es_triangular_superior(B) or es_triangular_superior(D): raise ValueError(\"tu función indica como matrices triangulares superiores algunas matrices que no lo son\")\n",
    "  if es_triangular_inferior(A) or es_triangular_inferior(D): raise ValueError(\"tu función indica como matrices triangulares inferiores algunas matrices que no lo son\")\n",
    "  if es_diagonal(A) or es_diagonal(D) or es_diagonal(B): raise ValueError(\"tu función indica como matrices diagonales algunas matrices que no lo son\")\n",
    "  print(\"Las tres funciones están excelentes!\")\n",
    "test(A,B,C,D)"
   ]
  },
  {
   "cell_type": "markdown",
   "metadata": {
    "id": "HhxxLQZlsmAI"
   },
   "source": [
    "### Ejercicio 3\n",
    "Complete la implementación de la función producto_matrices para que devuelva como resultado la multiplicación entre las dos matrices (arreglos numpy) pasados como parámetro (recuerda verificar que los tamaños sean compatibles). "
   ]
  },
  {
   "cell_type": "code",
   "execution_count": null,
   "metadata": {
    "id": "C-4XY7pniJbl"
   },
   "outputs": [],
   "source": [
    "def producto_matrices(a, b):\n",
    "  producto = np.array([])\n",
    "  #complete con su código aquí\n",
    "  \n",
    "  return producto"
   ]
  },
  {
   "cell_type": "code",
   "execution_count": 221,
   "metadata": {},
   "outputs": [
    {
     "data": {
      "text/plain": [
       "array([[26],\n",
       "       [26]])"
      ]
     },
     "execution_count": 221,
     "metadata": {},
     "output_type": "execute_result"
    }
   ],
   "source": [
    "def producto_matrices(a, b):\n",
    "#   producto = np.array([])\n",
    "  producto = np.dot(a,b)\n",
    "  #complete con su código aquí\n",
    "  a = np.array(a)\n",
    "  b = np.array(b)\n",
    "\n",
    "  if a.shape[1] != b.shape[0]:\n",
    "    print(\"Las matrices no son de tamaños compatibles\")\n",
    "  return producto\n",
    "\n",
    "producto_matrices([[1,2,3],[1,2,3]],[[3],[4],[5]])"
   ]
  },
  {
   "cell_type": "code",
   "execution_count": 222,
   "metadata": {
    "cellView": "form",
    "id": "__42ho37iYNr"
   },
   "outputs": [
    {
     "name": "stdout",
     "output_type": "stream",
     "text": [
      "Tu función producto_matrices está excelente\n"
     ]
    }
   ],
   "source": [
    "#@title Ejecuta esta celda para evaluar tu función\n",
    "import numpy as np\n",
    "A = np.array([\n",
    "    [10,20,30],\n",
    "    [40,50,60]\n",
    "])\n",
    "\n",
    "B = np.array([\n",
    "    [10,50,30],\n",
    "    [40,20,60]\n",
    "])\n",
    "\n",
    "C = np.array([\n",
    "        [ 2,  3,  5,  -8],\n",
    "        [4, 13, 17, -19],\n",
    "        [23, 15, 31, 0]\n",
    "])\n",
    "\n",
    "D = np.array([\n",
    "        [ 2,  3,  5,  7],\n",
    "        [11, 13, 17, 19],\n",
    "        [23, 29, 31, 37]\n",
    "    ])\n",
    "def test_producto(A,B,C,D):\n",
    "  if( not (producto_matrices(A, C) == A.dot(C)).all()): raise ValueError(\"La multiplicación entre A y C falla\")\n",
    "  try:\n",
    "    producto_matrices(C, A)\n",
    "    print(\"Tu función no contempla tamaños incompatibles a la hora de multiplicar\" )\n",
    "  except ValueError:\n",
    "    print(\"Tu función producto_matrices está excelente\")\n",
    "\n",
    "test_producto(A,B,C,D)\n",
    "\n",
    "def test_suma(A,B,C,D):\n",
    "  if( not (suma_matrices(A, B) == A + B).all()): raise ValueError(\"La suma entre A y B falla\")\n",
    "  try:\n",
    "    producto_matrices(C, A)\n",
    "    print(\"Tu función no contempla tamaños incompatibles a la hora de sumar\" )\n",
    "  except ValueError:\n",
    "    print(\"Tu función suma_matrices está excelente\")"
   ]
  }
 ],
 "metadata": {
  "colab": {
   "collapsed_sections": [
    "deUSjqihk0Fk",
    "HhxxLQZlsmAI"
   ],
   "name": "Ejercicios_Matrices",
   "provenance": []
  },
  "kernelspec": {
   "display_name": "bootcamp-ds-D1404OgA-py3.11",
   "language": "python",
   "name": "python3"
  },
  "language_info": {
   "codemirror_mode": {
    "name": "ipython",
    "version": 3
   },
   "file_extension": ".py",
   "mimetype": "text/x-python",
   "name": "python",
   "nbconvert_exporter": "python",
   "pygments_lexer": "ipython3",
   "version": "3.11.9"
  }
 },
 "nbformat": 4,
 "nbformat_minor": 0
}
