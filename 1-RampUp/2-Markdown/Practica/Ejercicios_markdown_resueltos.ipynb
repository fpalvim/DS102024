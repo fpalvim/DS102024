{
 "cells": [
  {
   "cell_type": "markdown",
   "metadata": {},
   "source": [
    "> # **Ejercicios de Markdown resueltos**"
   ]
  },
  {
   "cell_type": "markdown",
   "metadata": {},
   "source": [
    "# Aptitudes de Data Scientist\n",
    "\n",
    "> ### **Lo más importante**\n",
    ">\n",
    ">* Matemáticas\n",
    ">* Python\n",
    ">* SQL\n",
    ">\n",
    ">![imagen](./img/python.png)\n",
    ">>\n",
    ">Otro tema importante es el _Business Intelligence_  \n",
    ">Si tienes dudas puede scrivirme a: [miguel.nievas@thebridgeschool.es](miguel.nievas@thebridgeschool.es)  \n",
    ">En esta página se aprende mucho de machine learning: [**página con ML**](https://www.kaggle.com/)"
   ]
  },
  {
   "cell_type": "markdown",
   "metadata": {},
   "source": [
    "|**Ramp Up**|**Data Analysis**|**Machine Learning**|**Data & Business**|\n",
    "|---|---|---|---|\n",
    "|Python|EDA|Supervised|Productivización|\n",
    "|Estadistica|R|Non supervised|Storytelling|\n",
    "|SQL|Feat. Eng.|Deep Learning|API|\n",
    "\n",
    "$$\\sqrt{3x -1}+(1+x)^2$$"
   ]
  }
 ],
 "metadata": {
  "kernelspec": {
   "display_name": "Python 3.7.4 64-bit",
   "language": "python",
   "name": "python3"
  },
  "language_info": {
   "codemirror_mode": {
    "name": "ipython",
    "version": 3
   },
   "file_extension": ".py",
   "mimetype": "text/x-python",
   "name": "python",
   "nbconvert_exporter": "python",
   "pygments_lexer": "ipython3",
   "version": "3.7.4"
  },
  "vscode": {
   "interpreter": {
    "hash": "90139cb9a825bf3d63f6f6704e828dbd1ff7edbd4d0c6e906a71235d6efc74af"
   }
  }
 },
 "nbformat": 4,
 "nbformat_minor": 4
}
