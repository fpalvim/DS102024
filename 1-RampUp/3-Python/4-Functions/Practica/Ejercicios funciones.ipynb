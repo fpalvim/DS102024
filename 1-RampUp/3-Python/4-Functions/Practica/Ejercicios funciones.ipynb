{
 "cells": [
  {
   "cell_type": "markdown",
   "metadata": {},
   "source": [
    "![imagen](./img/ejercicios.png)"
   ]
  },
  {
   "cell_type": "markdown",
   "metadata": {},
   "source": [
    "# Ejercicios funciones\n",
    "## Ejercicio 1\n",
    "Escribe una función que convierta números del 1 al 7 en nombres de los dias de la semana. La función constará de un único argumento numérico y una salida de tipo string"
   ]
  },
  {
   "cell_type": "code",
   "execution_count": 17,
   "metadata": {},
   "outputs": [
    {
     "name": "stdout",
     "output_type": "stream",
     "text": [
      "Hoy es Domingo\n"
     ]
    }
   ],
   "source": [
    "def conversion_dias(x:int)->int:\n",
    "    match x:\n",
    "        case 1:\n",
    "            print(\"Hoy es lunes\")\n",
    "        case 2:\n",
    "            print(\"Hoy es martes\")\n",
    "        case 3:\n",
    "            print(\"Hoy es miercoles\")\n",
    "        case 4:\n",
    "            print(\"Hoy es Jueves\")\n",
    "        case 5:\n",
    "            print(\"Hoy es Viernes\")\n",
    "        case 6:\n",
    "            print(\"Hoy es Sabado\")\n",
    "        case 7:\n",
    "            print(\"Hoy es Domingo\")\n",
    "        case _:\n",
    "            print(\"El valor no coincide con ningun día de la semana\")\n",
    "\n",
    "conversion_dias(7)"
   ]
  },
  {
   "cell_type": "markdown",
   "metadata": {},
   "source": [
    "## Ejercicio 2\n",
    "En el ejercicio 8 de bucles, creábamos una pirámide invertida, cuyo número de pisos venía determinado por un input del usuario. Crea una función que replique el comportamiento de la pirámide, y utiliza un único parámetro de entrada de la función para determinar el número de filas de la pirámide, es decir, elimina la sentencia input."
   ]
  },
  {
   "cell_type": "code",
   "execution_count": 24,
   "metadata": {},
   "outputs": [
    {
     "name": "stdout",
     "output_type": "stream",
     "text": [
      "10 9 8 7 6 5 4 3 2 1 \n",
      "9 8 7 6 5 4 3 2 1 \n",
      "8 7 6 5 4 3 2 1 \n",
      "7 6 5 4 3 2 1 \n",
      "6 5 4 3 2 1 \n",
      "5 4 3 2 1 \n",
      "4 3 2 1 \n",
      "3 2 1 \n",
      "2 1 \n",
      "1 \n"
     ]
    }
   ],
   "source": [
    "def func_piramide(x:int):\n",
    "    for n in range(x,0,-1):\n",
    "        for m in range(n,0,-1):\n",
    "            print(m, end=\" \")\n",
    "        print()\n",
    "\n",
    "func_piramide(10)"
   ]
  },
  {
   "cell_type": "markdown",
   "metadata": {},
   "source": [
    "## Ejercicio 3\n",
    "Escibe una función que compare dos números. La función tiene dos argumentos y hay tres salidas posibles: que sean iguales, que el primero se  mayor que el segundo, o que el segundo sea mayor que el primero"
   ]
  },
  {
   "cell_type": "code",
   "execution_count": 29,
   "metadata": {},
   "outputs": [
    {
     "name": "stdout",
     "output_type": "stream",
     "text": [
      "Los dos números son iguales\n"
     ]
    }
   ],
   "source": [
    "def compara_numeros(x:int,y:int)->str:\n",
    "    if x == y:\n",
    "        print(\"Los dos números son iguales\")\n",
    "    elif x > y:\n",
    "        print(\"X es mas grande que Y\")\n",
    "    else:\n",
    "        print(\"Y es mas grande que X\")\n",
    "\n",
    "compara_numeros(2,2)"
   ]
  },
  {
   "cell_type": "markdown",
   "metadata": {},
   "source": [
    "## Ejercicio 4\n",
    "Escribe una función que sea un contador de letras. En el primer argumento tienes que introducir un texto, y el segundo que sea la letra a contar. La función tiene que devolver un entero con el número de veces que aparece esa letra, tanto mayuscula, como minúscula"
   ]
  },
  {
   "cell_type": "code",
   "execution_count": 39,
   "metadata": {},
   "outputs": [
    {
     "data": {
      "text/plain": [
       "4"
      ]
     },
     "execution_count": 39,
     "metadata": {},
     "output_type": "execute_result"
    }
   ],
   "source": [
    "def func_conta_letras(x:str,y:str)->int:\n",
    "    contador = 0\n",
    "    for letra in x.lower():\n",
    "        if letra in y:\n",
    "            contador += 1\n",
    "    return contador\n",
    "\n",
    "func_conta_letras(\"felipe EWw abcde\",\"e\")"
   ]
  },
  {
   "cell_type": "markdown",
   "metadata": {},
   "source": [
    "## Ejercicio 5\n",
    "Escribe una función que tenga un único argumento, un string. La salida de la función tiene que ser un diccionario con el conteo de todas las letras de ese string."
   ]
  },
  {
   "cell_type": "code",
   "execution_count": 54,
   "metadata": {},
   "outputs": [
    {
     "data": {
      "text/plain": [
       "{'f': 1, 'e': 3, 'l': 1, 'i': 1, 'p': 1, 'a': 1, 'b': 1, 'c': 1, 'd': 1}"
      ]
     },
     "execution_count": 54,
     "metadata": {},
     "output_type": "execute_result"
    }
   ],
   "source": [
    "def mi_funccion(x:str)->dict:\n",
    "    conteo = {}\n",
    "    for letra in x.lower().replace(\" \",\"\"):\n",
    "        if letra not in conteo:\n",
    "            conteo[letra] = 1\n",
    "        else:\n",
    "            conteo[letra] += 1\n",
    "    return conteo\n",
    "\n",
    "mi_funccion(\"felipe abcde\")"
   ]
  },
  {
   "cell_type": "markdown",
   "metadata": {},
   "source": [
    "## Ejercicio 6\n",
    "Escribir una función que añada o elimine elementos en una lista. La función necesita los siguientes argumentos:\n",
    "* lista: la lista donde se añadirán o eliminarán los elementos\n",
    "* comando: \"add\" o \"remove\"\n",
    "* elemento: Por defecto es None."
   ]
  },
  {
   "cell_type": "code",
   "execution_count": 36,
   "metadata": {},
   "outputs": [
    {
     "name": "stdout",
     "output_type": "stream",
     "text": [
      "Lista inicial: [1, 2, 3, 4, 5, 6]\n",
      "Este elemento ya está en la lista\n"
     ]
    }
   ],
   "source": [
    "def funcion_edicion_lista(lista:list, comando:True, elemento:None)->list:\n",
    "    print(f'Lista inicial: {lista}')\n",
    "\n",
    "    if comando == True:\n",
    "        if elemento is not None:\n",
    "            if elemento in lista:\n",
    "                print(\"Este elemento ya está en la lista\")   \n",
    "            else:\n",
    "                lista.append(elemento)\n",
    "                print(f'Has añadido un nuevo elemento, aquí está la lista actualizada: {lista}')\n",
    "        else:\n",
    "            print('Inserte un número válido para ser añadido a la lista')\n",
    "    else:\n",
    "        if elemento is not None:\n",
    "            if elemento not in lista:\n",
    "                print(\"Este elemento no está en la lista\")\n",
    "            else:\n",
    "                lista.remove(elemento)\n",
    "                print(f'Has eliminado un elemento, aquí está la lista actualizada: {lista}')\n",
    "        else:\n",
    "            print('Inserte un número válido para ser eliminado de la lista')\n",
    "\n",
    "funcion_edicion_lista([1,2,3,4,5,6],True,1)    "
   ]
  },
  {
   "cell_type": "markdown",
   "metadata": {},
   "source": [
    "## Ejercicio 7\n",
    "Crea una función que reciba un número arbitrario de palabras, y devuelva una frase completa, separando las palabras con espacios."
   ]
  },
  {
   "cell_type": "code",
   "execution_count": 42,
   "metadata": {},
   "outputs": [
    {
     "data": {
      "text/plain": [
       "'Felipe está aprendendo python'"
      ]
     },
     "execution_count": 42,
     "metadata": {},
     "output_type": "execute_result"
    }
   ],
   "source": [
    "def funcion_crear_frase(*palabras:str)-> str:\n",
    "    frase = \" \".join(palabras)\n",
    "    return frase\n",
    "\n",
    "funcion_crear_frase(\"Felipe\",\"está\",\"aprendendo\",\"python\")"
   ]
  },
  {
   "cell_type": "markdown",
   "metadata": {},
   "source": [
    "## Ejercicio 8\n",
    "Escribe un programa que obtenga el enésimo número de la [serie de Fibonacci](https://es.wikipedia.org/wiki/Sucesi%C3%B3n_de_Fibonacci). Tienes que crear una función recursiva con un único argumento.\n",
    "\n",
    "```Python\n",
    "fibonacci(2) = 1\n",
    "fibonacci(4) = 3\n",
    "fibonacci(5) = 5\n",
    "fibonacci(8) = 21\n",
    "```"
   ]
  },
  {
   "cell_type": "code",
   "execution_count": 51,
   "metadata": {},
   "outputs": [
    {
     "data": {
      "text/plain": [
       "21"
      ]
     },
     "execution_count": 51,
     "metadata": {},
     "output_type": "execute_result"
    }
   ],
   "source": [
    "def fibo(n:int)->int:\n",
    "    if n == 0:\n",
    "        return 0\n",
    "    elif n == 1:\n",
    "        return 1 \n",
    "    else:\n",
    "        return fibo(n-1) + fibo(n-2)\n",
    "\n",
    "fibo(8)"
   ]
  },
  {
   "cell_type": "markdown",
   "metadata": {},
   "source": [
    "## Ejercicio 9\n",
    "Define en una única celda las siguientes funciones:\n",
    "* Función que calcule el área de un cuadrado\n",
    "* Función que calcule el area de un triángulo\n",
    "* Función que calcule el área de un círculo\n",
    "\n",
    "En otra celda, calcular el area de:\n",
    "* Dos círculos de radio 10 + un triángulo de base 3 y altura 7\n",
    "* Un cuadrado de lado = 10 + 3 círculos (uno de radio = 4 y los otros dos de radio = 6) + 5 triángulos de base = 2 + altura = 4"
   ]
  },
  {
   "cell_type": "code",
   "execution_count": 10,
   "metadata": {},
   "outputs": [],
   "source": [
    "def cuadrado(b:float,a:float)->float:\n",
    "    return b*a\n",
    "\n",
    "def triangulo(b:float,a:float)->float:\n",
    "    return (b*a)/2\n",
    "\n",
    "def circulo(r:float, num_pi=3.14, y=2)->float:\n",
    "    area_circulo = num_pi * r**y\n",
    "    return round(area_circulo,2)"
   ]
  },
  {
   "cell_type": "code",
   "execution_count": 14,
   "metadata": {},
   "outputs": [
    {
     "name": "stdout",
     "output_type": "stream",
     "text": [
      "638.5\n"
     ]
    }
   ],
   "source": [
    "area_dos_circulos_mas_un_triangulo = circulo(10) + circulo(10) + triangulo(3,7)\n",
    "print(area_dos_circulos_mas_un_triangulo)"
   ]
  },
  {
   "cell_type": "code",
   "execution_count": 26,
   "metadata": {},
   "outputs": [
    {
     "name": "stdout",
     "output_type": "stream",
     "text": [
      "396.32\n"
     ]
    }
   ],
   "source": [
    "area_un_cuadrado_mas_tres_circulos_mas_cinco_triangulos = cuadrado(10,10) + circulo(4) + 2*circulo(6) + 5*triangulo(2,4)\n",
    "\n",
    "print(round(area_un_cuadrado_mas_tres_circulos_mas_cinco_triangulos,2))"
   ]
  }
 ],
 "metadata": {
  "kernelspec": {
   "display_name": "Python 3",
   "language": "python",
   "name": "python3"
  },
  "language_info": {
   "codemirror_mode": {
    "name": "ipython",
    "version": 3
   },
   "file_extension": ".py",
   "mimetype": "text/x-python",
   "name": "python",
   "nbconvert_exporter": "python",
   "pygments_lexer": "ipython3",
   "version": "3.11.9"
  }
 },
 "nbformat": 4,
 "nbformat_minor": 4
}
