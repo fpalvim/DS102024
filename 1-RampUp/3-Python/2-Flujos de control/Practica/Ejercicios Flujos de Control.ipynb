{
 "cells": [
  {
   "cell_type": "markdown",
   "metadata": {},
   "source": [
    "![imagen](./img/ejercicios.png)"
   ]
  },
  {
   "cell_type": "markdown",
   "metadata": {},
   "source": [
    "# Ejercicios Flujos de control"
   ]
  },
  {
   "cell_type": "markdown",
   "metadata": {},
   "source": [
    "## Ejercicio 1\n",
    "Declara una variable numérica que será una hora cualquiera del día. Implementa mediante sentencias `if/elif/else` la siguiente casuística:\n",
    "\n",
    "* Si es entre las 0 y las 8, print \"Durmiendo\"\n",
    "* Si es entre las 9 y las 18, print \"Trabajando\"\n",
    "* Si es entre las 19 y las 21, print \"Clase\"\n",
    "* Si es entre las 22 y las 24, print \"Descanso\"\n",
    "* En cualquier otro caso, print \"Transporte o error\""
   ]
  },
  {
   "cell_type": "code",
   "execution_count": 46,
   "metadata": {},
   "outputs": [
    {
     "name": "stdout",
     "output_type": "stream",
     "text": [
      "24\n",
      "Transporte\n"
     ]
    }
   ],
   "source": [
    "from datetime import datetime\n",
    "hora_actual = 24\n",
    "# hora_actual = datetime.now().hour\n",
    "print(hora_actual)\n",
    "\n",
    "if 0 <= hora_actual < 8:\n",
    "    print(\"durmiendo\")\n",
    "elif 9 <= hora_actual <18:\n",
    "    print(\"Trabajando\")\n",
    "elif 19 <= hora_actual < 21:\n",
    "    print(\"Clase\")\n",
    "elif 22 <= hora_actual < 24:\n",
    "    print(\"Descanso\")\n",
    "else:\n",
    "    print(\"Transporte\")"
   ]
  },
  {
   "cell_type": "markdown",
   "metadata": {},
   "source": [
    "## Ejercicio 2\n",
    "En este ejercicio vamos a implementar un calculador de precios de casas muy sencillo. Tenemos las siguientes variables:\n",
    "\n",
    "> superficie\n",
    ">\n",
    "> distrito\n",
    "\n",
    "Implementa mediante sentencias `if/elif/else` la siguiente casuística:\n",
    "\n",
    "1. Si el distrito es \"Moncloa\" o \"Centro\", y además la superficie es superior a 100 metros cuadrados, el precio de la casa es de 1000\n",
    "2. Si el distrito es \"Salamanca\", y además la superficie de la casa es al menos de 150 metros, el precio de la casa es de 1500\n",
    "3. Si el distrito no es \"Retiro\" y la superficie está entre 60 y 80 metros, el precio es de 600\n",
    "4. En cualquier otro caso, el precio será de 0"
   ]
  },
  {
   "cell_type": "code",
   "execution_count": 83,
   "metadata": {},
   "outputs": [
    {
     "name": "stdout",
     "output_type": "stream",
     "text": [
      "Precio: 1500 Euros\n"
     ]
    }
   ],
   "source": [
    "superficie = 150\n",
    "distrito = \"Salamanca\"\n",
    "\n",
    "if (distrito == \"Moncloa\" or distrito==\"Centro\") and int(superficie) > 100:\n",
    "    print(\"Precio: 1000 Euros\")\n",
    "elif distrito == \"Salamanca\" and int(superficie) >= 150:\n",
    "    print(\"Precio: 1500 Euros\")\n",
    "elif distrito != \"Retiro\" and 60 <= int(superficie) <= 80:\n",
    "    print(\"Precio: 600 Euros\")\n",
    "else:\n",
    "    print(\"Precio: 0 Euros\")"
   ]
  },
  {
   "cell_type": "markdown",
   "metadata": {},
   "source": [
    "## Ejercicio 3\n",
    "En este ejercicio vamos a realizar un programa muy parecido. Para este caso queremos que se cumplan las siguientes condiciones:\n",
    "\n",
    "1. Primero se compruebe si el distrito es \"Retiro\". Si es asi, que imprima \"Distrito Retiro\", y si no, \"Otro distrito\"\n",
    "2. Si el distrito es \"Retiro\", comprueba si si la superficie es mayor de 100 metros cuadrados. En tal caso, que imprima un precio de 1000, y si no, de 500.\n",
    "\n",
    "Hay que usar `ifs` anidados"
   ]
  },
  {
   "cell_type": "code",
   "execution_count": 93,
   "metadata": {},
   "outputs": [
    {
     "name": "stdout",
     "output_type": "stream",
     "text": [
      "Distrito Retiro\n",
      "El precio es: 500 Euros\n"
     ]
    }
   ],
   "source": [
    "distrito = \"Retiro\"\n",
    "superficie = 100\n",
    "\n",
    "if distrito == \"Retiro\":\n",
    "    print(\"Distrito Retiro\")\n",
    "    if superficie > 100:\n",
    "        print(\"El precio es: 1000 Euros\")\n",
    "    else:\n",
    "        print(\"El precio es: 500 Euros\")\n",
    "else:\n",
    "    print(\"Otro distrito\")"
   ]
  },
  {
   "cell_type": "markdown",
   "metadata": {},
   "source": [
    "## Ejercicio 4\n",
    "Escribe un programa que tenga dos variables: un numero, y una lista numérica. El programa debe recorrer la lista e imprimir por pantalla cada elemento de la lista multiplicado por el número"
   ]
  },
  {
   "cell_type": "code",
   "execution_count": 98,
   "metadata": {},
   "outputs": [
    {
     "name": "stdout",
     "output_type": "stream",
     "text": [
      "2\n",
      "4\n",
      "6\n",
      "8\n",
      "10\n",
      "12\n",
      "14000\n"
     ]
    }
   ],
   "source": [
    "numero = 2\n",
    "lista_numerica = [1,2,3,4,5,6,7000]\n",
    "\n",
    "for n in lista_numerica:\n",
    "    print(numero * n)"
   ]
  },
  {
   "cell_type": "markdown",
   "metadata": {},
   "source": [
    "## Ejercicio 5\n",
    "Imprime por pantalla cada número del -10 al -1. En ese orden. Consulta [la documentación](https://www.w3schools.com/python/ref_func_range.asp) de `range`"
   ]
  },
  {
   "cell_type": "code",
   "execution_count": 105,
   "metadata": {},
   "outputs": [
    {
     "name": "stdout",
     "output_type": "stream",
     "text": [
      "-10\n",
      "-9\n",
      "-8\n",
      "-7\n",
      "-6\n",
      "-5\n",
      "-4\n",
      "-3\n",
      "-2\n",
      "-1\n"
     ]
    }
   ],
   "source": [
    "n = range(-10,0)\n",
    "for num in n:\n",
    "    print(num)"
   ]
  },
  {
   "cell_type": "markdown",
   "metadata": {},
   "source": [
    "## Ejercicio 6\n",
    "Dada la siguiente lista:\n",
    "\n",
    "> list1 = [12, 15, 32, 42, 55, 75, 122, 132, 150, 180, 200]\n",
    "\n",
    "Implementa un programa que los recorra e imprima por pantalla todos los divisibles por 5. Si nos encontramos con alguno que sea mayor que 150, detener el bucle."
   ]
  },
  {
   "cell_type": "code",
   "execution_count": 112,
   "metadata": {},
   "outputs": [
    {
     "name": "stdout",
     "output_type": "stream",
     "text": [
      "15\n",
      "55\n",
      "75\n",
      "150\n"
     ]
    }
   ],
   "source": [
    "list1 = [12, 15, 32, 42, 55, 75, 122, 132, 150, 180, 200]\n",
    "\n",
    "for n in list1:\n",
    "    if n %5 == 0 and n <= 150:\n",
    "        print(n)"
   ]
  },
  {
   "cell_type": "markdown",
   "metadata": {},
   "source": [
    "## Ejercicio 7\n",
    "Escribe un programa en Python que imprima por pantalla todos los números divisibles por 5 y divisibles por 7, dentro del rango de valores (150, 350)"
   ]
  },
  {
   "cell_type": "code",
   "execution_count": 119,
   "metadata": {},
   "outputs": [
    {
     "name": "stdout",
     "output_type": "stream",
     "text": [
      "Multiplo de 5: 150\n",
      "Multiplo de 7: 154\n",
      "Multiplo de 5: 155\n",
      "Multiplo de 5: 160\n",
      "Multiplo de 7: 161\n",
      "Multiplo de 5: 165\n",
      "Multiplo de 7: 168\n",
      "Multiplo de 5: 170\n",
      "Multiplo de 7: 175\n",
      "Multiplo de 5: 175\n",
      "Multiplo de 5: 180\n",
      "Multiplo de 7: 182\n",
      "Multiplo de 5: 185\n",
      "Multiplo de 7: 189\n",
      "Multiplo de 5: 190\n",
      "Multiplo de 5: 195\n",
      "Multiplo de 7: 196\n",
      "Multiplo de 5: 200\n",
      "Multiplo de 7: 203\n",
      "Multiplo de 5: 205\n",
      "Multiplo de 7: 210\n",
      "Multiplo de 5: 210\n",
      "Multiplo de 5: 215\n",
      "Multiplo de 7: 217\n",
      "Multiplo de 5: 220\n",
      "Multiplo de 7: 224\n",
      "Multiplo de 5: 225\n",
      "Multiplo de 5: 230\n",
      "Multiplo de 7: 231\n",
      "Multiplo de 5: 235\n",
      "Multiplo de 7: 238\n",
      "Multiplo de 5: 240\n",
      "Multiplo de 7: 245\n",
      "Multiplo de 5: 245\n",
      "Multiplo de 5: 250\n",
      "Multiplo de 7: 252\n",
      "Multiplo de 5: 255\n",
      "Multiplo de 7: 259\n",
      "Multiplo de 5: 260\n",
      "Multiplo de 5: 265\n",
      "Multiplo de 7: 266\n",
      "Multiplo de 5: 270\n",
      "Multiplo de 7: 273\n",
      "Multiplo de 5: 275\n",
      "Multiplo de 7: 280\n",
      "Multiplo de 5: 280\n",
      "Multiplo de 5: 285\n",
      "Multiplo de 7: 287\n",
      "Multiplo de 5: 290\n",
      "Multiplo de 7: 294\n",
      "Multiplo de 5: 295\n",
      "Multiplo de 5: 300\n",
      "Multiplo de 7: 301\n",
      "Multiplo de 5: 305\n",
      "Multiplo de 7: 308\n",
      "Multiplo de 5: 310\n",
      "Multiplo de 7: 315\n",
      "Multiplo de 5: 315\n",
      "Multiplo de 5: 320\n",
      "Multiplo de 7: 322\n",
      "Multiplo de 5: 325\n",
      "Multiplo de 7: 329\n",
      "Multiplo de 5: 330\n",
      "Multiplo de 5: 335\n",
      "Multiplo de 7: 336\n",
      "Multiplo de 5: 340\n",
      "Multiplo de 7: 343\n",
      "Multiplo de 5: 345\n"
     ]
    }
   ],
   "source": [
    "mi_range = range(150,350)\n",
    "\n",
    "for n in mi_range:\n",
    "    if n %7 == 0:\n",
    "        print(f'Multiplo de 7: {n}')\n",
    "    if n %5 == 0:\n",
    "        print(f'Multiplo de 5: {n}')"
   ]
  },
  {
   "cell_type": "markdown",
   "metadata": {},
   "source": [
    "## Ejercicio 8\n",
    "Implementa un programa que imprima por pantalla el siguiente patrón\n",
    "\n",
    "5 4 3 2 1 \n",
    "\n",
    "4 3 2 1 \n",
    "\n",
    "3 2 1 \n",
    "\n",
    "2 1 \n",
    "\n",
    "1\n",
    "\n",
    "NOTA: NO hay lineas en blanco entre una línea y otra."
   ]
  },
  {
   "cell_type": "code",
   "execution_count": 155,
   "metadata": {},
   "outputs": [
    {
     "name": "stdout",
     "output_type": "stream",
     "text": [
      "5 4 3 2 1 \n",
      "4 3 2 1 \n",
      "3 2 1 \n",
      "2 1 \n",
      "1 \n"
     ]
    }
   ],
   "source": [
    "for n in range(5,0,-1):\n",
    "    for m in range(n,0,-1):\n",
    "        print(m, end=\" \")\n",
    "    print()"
   ]
  },
  {
   "cell_type": "markdown",
   "metadata": {},
   "source": [
    "## Ejercicio 9\n",
    "En este ejercicio vamos a crear un pequeño juego. Se trata de intentar adivinar un numero del 1 al 5. Tenemos dos intentos para acertar. Pasos a seguir:\n",
    "\n",
    "1. Ya viene implementado cómo obtener un número aleatorio del 1 al 5\n",
    "2. Tendrás que declarar en una variable el numero de vidas, y mediante un bucle while, comprobar que todavia quedan vidas.\n",
    "3. Dentro del bucle, obtener el valor del usuario y comprobar si es ese el numero a adivinar. Si no, actualizar las vidas.\n",
    "4. Si acertamos, salimos del bucle e imprimimos por pantalla \"You win\". Y si perdemos también salimos del bucle, pero en este caso imprimimos por pantalla \"You lose\".\n",
    "\n",
    "TIP: te puede resultar útil usar la sentencia `else` cuando acabe el bucle `while`. Lo que haya dentro de ese `else` se ejecutará una vez acabe la ejecución del `while`. Lo podrás usar para cuando pierdas."
   ]
  },
  {
   "cell_type": "code",
   "execution_count": 54,
   "metadata": {},
   "outputs": [
    {
     "name": "stdout",
     "output_type": "stream",
     "text": [
      "Error: Ingrese un número valido\n",
      "vidas: 1\n",
      "vidas: 0\n",
      "You lose\n"
     ]
    }
   ],
   "source": [
    "import random\n",
    "\n",
    "numero = random.randrange(1,6)\n",
    "vidas = 2\n",
    "\n",
    "for n in range(vidas):\n",
    "    while True:\n",
    "        try:\n",
    "            input_usuario = int(input(\"Ingrese aqui tu pálpito\"))\n",
    "            break\n",
    "        except ValueError:\n",
    "            print(\"Error: Ingrese un número valido\")\n",
    "    \n",
    "    if input_usuario == numero:\n",
    "        print(\"You win\")\n",
    "        break\n",
    "    else:\n",
    "        vidas -= 1\n",
    "        print(f'vidas: {vidas}')\n",
    "    if vidas == 0:\n",
    "        print('You lose')"
   ]
  }
 ],
 "metadata": {
  "kernelspec": {
   "display_name": "Python 3",
   "language": "python",
   "name": "python3"
  },
  "language_info": {
   "codemirror_mode": {
    "name": "ipython",
    "version": 3
   },
   "file_extension": ".py",
   "mimetype": "text/x-python",
   "name": "python",
   "nbconvert_exporter": "python",
   "pygments_lexer": "ipython3",
   "version": "3.11.9"
  }
 },
 "nbformat": 4,
 "nbformat_minor": 4
}
