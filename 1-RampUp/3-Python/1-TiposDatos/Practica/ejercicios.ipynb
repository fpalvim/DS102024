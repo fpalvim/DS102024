{
  "cells": [
    {
      "cell_type": "markdown",
      "metadata": {
        "id": "icvqxGGg_9Y6"
      },
      "source": [
        "# Ejercicios I"
      ]
    },
    {
      "cell_type": "markdown",
      "metadata": {
        "id": "5BT4_2Gd_9Y7"
      },
      "source": [
        "## 1- Cambiar un texto\n",
        "\n",
        "Necesitamos mostrar en nuestra web la sinopsis de las películas. El problema es que tenemos los textos separados por pipes (\"|\") en lugar de saltos de línea. "
      ]
    },
    {
      "cell_type": "code",
      "execution_count": 2,
      "metadata": {
        "id": "YjRIKwyb_9Y9"
      },
      "outputs": [],
      "source": [
        "string = 'Sinopsis | Marty McFly, un típico adolescente americano de los años ochenta, '\\\n",
        "'es accidentalmente enviado de vuelta a 1955 en una \"máquina del tiempo\" realizada con'\\\n",
        "'un DeLorean inventada por un científico un poco loco. | En este viaje, Marty debe '\\\n",
        "'asegurarse de que sus padres se encuentren y se enamoren, para que pueda volver a su tiempo. '"
      ]
    },
    {
      "cell_type": "code",
      "execution_count": 3,
      "metadata": {
        "colab": {
          "base_uri": "https://localhost:8080/"
        },
        "id": "S-JDll4__9ZA",
        "outputId": "285f18ca-7243-4ef3-fe94-8b1879ff719d"
      },
      "outputs": [
        {
          "name": "stdout",
          "output_type": "stream",
          "text": [
            "Sinopsis \n",
            " Marty McFly, un típico adolescente americano de los años ochenta, es accidentalmente enviado de vuelta a 1955 en una \"máquina del tiempo\" realizada conun DeLorean inventada por un científico un poco loco. \n",
            " En este viaje, Marty debe asegurarse de que sus padres se encuentren y se enamoren, para que pueda volver a su tiempo. \n"
          ]
        }
      ],
      "source": [
        "print(string.replace(\"|\",\"\\n\"))"
      ]
    },
    {
      "cell_type": "markdown",
      "metadata": {
        "id": "WR5pRiH3_9ZD"
      },
      "source": [
        "## 2 - Crear un acrónimo\n",
        "\n",
        "Ahora nos piden crear un acrónimo (una palabra compuesta por la primera letra de cada palabra) de cada título. Pero antes de eso es necesario que transformemos los títulos a \"title case\" porque no todos van a llegar prolijos. Entonces, el acrónimo de \"Volver al futuro\" debería ser \"VAF\". \n"
      ]
    },
    {
      "cell_type": "code",
      "execution_count": 44,
      "metadata": {
        "id": "9pGrRm4B_9ZE"
      },
      "outputs": [],
      "source": [
        "titulo = 'Volver al futuro'"
      ]
    },
    {
      "cell_type": "code",
      "execution_count": 45,
      "metadata": {
        "id": "PuN3KLdB_9ZG"
      },
      "outputs": [
        {
          "name": "stdout",
          "output_type": "stream",
          "text": [
            "Volver Al Futuro\n"
          ]
        }
      ],
      "source": [
        "# 1. Transformar el string a \"title case\"\n",
        "titulo = titulo.title()\n",
        "print(titulo)"
      ]
    },
    {
      "cell_type": "code",
      "execution_count": 46,
      "metadata": {
        "id": "t_p2fgdr_9ZK"
      },
      "outputs": [
        {
          "name": "stdout",
          "output_type": "stream",
          "text": [
            "['Volver', 'Al', 'Futuro']\n"
          ]
        }
      ],
      "source": [
        "# 2. Crear una lista con todas las palabras del string\n",
        "lista_titulo = titulo.split()\n",
        "print(lista_titulo)"
      ]
    },
    {
      "cell_type": "code",
      "execution_count": 47,
      "metadata": {
        "id": "leJ7MZGd_9ZL"
      },
      "outputs": [
        {
          "name": "stdout",
          "output_type": "stream",
          "text": [
            "VAF\n"
          ]
        }
      ],
      "source": [
        "# 3. Recorrer la lista y agregar al acrónimo la primera letra de cada palabra\n",
        "acronimo = ''\n",
        "\n",
        "for palabra in lista_titulo:\n",
        "    acronimo += palabra[0]\n",
        "\n",
        "print(acronimo)"
      ]
    },
    {
      "cell_type": "markdown",
      "metadata": {
        "id": "uYRnWj-B4sw1"
      },
      "source": [
        "## 3 - Evaluar si un número es par o impar \n",
        "\n",
        "Con que operación podríamos evaluar si un número es par o impar "
      ]
    },
    {
      "cell_type": "code",
      "execution_count": 4,
      "metadata": {
        "id": "SwHvDZHUD9ak"
      },
      "outputs": [
        {
          "name": "stdout",
          "output_type": "stream",
          "text": [
            "0 es par\n",
            "1 es impar\n",
            "2 es par\n",
            "3 es impar\n",
            "4 es par\n",
            "5 es impar\n",
            "6 es par\n",
            "7 es impar\n",
            "8 es par\n",
            "9 es impar\n",
            "10 es par\n",
            "11 es impar\n",
            "12 es par\n",
            "13 es impar\n",
            "14 es par\n",
            "15 es impar\n",
            "16 es par\n",
            "17 es impar\n",
            "18 es par\n",
            "19 es impar\n",
            "20 es par\n",
            "21 es impar\n",
            "22 es par\n",
            "23 es impar\n",
            "24 es par\n",
            "25 es impar\n",
            "26 es par\n",
            "27 es impar\n",
            "28 es par\n",
            "29 es impar\n",
            "30 es par\n",
            "31 es impar\n",
            "32 es par\n",
            "33 es impar\n",
            "34 es par\n",
            "35 es impar\n",
            "36 es par\n",
            "37 es impar\n",
            "38 es par\n",
            "39 es impar\n",
            "40 es par\n",
            "41 es impar\n",
            "42 es par\n",
            "43 es impar\n",
            "44 es par\n",
            "45 es impar\n",
            "46 es par\n",
            "47 es impar\n",
            "48 es par\n",
            "49 es impar\n",
            "50 es par\n",
            "51 es impar\n",
            "52 es par\n",
            "53 es impar\n",
            "54 es par\n",
            "55 es impar\n",
            "56 es par\n",
            "57 es impar\n",
            "58 es par\n",
            "59 es impar\n",
            "60 es par\n",
            "61 es impar\n",
            "62 es par\n",
            "63 es impar\n",
            "64 es par\n",
            "65 es impar\n",
            "66 es par\n",
            "67 es impar\n",
            "68 es par\n",
            "69 es impar\n",
            "70 es par\n",
            "71 es impar\n",
            "72 es par\n",
            "73 es impar\n",
            "74 es par\n",
            "75 es impar\n",
            "76 es par\n",
            "77 es impar\n",
            "78 es par\n",
            "79 es impar\n",
            "80 es par\n",
            "81 es impar\n",
            "82 es par\n",
            "83 es impar\n",
            "84 es par\n",
            "85 es impar\n",
            "86 es par\n",
            "87 es impar\n",
            "88 es par\n",
            "89 es impar\n",
            "90 es par\n",
            "91 es impar\n",
            "92 es par\n",
            "93 es impar\n",
            "94 es par\n",
            "95 es impar\n",
            "96 es par\n",
            "97 es impar\n",
            "98 es par\n",
            "99 es impar\n",
            "100 es par\n"
          ]
        }
      ],
      "source": [
        "for n in range(0,101):\n",
        "    if n %2 == 0:\n",
        "        print(f'{n} es par')\n",
        "    else:\n",
        "        print(f'{n} es impar')\n",
        "    "
      ]
    },
    {
      "cell_type": "markdown",
      "metadata": {
        "id": "xlXusP6h72uI"
      },
      "source": [
        "## 4 - Dividir pares e impartes  \n",
        "\n",
        "Dado un rango de valores enteros con distancia de una unidad \n",
        "\n",
        "```\n",
        "range(4,10)\n",
        "```\n",
        "\n",
        "separar en listas los números pares e impartes iterando por cada elemento del intervalo "
      ]
    },
    {
      "cell_type": "code",
      "execution_count": 9,
      "metadata": {
        "id": "0BNXso5oG2yd"
      },
      "outputs": [
        {
          "name": "stdout",
          "output_type": "stream",
          "text": [
            "[4, 6, 8] [5, 7, 9]\n"
          ]
        }
      ],
      "source": [
        "lista_par = []\n",
        "lista_impar = []\n",
        "\n",
        "for n in range(4,10):\n",
        "    if n %2 == 0:\n",
        "        lista_par.append(n)\n",
        "    else:\n",
        "        lista_impar.append(n)\n",
        "\n",
        "print(lista_par,lista_impar)"
      ]
    }
  ],
  "metadata": {
    "colab": {
      "name": "ejercicios.ipynb",
      "provenance": []
    },
    "kernelspec": {
      "display_name": "Python 3",
      "language": "python",
      "name": "python3"
    },
    "language_info": {
      "codemirror_mode": {
        "name": "ipython",
        "version": 3
      },
      "file_extension": ".py",
      "mimetype": "text/x-python",
      "name": "python",
      "nbconvert_exporter": "python",
      "pygments_lexer": "ipython3",
      "version": "3.11.9"
    }
  },
  "nbformat": 4,
  "nbformat_minor": 0
}
