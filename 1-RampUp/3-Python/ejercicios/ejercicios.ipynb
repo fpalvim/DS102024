{
 "cells": [
  {
   "cell_type": "markdown",
   "metadata": {},
   "source": [
    "1. Escribir un programa que pregunte al usuario su edad y muestre por pantalla si es mayor de edad o no."
   ]
  },
  {
   "cell_type": "code",
   "execution_count": 21,
   "metadata": {},
   "outputs": [
    {
     "name": "stdout",
     "output_type": "stream",
     "text": [
      "La edad introducida por el usuário es: 18\n",
      "Es mayor de edad\n"
     ]
    }
   ],
   "source": [
    "try:\n",
    "    edad = int(input(\"¿Cual es tu edad?\"))\n",
    "\n",
    "    print(f'La edad introducida por el usuário es: {edad}')\n",
    "\n",
    "    if edad < 0:\n",
    "        print(\"imposible\")\n",
    "    elif edad < 18:\n",
    "        print(\"El usuário no es mayor de edad\")\n",
    "    else:\n",
    "        print(\"Es mayor de edad\")\n",
    "\n",
    "except ValueError:\n",
    "    print(\"Error: Por favor, tienes que introducir un número válido\")"
   ]
  },
  {
   "cell_type": "markdown",
   "metadata": {},
   "source": [
    "2. Escribir un programa que pida al usuario un número entero y muestre por pantalla se es par o impar.\n"
   ]
  },
  {
   "cell_type": "code",
   "execution_count": 20,
   "metadata": {},
   "outputs": [
    {
     "name": "stdout",
     "output_type": "stream",
     "text": [
      "El número inserido es: 4\n",
      "Es un número par\n"
     ]
    }
   ],
   "source": [
    "try:\n",
    "    num = int(input(\"Escriba un número:\"))\n",
    "\n",
    "    print(f'El número inserido es: {num}')\n",
    "\n",
    "    if  num %2 == 0:\n",
    "        print(\"Es un número par\")\n",
    "    else:\n",
    "        print(\"Es un número impar\")\n",
    "except ValueError:\n",
    "    print(\"Error: Número introducido no válido\")"
   ]
  },
  {
   "cell_type": "code",
   "execution_count": 3,
   "metadata": {},
   "outputs": [
    {
     "data": {
      "text/plain": [
       "'\\n*\\n**\\n***\\n****\\n*****\\n'"
      ]
     },
     "execution_count": 3,
     "metadata": {},
     "output_type": "execute_result"
    }
   ],
   "source": [
    "3.\n",
    "'''\n",
    "*\n",
    "**\n",
    "***\n",
    "****\n",
    "*****\n",
    "'''"
   ]
  },
  {
   "cell_type": "code",
   "execution_count": 31,
   "metadata": {},
   "outputs": [
    {
     "name": "stdout",
     "output_type": "stream",
     "text": [
      "\n",
      "*\n",
      "**\n",
      "***\n",
      "****\n",
      "*****\n"
     ]
    }
   ],
   "source": [
    "for n in range(6):\n",
    "\n",
    "    print(n * \"*\")\n",
    "    n += 1"
   ]
  },
  {
   "cell_type": "markdown",
   "metadata": {},
   "source": [
    "4. Escribir un programa que pida al usuario una palabra y luego muestre por pantalla una a una las letras de la palabra introducida empezando por la última."
   ]
  },
  {
   "cell_type": "code",
   "execution_count": 5,
   "metadata": {},
   "outputs": [
    {
     "name": "stdout",
     "output_type": "stream",
     "text": [
      "n\n",
      "o\n",
      "m\n",
      "e\n",
      "k\n",
      "o\n",
      "p\n"
     ]
    }
   ],
   "source": [
    "input_palabra = str(input(\"Escriba una palabra\"))\n",
    "for letra in reversed(input_palabra):\n",
    "    print(letra)"
   ]
  },
  {
   "cell_type": "markdown",
   "metadata": {},
   "source": [
    "5. Escribir un programa que almacene el abecedario en una lista, elimine de la lista las letras que ocupen posiciones multiplos de 3, y muestre por pantalla la lista resultante."
   ]
  },
  {
   "cell_type": "code",
   "execution_count": 2,
   "metadata": {},
   "outputs": [
    {
     "name": "stdout",
     "output_type": "stream",
     "text": [
      "['b', 'c', 'e', 'f', 'h', 'i', 'k', 'l', 'n', 'o', 'q', 'r', 't', 'u', 'w', 'x', 'z']\n"
     ]
    }
   ],
   "source": [
    "import string\n",
    "\n",
    "abc = string.ascii_lowercase\n",
    "\n",
    "lista_abc = []\n",
    "\n",
    "for i in range(len(abc)):\n",
    "    if i %3 != 0:\n",
    "        lista_abc.append(abc[i])\n",
    "\n",
    "print(lista_abc)"
   ]
  },
  {
   "cell_type": "markdown",
   "metadata": {},
   "source": [
    "6. Escribir un programa que guarde en un diccionario los precios de las frutas de la tabla, pregunte al usuario por una fruta, un número de kilos y muestre por pantalla el precio de ese número de kilos de fruta. Si la fruta no está en el diccionário debe mostrar un mensaje informando de ello."
   ]
  },
  {
   "cell_type": "code",
   "execution_count": 73,
   "metadata": {},
   "outputs": [
    {
     "name": "stdout",
     "output_type": "stream",
     "text": [
      "El precio total es: 24.0\n"
     ]
    }
   ],
   "source": [
    "dicc_frutas = {\n",
    "    'Manzana': 1.5,\n",
    "    'Pera': 2.0,\n",
    "    'Naranja': 2.5,\n",
    "    'Fresa': 3.0,\n",
    "    'Piña': 3.5\n",
    "}\n",
    "\n",
    "try:\n",
    "    fruta_elegida = str(input('¿Cual fruta quieres?').capitalize())\n",
    "    quantidad = float(input('¿Cual quantidad de esta fruta deseas?'))\n",
    "\n",
    "    for fruta, precio in dicc_frutas.items():\n",
    "        if fruta_elegida not in dicc_frutas:\n",
    "            raise KeyError\n",
    "        elif fruta == fruta_elegida:\n",
    "            total = quantidad * precio\n",
    "            print(f'El precio total es: {total}')\n",
    "\n",
    "except KeyError:\n",
    "    print(\"No tenemos esta fruta disponible\")\n",
    "except ValueError:\n",
    "    print(\"Error: Tienes que introducir una cantidad válida\")\n"
   ]
  },
  {
   "cell_type": "markdown",
   "metadata": {},
   "source": [
    "7. Escribir una función que recibe una muestra de números en una lista y devuelva su media y mediana."
   ]
  },
  {
   "cell_type": "code",
   "execution_count": 10,
   "metadata": {},
   "outputs": [],
   "source": [
    "import statistics\n",
    "\n",
    "## SOLUCIÓN UTILIZANDO LIB STATISTICS DE PYTHON\n",
    "\n",
    "# def media_y_mediana():\n",
    "\n",
    "#     numeros_introducidos = input(\"Inserte los numeros separados por comas\")\n",
    "#     lista_numeros = numeros_introducidos.split(\",\")\n",
    "#     numeros_convertidos = [float(num) for num in lista_numeros]\n",
    "    \n",
    "#     valor_promedio = statistics.mean(numeros_convertidos)\n",
    "#     valor_mediana = statistics.median(numeros_convertidos)\n",
    "\n",
    "#     print(f'Los números introducidos son: {numeros_convertidos} \\n El valor promedio de la muestra de datos es: {valor_promedio} \\n Y el valor de la mediana es: {valor_mediana}')\n",
    "    \n",
    "\n",
    "## SOLUCIÓN MANUAL\n",
    "\n",
    "numeros = [1,2,3,4,5,6]\n",
    "\n",
    "def media_mediana(lista:list) -> float:\n",
    "\n",
    "    media = sum(lista)/len(lista)\n",
    "    print(media)\n",
    "\n",
    "    lista.sort()\n",
    "    punto_medio = len(lista)//2\n",
    "\n",
    "    if len(lista) %2 != 0:\n",
    "        mediana = sum(lista[punto_medio-1:punto_medio+1])/2\n",
    "        print(mediana)\n",
    "    else:\n",
    "        mediana = punto_medio\n",
    "        print(mediana)\n"
   ]
  },
  {
   "cell_type": "code",
   "execution_count": 12,
   "metadata": {},
   "outputs": [
    {
     "name": "stdout",
     "output_type": "stream",
     "text": [
      "3.5\n",
      "3\n"
     ]
    }
   ],
   "source": [
    "# media_y_mediana()\n",
    "media_mediana(lista=numeros)"
   ]
  },
  {
   "cell_type": "markdown",
   "metadata": {},
   "source": [
    "8. Crear un programa que sin utilizar if-else si le pasas la variable XX te devuelva el país. Ejemplo ES -> Espana, US -> Estados Unidos."
   ]
  },
  {
   "cell_type": "code",
   "execution_count": 18,
   "metadata": {},
   "outputs": [
    {
     "name": "stdout",
     "output_type": "stream",
     "text": [
      "Italia\n"
     ]
    }
   ],
   "source": [
    "import pycountry\n",
    "\n",
    "## SOLUCIÓN UTILIZANDO LIB PYCOUNTRY\n",
    "\n",
    "# lista_paises = list(pycountry.countries)\n",
    "# acronimo = str(input(\"Inserte el acronimo para recebir el nombre del país\"))\n",
    "# busqueda = pycountry.countries.get(alpha_2=f'{acronimo}')\n",
    "# print(busqueda.name)\n",
    "\n",
    "\n",
    "## SOLUCIÓN MANUAL\n",
    "\n",
    "def traducir_pais(codigo):\n",
    "\n",
    "    dicc = {\n",
    "        \"es\": \"España\",\n",
    "        \"us\": \"Estados Unidos\",\n",
    "        \"fr\": \"Francia\",\n",
    "        \"it\": \"Italia\",\n",
    "        \"de\": \"Alemania\"\n",
    "    }\n",
    "\n",
    "    codigo = codigo.lower()\n",
    "    return dicc.get(codigo, \"No esta actualizada\")\n",
    "\n",
    "print(traducir_pais(\"it\"))\n"
   ]
  },
  {
   "cell_type": "markdown",
   "metadata": {},
   "source": [
    "9. Nuria es fitness entonces tiene un itinerario para el gym\n",
    "\n",
    "lunes =  piernas \n",
    "martes = brazos\n",
    "miercoles = abdomen\n",
    "jueves = cardio\n",
    "viernes = cerveza\n",
    "sabado = pizza\n",
    "domingo = descansa\n",
    "\n",
    "vamos hacer un programa que dependiendo del dia nos diga que tenemos que hacer.\n",
    "\n",
    "pero resulta que Juan ahora es IFfobico y GETfobico..\n",
    "\n",
    "puedes ayudar a ambos??"
   ]
  },
  {
   "cell_type": "code",
   "execution_count": 47,
   "metadata": {},
   "outputs": [
    {
     "name": "stdout",
     "output_type": "stream",
     "text": [
      "pizza\n"
     ]
    }
   ],
   "source": [
    "itinerario = {\n",
    "    'lunes': 'piernas',\n",
    "    'martes': 'brazos',\n",
    "    'miercoles':'abdomen',\n",
    "    'jueves':'cardio',\n",
    "    'viernes': 'cerveza',\n",
    "    'sabado': 'pizza',\n",
    "    'domingo': 'descansa'\n",
    "}\n",
    "\n",
    "que_dia_es_hoy = input('¿Que dia es hoy?')\n",
    "que_toca_hoy = que_dia_es_hoy.lower()\n",
    "resultado = itinerario.pop(que_toca_hoy)\n",
    "\n",
    "print(resultado)\n",
    "\n",
    "# Podría utilizar try except que funciona como if and else\n",
    "# Podría también utilizar match para hacerlo\n",
    "\n",
    "## EJEMPLO CON MATCH\n",
    "# dia = 'miercoles'\n",
    "\n",
    "# match dia:\n",
    "#     case 'lunes':\n",
    "#         print('piernas')\n",
    "#     case 'martes':\n",
    "#         print('brazos')\n",
    "#     case 'miercoles':\n",
    "#         print('abdmomen')\n",
    "#     case 'jueves':\n",
    "#         print('cardio')\n",
    "#     case 'viernes':\n",
    "#         print('cerveza')\n",
    "#     case 'sabado':\n",
    "#         print('pizza')\n",
    "#     case 'domingo':\n",
    "#         print('descansa')\n"
   ]
  },
  {
   "cell_type": "markdown",
   "metadata": {},
   "source": [
    "10. Imprimir los primeros 10 números naturales  \n",
    "Escribe un programa que imprima los números del 1 al 10 utilizando un bucle for."
   ]
  },
  {
   "cell_type": "code",
   "execution_count": 51,
   "metadata": {},
   "outputs": [
    {
     "name": "stdout",
     "output_type": "stream",
     "text": [
      "1\n",
      "2\n",
      "3\n",
      "4\n",
      "5\n",
      "6\n",
      "7\n",
      "8\n",
      "9\n",
      "10\n"
     ]
    }
   ],
   "source": [
    "for i in range(1,11):\n",
    "    print(i)"
   ]
  },
  {
   "cell_type": "markdown",
   "metadata": {},
   "source": [
    "11. Suma de dos números  \n",
    "Escribe un programa que solicite al usuario dos números y muestre la suma de ellos."
   ]
  },
  {
   "cell_type": "code",
   "execution_count": 68,
   "metadata": {},
   "outputs": [
    {
     "name": "stdout",
     "output_type": "stream",
     "text": [
      "7.0\n"
     ]
    }
   ],
   "source": [
    "try:\n",
    "\n",
    "    numeros = input('Inserte dos numeros')\n",
    "    lista_nums = numeros.split(',')\n",
    "\n",
    "    lista_nums_convertidos = [float(num) for num in lista_nums]\n",
    "\n",
    "    suma = sum(lista_nums_convertidos)\n",
    "\n",
    "    print(suma)\n",
    "\n",
    "except ValueError:\n",
    "    \n",
    "    print('Error: Deve introducir un numero valido')\n"
   ]
  },
  {
   "cell_type": "markdown",
   "metadata": {},
   "source": [
    "12. Identificar números pares e impares  \n",
    "Escribe un programa que pida un número al usuario e indique si es par o impar."
   ]
  },
  {
   "cell_type": "code",
   "execution_count": 310,
   "metadata": {},
   "outputs": [
    {
     "name": "stdout",
     "output_type": "stream",
     "text": [
      "Es el número 0\n"
     ]
    }
   ],
   "source": [
    "def par_o_impar(numero:float) -> str:\n",
    "    try:\n",
    "        if numero == 0:\n",
    "            print('Es el número 0')\n",
    "        elif numero % 2 == 0:\n",
    "            print(f'{numero} es par')\n",
    "        else:\n",
    "            print(f'{numero} es impar')\n",
    "\n",
    "    except TypeError:\n",
    "        print('Error: Inserte un numero valido')\n",
    "\n",
    "par_o_impar(0)"
   ]
  },
  {
   "cell_type": "markdown",
   "metadata": {},
   "source": [
    "13. Reverso de una cadena  \n",
    "Escribe un programa que pida al usuario una cadena y la imprima al revés."
   ]
  },
  {
   "cell_type": "code",
   "execution_count": 73,
   "metadata": {},
   "outputs": [
    {
     "name": "stdout",
     "output_type": "stream",
     "text": [
      "['a', 'b', 'c', 'd', 'e']\n",
      "e\n",
      "d\n",
      "c\n",
      "b\n",
      "a\n"
     ]
    }
   ],
   "source": [
    "cadena = input('Inserte aqui los datos')\n",
    "\n",
    "mi_lista = cadena.split(',')\n",
    "print(mi_lista)\n",
    "\n",
    "for item in reversed(mi_lista):\n",
    "    print(item)\n"
   ]
  },
  {
   "cell_type": "markdown",
   "metadata": {},
   "source": [
    "14. Comprobar si un número es positivo, negativo o cero  \n",
    "Escribe un programa que solicite un número y muestre si es positivo, negativo o cero."
   ]
  },
  {
   "cell_type": "code",
   "execution_count": 115,
   "metadata": {},
   "outputs": [
    {
     "name": "stdout",
     "output_type": "stream",
     "text": [
      "Error: Tienes que introducir un número valido\n"
     ]
    }
   ],
   "source": [
    "def que_estado_lleva_este_numero(numero: float) -> str:\n",
    "    try:\n",
    "        if numero > 0:\n",
    "            print('Es un número positivo')\n",
    "        elif numero < 0:\n",
    "            print('Es un número negativo')\n",
    "        else:\n",
    "            print('El usuário ha introducido el número 0')\n",
    "    except TypeError:\n",
    "        print('Error: Tienes que introducir un número valido')\n",
    "\n",
    "que_estado_lleva_este_numero(\"asdasd\")"
   ]
  },
  {
   "cell_type": "markdown",
   "metadata": {},
   "source": [
    "15. Suma de elementos de una lista  \n",
    "Escribe un programa que tome una lista de números y devuelva la suma de todos los elementos de la lista."
   ]
  },
  {
   "cell_type": "code",
   "execution_count": null,
   "metadata": {},
   "outputs": [
    {
     "name": "stdout",
     "output_type": "stream",
     "text": [
      "15.0\n"
     ]
    }
   ],
   "source": [
    "try:\n",
    "\n",
    "    numeros = input('Inserte dos numeros')\n",
    "    lista_nums = numeros.split(',')\n",
    "\n",
    "    lista_nums_convertidos = [float(num) for num in lista_nums]\n",
    "\n",
    "    suma = sum(lista_nums_convertidos)\n",
    "\n",
    "    print(suma)\n",
    "\n",
    "except ValueError:\n",
    "    print('Error: Deve introducir un numero valido')"
   ]
  },
  {
   "cell_type": "markdown",
   "metadata": {},
   "source": [
    "16. Conteo de vocales en una cadena  \n",
    "Escribe un programa que tome una cadena de entrada y cuente cuántas vocales (a, e, i, o, u) contiene."
   ]
  },
  {
   "cell_type": "code",
   "execution_count": 104,
   "metadata": {},
   "outputs": [
    {
     "data": {
      "text/plain": [
       "4"
      ]
     },
     "execution_count": 104,
     "metadata": {},
     "output_type": "execute_result"
    }
   ],
   "source": [
    "def contar_vocales(letra:str) -> int:\n",
    "    contador_vocal = 0\n",
    "\n",
    "    for e in letra.lower():\n",
    "        if e in 'aeiou':\n",
    "            contador_vocal += 1\n",
    "    return contador_vocal\n",
    "\n",
    "contar_vocales(\"Hola mundo\")"
   ]
  },
  {
   "cell_type": "markdown",
   "metadata": {},
   "source": [
    "17. Calcular el factorial de un número  \n",
    "Escribe una función que reciba un número entero como argumento y devuelva su factorial utilizando recursión."
   ]
  },
  {
   "cell_type": "code",
   "execution_count": 67,
   "metadata": {},
   "outputs": [
    {
     "data": {
      "text/plain": [
       "120"
      ]
     },
     "execution_count": 67,
     "metadata": {},
     "output_type": "execute_result"
    }
   ],
   "source": [
    "def factorial(num:int) -> int:\n",
    "    if num == 1:\n",
    "        return 1\n",
    "    else:\n",
    "        return num * factorial(num-1)\n",
    "    \n",
    "factorial(5)"
   ]
  },
  {
   "cell_type": "markdown",
   "metadata": {},
   "source": [
    "18. Crear un generador de contraseñas aleatorias  \n",
    "Escribe un programa que genere contraseñas aleatorias de longitud variable. Las contraseñas deben incluir letras mayúsculas, minúsculas, números y símbolos especiales."
   ]
  },
  {
   "cell_type": "code",
   "execution_count": 98,
   "metadata": {},
   "outputs": [
    {
     "data": {
      "text/plain": [
       "'Wa?ZLg{6|0i\"#JN'"
      ]
     },
     "execution_count": 98,
     "metadata": {},
     "output_type": "execute_result"
    }
   ],
   "source": [
    "import string\n",
    "import random\n",
    "\n",
    "def generar_contrasena()->str:\n",
    "\tcaracteres = string.ascii_letters + string.digits + string.punctuation\n",
    "\tcontrasena = ''.join(random.choice(caracteres) for _ in range(random.randint(8,16)))\n",
    "\treturn contrasena\n",
    "\n",
    "generar_contrasena()"
   ]
  },
  {
   "cell_type": "markdown",
   "metadata": {},
   "source": [
    "19. Crear una baraja de póker  \n",
    "Escribe un programa que cree una baraja de cartas de póker (52 cartas). Cada carta debe tener un palo (corazones, diamantes, tréboles, picas) y un valor (del 2 al 10, J, Q, K, A). Luego, simula mezclar la baraja y reparte 5 cartas al azar a un \"jugador\"."
   ]
  },
  {
   "cell_type": "code",
   "execution_count": 76,
   "metadata": {},
   "outputs": [
    {
     "data": {
      "text/plain": [
       "['A♥', 'Q♣', '3♣', 'J♦', '7♥']"
      ]
     },
     "execution_count": 76,
     "metadata": {},
     "output_type": "execute_result"
    }
   ],
   "source": [
    "import random\n",
    "\n",
    "numeros = [\"A\", \"K\", \"Q\", \"J\", \"2\", \"3\", \"4\", \"5\", \"6\", \"7\", \"8\", \"9\", \"10\"]\n",
    "palos = [\"♠\", \"♥\", \"♣\", \"♦\"]\n",
    "\n",
    "baraja = []\n",
    "\n",
    "for numero in numeros:\n",
    "\tfor palo in palos:\n",
    "\t\tbaraja.append(f'{numero}{palo}')\n",
    "\n",
    "random.sample(baraja,5)\n",
    "\n"
   ]
  },
  {
   "cell_type": "markdown",
   "metadata": {},
   "source": [
    "20. Crear una funcion que al pasarle un texto deve retornar un diccionario con las letras y sus cantidades."
   ]
  },
  {
   "cell_type": "code",
   "execution_count": 55,
   "metadata": {},
   "outputs": [
    {
     "data": {
      "text/plain": [
       "{'h': 1, 'e': 1, 'l': 5, 'o': 13, 'w': 2, 'r': 1, 'd': 2}"
      ]
     },
     "execution_count": 55,
     "metadata": {},
     "output_type": "execute_result"
    }
   ],
   "source": [
    "def counter(palabra: str)->dict:\n",
    "    incidencia = {}\n",
    "    \n",
    "    for letra in palabra.lower().replace(' ', ''):\n",
    "        if letra not in incidencia:\n",
    "            incidencia[letra] = 1\n",
    "        else:\n",
    "            incidencia[letra] +=1\n",
    "    return incidencia\n",
    "\n",
    "\n",
    "counter(\"HellooooOOOOooo WwoOrLLldD\")"
   ]
  },
  {
   "cell_type": "markdown",
   "metadata": {},
   "source": [
    "21. Crea un juego de adivina el numero"
   ]
  },
  {
   "cell_type": "code",
   "execution_count": 140,
   "metadata": {},
   "outputs": [
    {
     "name": "stdout",
     "output_type": "stream",
     "text": [
      "Muy bajo\n",
      "Genial\n"
     ]
    }
   ],
   "source": [
    "import random\n",
    "\n",
    "n = random.randrange(1,10)\n",
    "intentos = 5\n",
    "\n",
    "numero_elegido = int(input('Inserte tu numero'))\n",
    "\n",
    "while n != numero_elegido:\n",
    "    if numero_elegido < n:\n",
    "        print('Muy bajo')\n",
    "        numero_elegido = int(input('Intenta otra vez'))\n",
    "    elif numero_elegido > n:\n",
    "        print('Muy alto')\n",
    "        numero_elegido = int(input('Intenta otra vez'))\n",
    "    else:\n",
    "        break\n",
    "print('Genial') "
   ]
  },
  {
   "cell_type": "markdown",
   "metadata": {},
   "source": [
    "22. Crea una funcion que solicite una lista te devuelva el numero de elementos por tipo cada tipo de dato"
   ]
  },
  {
   "cell_type": "code",
   "execution_count": 37,
   "metadata": {},
   "outputs": [
    {
     "name": "stdout",
     "output_type": "stream",
     "text": [
      "Element 1: Value = felipe, Type = string\n",
      "Element 2: Value = True, Type = bool\n",
      "Element 3: Value = 100, Type = int\n",
      "Element 4: Value = 0.5, Type = float\n"
     ]
    }
   ],
   "source": [
    "def process_input():\n",
    "    \n",
    "    input_del_usuario = input(\"Please enter values separated by commas: \")\n",
    "    \n",
    "    lista_de_datos = input_del_usuario.split(',')\n",
    "    \n",
    "    lista_de_tipos = []\n",
    "\n",
    "    for n in lista_de_datos:\n",
    "        \n",
    "        if n.lower() == 'true':\n",
    "            lista_de_tipos.append((True, \"bool\"))\n",
    "        elif n.lower() == 'false':\n",
    "            lista_de_tipos.append((False, \"bool\"))\n",
    "        else:\n",
    "            try:\n",
    "                if '.' in n:\n",
    "                    lista_de_tipos.append((float(n), \"float\"))\n",
    "                else:\n",
    "                    lista_de_tipos.append((int(n), \"int\"))\n",
    "            except ValueError:\n",
    "                lista_de_tipos.append((n, \"string\"))\n",
    "    \n",
    "    for i, (value, value_type) in enumerate(lista_de_tipos):\n",
    "        print(f\"Element {i + 1}: Value = {value}, Type = {value_type}\")\n",
    "\n",
    "process_input()\n"
   ]
  }
 ],
 "metadata": {
  "kernelspec": {
   "display_name": "Python 3",
   "language": "python",
   "name": "python3"
  },
  "language_info": {
   "codemirror_mode": {
    "name": "ipython",
    "version": 3
   },
   "file_extension": ".py",
   "mimetype": "text/x-python",
   "name": "python",
   "nbconvert_exporter": "python",
   "pygments_lexer": "ipython3",
   "version": "3.11.9"
  }
 },
 "nbformat": 4,
 "nbformat_minor": 2
}
