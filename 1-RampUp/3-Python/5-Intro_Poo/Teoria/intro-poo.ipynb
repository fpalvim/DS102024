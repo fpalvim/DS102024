{
 "cells": [
  {
   "cell_type": "markdown",
   "metadata": {
    "colab_type": "text",
    "id": "nGkigPqTmyZp"
   },
   "source": [
    "# Programación orientada a objetos \n",
    "\n",
    "    I. Terminologia de clases y objetos\n",
    "    II. Creando la primera clase\n",
    "        I. Herencia\n",
    "        II. Protección de acceso\n",
    "    III. Métodos Especiales\n",
    "    IV. Métodos Estáticos\n",
    "    V. Duck typing y monkey patching\n",
    "        I. Duck typing\n",
    "        II. Monkey Patching"
   ]
  },
  {
   "cell_type": "markdown",
   "metadata": {
    "colab_type": "text",
    "id": "JWZi0Jz7myZr"
   },
   "source": [
    "En el paradigma de programación orientada a objetos los programas se estructuran organizando el código en entidades llamadas objetos. Estos nos permiten encapsular data, funciones y variables dentro de una misma clase. Veamos de qué se trata."
   ]
  },
  {
   "cell_type": "markdown",
   "metadata": {
    "colab_type": "text",
    "id": "8facntg8myZs"
   },
   "source": [
    "## Terminologia de clases y objetos"
   ]
  },
  {
   "cell_type": "markdown",
   "metadata": {
    "colab_type": "text",
    "id": "f4-ocEflmyZs"
   },
   "source": [
    "1. Una **clase** es un prototipo de objeto, que engloba atributos que poseen todos los objetos de esa clase. Los atributos pueden ser datos como variables de clase y de instancia, y métodos (funciones). Se acceden con un punto.\n",
    "\n",
    "2. Una **instancia** es un objeto en particular que pertenece a una clase.\n",
    "\n",
    "3. Los **atributos** son variables asociadas a los objetos. Los atributos pueden ser de clase (toman el mismo valor para toda la clase) o de instancia (toman un valor diferente para cada instancia). Lo más común de utilizar son los atributos de instancia que reflejan estados de los objetos. Los atributos de clase se utilizan para que todos los objetos compartan por ejemplo, las mismas configuraciones o la misma conexión a una base de datos. \n",
    "\n",
    "4. La **herencia** es la transferencia de atributos de una clase a otra clase\n",
    "\n",
    "5. Un **método** es una función contenida dentro de un objeto.\n",
    "\n",
    "6. Un **objeto** es una instancia única de una estructura definida por su clase. Posee de atributos variables de clase, de instancia y métodos.\n",
    "\n",
    "7. El **polimorfismo** nos permite utilizar una misma función para distintos tipos de datos o clases. \n",
    "\n",
    "8. La **delegación** es el concepto con el cual podemos delegar tareas de una clase sobre algún método de otra clase. \n",
    "\n"
   ]
  },
  {
   "cell_type": "markdown",
   "metadata": {
    "colab_type": "text",
    "id": "WL8GajTfmyZt"
   },
   "source": [
    "## Creando la primera clase"
   ]
  },
  {
   "cell_type": "code",
   "execution_count": null,
   "metadata": {},
   "outputs": [],
   "source": [
    "import math"
   ]
  },
  {
   "cell_type": "code",
   "execution_count": null,
   "metadata": {
    "slideshow": {
     "slide_type": "slide"
    }
   },
   "outputs": [],
   "source": [
    "#La sintáxis es:\n",
    "\n",
    "class Ejemplo:\n",
    "    pass\n",
    "\n",
    "# Instancio la clase\n",
    "x = Ejemplo()\n",
    "\n",
    "print(type(x))"
   ]
  },
  {
   "cell_type": "markdown",
   "metadata": {},
   "source": [
    "Por convención, las clases se nombran empleando \"upper camel case\". Es decir, con mayúscula para cada término que sea parte del nombre. "
   ]
  },
  {
   "cell_type": "markdown",
   "metadata": {
    "slideshow": {
     "slide_type": "subslide"
    }
   },
   "source": [
    "Una librería famosa en Python por sus clases es \"requests\". Esta ĺibrería se usa para acceder a información web por HTTP. Algunas de sus clases son:\n",
    "\n",
    "- Session\n",
    "- Request\n",
    "- ConnectionError\n",
    "- ConnectTimeout\n",
    "\n",
    "Las últimas dos clases son para especificar errores, noten que se repiten las mayúsculas."
   ]
  },
  {
   "cell_type": "markdown",
   "metadata": {},
   "source": [
    "Podemos pensar a una clase como un molde, el cual usamos para generar objetos o instancias que tienen ciertos atributos o métodos (funciones) que deseamos mantener.\n",
    "\n",
    "Aquellos atributos y métodos que queremos que los objetos conserven son definidos como parte del constructor. El constructor en Python es el método reservado **\\_\\_init\\_\\_()**. Este método se llama cuando se instancia la clase y en ese momento se inicializan los atributos de la clase, para lo cual podemos pasar parámetros.\n",
    "\n",
    "Además, vamos a emplear el término reservado **self** para indicar aquellos atributos y métodos que van a ser propios de la instancia. Veámoslo con un ejemplo."
   ]
  },
  {
   "cell_type": "markdown",
   "metadata": {},
   "source": [
    "## Init y Self"
   ]
  },
  {
   "cell_type": "code",
   "execution_count": 2,
   "metadata": {
    "colab": {},
    "colab_type": "code",
    "id": "ru6DucmamyZ7"
   },
   "outputs": [],
   "source": [
    "class Persona():\n",
    "    def __init__(self, nombre, apellido, edad, contacto):\n",
    "        # Este método puede tomar parámetros que asignamos a los atributos, que luego podemos acceder\n",
    "        self.edad = edad # este es un atributo\n",
    "        self.contacto = contacto # este es otro atributo\n",
    "        self.nombre = nombre\n",
    "        self.apellido = apellido\n",
    "        \n",
    "    def nombre_completo(self):\n",
    "        # este método muestra el nombre completo a partir del nombre y apellido \n",
    "        nombre_completo = ', '.join([self.apellido,self.nombre])\n",
    "        return nombre_completo\n",
    "\n",
    "    def saludar(self):\n",
    "        print(f'Hola mi nombre es {self.nombre_completo()}',\n",
    "              f'y te dejo mi mail por si necesitás algo: {self.contacto}')"
   ]
  },
  {
   "cell_type": "code",
   "execution_count": 3,
   "metadata": {
    "colab": {
     "base_uri": "https://localhost:8080/",
     "height": 51
    },
    "colab_type": "code",
    "id": "-3AWihITmyZ-",
    "outputId": "cbe535a4-e3bc-499f-a956-027f7affc2ac",
    "scrolled": true
   },
   "outputs": [
    {
     "name": "stdout",
     "output_type": "stream",
     "text": [
      "Hola mi nombre es Maniglia, Juan Alejandro y te dejo mi mail por si necesitás algo: juan.maniglia@thebridgeschool.es\n"
     ]
    }
   ],
   "source": [
    "instancia_ejemplo = Persona('Juan Alejandro','Maniglia', 35, 'juan.maniglia@thebridgeschool.es')\n",
    "instancia_ejemplo.saludar()"
   ]
  },
  {
   "cell_type": "markdown",
   "metadata": {},
   "source": [
    "Ahora veamos una clase menú que administra los platos y los precios"
   ]
  },
  {
   "cell_type": "code",
   "execution_count": 1,
   "metadata": {},
   "outputs": [],
   "source": [
    "class Menu():\n",
    "    def __init__(self, items):\n",
    "        self.items = items\n",
    "    \n",
    "    def precio(self, lista_items):\n",
    "        precio = 0\n",
    "        for pedido in lista_items:\n",
    "            nombre = pedido.get('nombre')\n",
    "            cantidad = pedido.get('cantidad')\n",
    "            precio_unidad = self.items[nombre]\n",
    "            precio = precio + (precio_unidad * cantidad)\n",
    "        return precio\n",
    "    \n",
    "    def tamaño(self):\n",
    "        return len(self.items)\n",
    "            "
   ]
  },
  {
   "cell_type": "code",
   "execution_count": 2,
   "metadata": {},
   "outputs": [],
   "source": [
    "mi_menu = Menu({'latte':25, 'sandwich':15})"
   ]
  },
  {
   "cell_type": "markdown",
   "metadata": {},
   "source": [
    "¿Cuánto salen un latte y dos madialunas? ¿Cuántos ítems tenemos?"
   ]
  },
  {
   "cell_type": "code",
   "execution_count": 5,
   "metadata": {},
   "outputs": [
    {
     "ename": "AttributeError",
     "evalue": "'str' object has no attribute 'get'",
     "output_type": "error",
     "traceback": [
      "\u001b[1;31m---------------------------------------------------------------------------\u001b[0m",
      "\u001b[1;31mAttributeError\u001b[0m                            Traceback (most recent call last)",
      "Cell \u001b[1;32mIn[5], line 1\u001b[0m\n\u001b[1;32m----> 1\u001b[0m \u001b[43mmi_menu\u001b[49m\u001b[38;5;241;43m.\u001b[39;49m\u001b[43mprecio\u001b[49m\u001b[43m(\u001b[49m\u001b[43m[\u001b[49m\u001b[38;5;124;43m'\u001b[39;49m\u001b[38;5;124;43mlatte\u001b[39;49m\u001b[38;5;124;43m'\u001b[39;49m\u001b[43m,\u001b[49m\u001b[38;5;124;43m'\u001b[39;49m\u001b[38;5;124;43msandwich\u001b[39;49m\u001b[38;5;124;43m'\u001b[39;49m\u001b[43m,\u001b[49m\u001b[38;5;124;43m'\u001b[39;49m\u001b[38;5;124;43msandwich\u001b[39;49m\u001b[38;5;124;43m'\u001b[39;49m\u001b[43m]\u001b[49m\u001b[43m)\u001b[49m\n",
      "Cell \u001b[1;32mIn[1], line 8\u001b[0m, in \u001b[0;36mMenu.precio\u001b[1;34m(self, lista_items)\u001b[0m\n\u001b[0;32m      6\u001b[0m precio \u001b[38;5;241m=\u001b[39m \u001b[38;5;241m0\u001b[39m\n\u001b[0;32m      7\u001b[0m \u001b[38;5;28;01mfor\u001b[39;00m pedido \u001b[38;5;129;01min\u001b[39;00m lista_items:\n\u001b[1;32m----> 8\u001b[0m     nombre \u001b[38;5;241m=\u001b[39m \u001b[43mpedido\u001b[49m\u001b[38;5;241;43m.\u001b[39;49m\u001b[43mget\u001b[49m(\u001b[38;5;124m'\u001b[39m\u001b[38;5;124mnombre\u001b[39m\u001b[38;5;124m'\u001b[39m)\n\u001b[0;32m      9\u001b[0m     cantidad \u001b[38;5;241m=\u001b[39m pedido\u001b[38;5;241m.\u001b[39mget(\u001b[38;5;124m'\u001b[39m\u001b[38;5;124mcantidad\u001b[39m\u001b[38;5;124m'\u001b[39m)\n\u001b[0;32m     10\u001b[0m     precio_unidad \u001b[38;5;241m=\u001b[39m \u001b[38;5;28mself\u001b[39m\u001b[38;5;241m.\u001b[39mitems[nombre]\n",
      "\u001b[1;31mAttributeError\u001b[0m: 'str' object has no attribute 'get'"
     ]
    }
   ],
   "source": [
    "mi_menu.precio(['latte','sandwich','sandwich'])"
   ]
  },
  {
   "cell_type": "code",
   "execution_count": 4,
   "metadata": {},
   "outputs": [
    {
     "data": {
      "text/plain": [
       "2"
      ]
     },
     "execution_count": 4,
     "metadata": {},
     "output_type": "execute_result"
    }
   ],
   "source": [
    "mi_menu.tamaño()"
   ]
  },
  {
   "cell_type": "markdown",
   "metadata": {},
   "source": [
    "Ejercicio: Vamos a mejorar la clase anterior... En lugar de que el método precio reciba una lista de strings, hagamos que reciba una lista de diccionarios cada uno con dos claves nombre y cantidad que querríamos ordenar ¿Cuántos cuestan 10 lattes y 30 sandwich?"
   ]
  },
  {
   "cell_type": "code",
   "execution_count": 42,
   "metadata": {},
   "outputs": [],
   "source": [
    "mi_menu2 = Menu({'latte':2, 'sandwich': 1, 'oregano': 3})            "
   ]
  },
  {
   "cell_type": "code",
   "execution_count": 43,
   "metadata": {},
   "outputs": [
    {
     "data": {
      "text/plain": [
       "350"
      ]
     },
     "execution_count": 43,
     "metadata": {},
     "output_type": "execute_result"
    }
   ],
   "source": [
    "mi_menu2.precio([{'nombre':'latte', 'cantidad':10},{'nombre':'sandwich', 'cantidad':30},\n",
    "                 {'nombre':'oregano', 'cantidad':100}])"
   ]
  },
  {
   "cell_type": "code",
   "execution_count": null,
   "metadata": {},
   "outputs": [],
   "source": []
  },
  {
   "cell_type": "markdown",
   "metadata": {},
   "source": [
    "Los atributos también son conocidos como variables de instancia, en contraposición a las variables de clase. Las variables de instancia toman un valor específico a una instancia en particular (por eso se emplea el término **self**), por su parte, las variables de clase tienen un valor común para todas las instancias de una clase. Por convención las variables de clase se definen antes del constructor y no llevan **self** en su definición pero sí cuando se la quiere llamar."
   ]
  },
  {
   "cell_type": "code",
   "execution_count": 48,
   "metadata": {
    "colab": {},
    "colab_type": "code",
    "id": "ffB3W0b9pz3g"
   },
   "outputs": [],
   "source": [
    "class Curso:\n",
    "    max_alumnos = 35 # definimos variable de clase\n",
    "\n",
    "    def __init__(self, nombre, duracion, alumnos = None, costo=10):\n",
    "        self.nombre = nombre\n",
    "        self.duracion = duracion\n",
    "        if alumnos is None:\n",
    "            self.alumnos = []\n",
    "        else:\n",
    "            self.alumnos = alumnos\n",
    "        self.costo = costo # costo tiene un valor por default\n",
    "        \"\"\"¿Por qué ese if? Las variables por default sólo se evalúan a la hora de ejecutar la sentencia def. \n",
    "        En nuestro caso necesitamos que self.alumnos sea una lista y las listas son objetos mutables. \n",
    "        Esto quiere decir que podemos modificarla sin volver a asignarla. Si en vez de 'alumnos = None' usáramos\n",
    "        alumnos = [], entonces con cada nueva instancia del objeto estaríamos compartiendo los alumnos.\n",
    "        Para evitar eso, en general la forma pythónica de hacerlo es usando None por default y asignando el valor\n",
    "        deseado dentro de la función y no en el 'def' \"\"\"\n",
    "\n",
    "    def inscribir_alumno(self, nombre):\n",
    "        self.alumnos.append(nombre) # para poder llamar a alumnos tengo que usar self.\n",
    "        print(f'Se agregó al alumno/a {nombre}')\n",
    "\n",
    "    def tomar_lista(self):\n",
    "        for a in self.alumnos:\n",
    "            print(f'Alumno: {a}')\n",
    "\n",
    "    def resumen(self):\n",
    "        print(f'Curso {self.nombre}, {self.duracion} clases pensadas para {len(self.alumnos)} alumnos\\n'\n",
    "              f'Por el muy módico precio de {self.costo} rupias.',\n",
    "              # llamo variable de clase:\n",
    "              f'La ocupación actual es del {round(len(self.alumnos)/self.max_alumnos,2)*100}%') \n",
    "    \n",
    "    def rupias(self,truco=None):\n",
    "        print('No tienes rupias no importa corta algunos arbustos o rompe algunas piedras y las conseguirás')\n",
    "        if truco:\n",
    "            print('https://www.youtube.com/watch?v=LfEmEll93-w')"
   ]
  },
  {
   "cell_type": "code",
   "execution_count": 49,
   "metadata": {
    "colab": {},
    "colab_type": "code",
    "id": "XmX4l4IF_eTI"
   },
   "outputs": [],
   "source": [
    "curso_python = Curso('Python', 6)"
   ]
  },
  {
   "cell_type": "code",
   "execution_count": 13,
   "metadata": {},
   "outputs": [
    {
     "data": {
      "text/plain": [
       "[]"
      ]
     },
     "execution_count": 13,
     "metadata": {},
     "output_type": "execute_result"
    }
   ],
   "source": [
    "curso_python.alumnos"
   ]
  },
  {
   "cell_type": "code",
   "execution_count": 50,
   "metadata": {
    "colab": {
     "base_uri": "https://localhost:8080/",
     "height": 51
    },
    "colab_type": "code",
    "id": "MnRKu_2M_sxP",
    "outputId": "380c19ec-65b3-4840-bf2e-d0711fbde5e6"
   },
   "outputs": [
    {
     "name": "stdout",
     "output_type": "stream",
     "text": [
      "Se agregó al alumno/a Sol\n",
      "Se agregó al alumno/a Luna\n"
     ]
    }
   ],
   "source": [
    "# Llamamos metodos de la instancia\n",
    "curso_python.inscribir_alumno('Sol')\n",
    "curso_python.inscribir_alumno('Luna')"
   ]
  },
  {
   "cell_type": "code",
   "execution_count": 51,
   "metadata": {
    "colab": {
     "base_uri": "https://localhost:8080/",
     "height": 51
    },
    "colab_type": "code",
    "id": "gFvzeuDn_yNf",
    "outputId": "2c62cced-2a98-41e6-a2c0-7a372038c02c"
   },
   "outputs": [
    {
     "name": "stdout",
     "output_type": "stream",
     "text": [
      "Alumno: Sol\n",
      "Alumno: Luna\n"
     ]
    }
   ],
   "source": [
    "curso_python.tomar_lista()"
   ]
  },
  {
   "cell_type": "code",
   "execution_count": 52,
   "metadata": {
    "colab": {
     "base_uri": "https://localhost:8080/",
     "height": 51
    },
    "colab_type": "code",
    "id": "AqkOrzAavtQf",
    "outputId": "3a20c0cd-a11d-49b2-b1e7-05c241aae760"
   },
   "outputs": [
    {
     "name": "stdout",
     "output_type": "stream",
     "text": [
      "Curso Python, 6 clases pensadas para 2 alumnos\n",
      "Por el muy módico precio de 10 rupias. La ocupación actual es del 6.0%\n"
     ]
    }
   ],
   "source": [
    "curso_python.resumen()"
   ]
  },
  {
   "cell_type": "code",
   "execution_count": null,
   "metadata": {},
   "outputs": [],
   "source": [
    "curso_ml = Curso('Machine Learning', 8)"
   ]
  },
  {
   "cell_type": "code",
   "execution_count": null,
   "metadata": {},
   "outputs": [],
   "source": [
    "curso_ml.alumnos # vean que el curso está vacío!"
   ]
  },
  {
   "cell_type": "code",
   "execution_count": 53,
   "metadata": {},
   "outputs": [
    {
     "name": "stdout",
     "output_type": "stream",
     "text": [
      "Se agregó al alumno/a Carlos\n",
      "Se agregó al alumno/a Gabriel Pancracio Teodoro\n",
      "Se agregó al alumno/a Sócrates\n"
     ]
    }
   ],
   "source": [
    "curso_ml = Curso('Machine Learning', 8)\n",
    "curso_ml.inscribir_alumno('Carlos')\n",
    "curso_ml.inscribir_alumno('Gabriel Pancracio Teodoro')\n",
    "curso_ml.inscribir_alumno('Sócrates')"
   ]
  },
  {
   "cell_type": "code",
   "execution_count": 54,
   "metadata": {},
   "outputs": [
    {
     "name": "stdout",
     "output_type": "stream",
     "text": [
      "Curso Machine Learning, 8 clases pensadas para 3 alumnos\n",
      "Por el muy módico precio de 10 rupias. La ocupación actual es del 9.0%\n"
     ]
    }
   ],
   "source": [
    "curso_ml.resumen()"
   ]
  },
  {
   "cell_type": "code",
   "execution_count": 55,
   "metadata": {},
   "outputs": [
    {
     "data": {
      "text/plain": [
       "['Carlos', 'Gabriel Pancracio Teodoro', 'Sócrates']"
      ]
     },
     "execution_count": 55,
     "metadata": {},
     "output_type": "execute_result"
    }
   ],
   "source": [
    "curso_ml.alumnos"
   ]
  },
  {
   "cell_type": "markdown",
   "metadata": {},
   "source": [
    "Ejercicios:\n",
    "\n",
    "1- Defina una clase Punto que tome como parámetros x e y (las coordenadas) y constante que se puede instanciar correctamente.\n",
    "\n",
    "2- En Python existen los llamados métodos mágicos (magic methods) o dunder (Double Underscores). Estos métodos se caracterizan, justamente, por comenzar y terminar con \"\\_\\_\". Uno de los más comunes es el que permite darle estilo a la función **print**. Para que nuestro objeto entonces tenga un lindo print tenemos que definir una función \"\\_\\_str\\_\\_\" que sólo toma \"self\" como parámetro y que torne un string. Eso que retorna es el string que queremos que muestra cuando hagamos \"print\" del objeto. Dicho ésto, te invitamos a que lo intentes de la siguiente manera:\n",
    "\n",
    "a. Define una función \"\\_\\_str\\_\\_\" que sólo toma self como parámetro.\n",
    "\n",
    "b. La función debe retornar el string que quieras mostrar, recuerda que puedes usar los valores de \"x\" y de \"y\""
   ]
  },
  {
   "cell_type": "code",
   "execution_count": 77,
   "metadata": {},
   "outputs": [],
   "source": [
    "class Punto:\n",
    "    def __init__(self, x:float, y:float, resultado:list):\n",
    "        self.x = x\n",
    "        self.y = y\n",
    "\n",
    "        resultado = []\n",
    "\n",
    "    def crear_coords(self, x,y):\n",
    "        self.resultado.append(x,y)"
   ]
  },
  {
   "cell_type": "code",
   "execution_count": 78,
   "metadata": {},
   "outputs": [
    {
     "ename": "TypeError",
     "evalue": "Punto.__init__() missing 1 required positional argument: 'resultado'",
     "output_type": "error",
     "traceback": [
      "\u001b[1;31m---------------------------------------------------------------------------\u001b[0m",
      "\u001b[1;31mTypeError\u001b[0m                                 Traceback (most recent call last)",
      "Cell \u001b[1;32mIn[78], line 1\u001b[0m\n\u001b[1;32m----> 1\u001b[0m coords \u001b[38;5;241m=\u001b[39m \u001b[43mPunto\u001b[49m\u001b[43m(\u001b[49m\u001b[38;5;241;43m.123456789\u001b[39;49m\u001b[43m,\u001b[49m\u001b[38;5;241;43m.987654321\u001b[39;49m\u001b[43m)\u001b[49m\n\u001b[0;32m      2\u001b[0m coords\u001b[38;5;241m.\u001b[39mcrear_coords(\u001b[38;5;241m.123\u001b[39m,\u001b[38;5;241m.321\u001b[39m)\n",
      "\u001b[1;31mTypeError\u001b[0m: Punto.__init__() missing 1 required positional argument: 'resultado'"
     ]
    }
   ],
   "source": [
    "coords = Punto(.123456789,.987654321)"
   ]
  },
  {
   "cell_type": "markdown",
   "metadata": {
    "colab_type": "text",
    "id": "tZhkGmH4zp4t"
   },
   "source": [
    "### Herencia\n",
    "La herencia se emplea cuando queremos que una clase tome los atributos y características de otra clase.\n",
    "En este caso, la clase derivada (Alumno) **hereda** atributos y métodos de la clase base (Persona).\n",
    "Para acceder a los métodos de la clase previa vamos a emplear el método reservado **super()**. Con este método podemos invocar el constructor y así acceder a los atributos de esa clase."
   ]
  },
  {
   "cell_type": "code",
   "execution_count": null,
   "metadata": {
    "colab": {},
    "colab_type": "code",
    "id": "20SpMkEzDDNB"
   },
   "outputs": [],
   "source": [
    "# Clase derivada\n",
    "class Alumno(Persona):\n",
    "    def __init__(self, curso: Curso, *args): \n",
    "        \"\"\" \n",
    "        Alumno pertence a un Curso (una instancia de la clase Curso) y, además, tiene otros atributos que pasaremos\n",
    "        a la clase previa\n",
    "        \"\"\"\n",
    "        self.curso = curso\n",
    "        super().__init__(*args) # inicializamos la clase 'madre'. La llamamos usando super() y ejecutamos el constructor\n",
    "        # Nótese también que desempacamos args\n",
    "\n",
    "    def saludar(self): # Sobrecarga de métodos, ver abajo\n",
    "        super().saludar() # ejecutamos el método de Persona .saludar() y agregamos más cosas a este método\n",
    "        print('Estoy cursando:')\n",
    "        self.curso.resumen()\n",
    "\n",
    "    def estudiar(self, dato): # También podemos definir nuevos métodos\n",
    "        self.conocimiento = dato"
   ]
  },
  {
   "cell_type": "markdown",
   "metadata": {},
   "source": [
    "La clase Persona cuenta con un método saludar() y para Alumno también definimos un método saludar(). Cuando instanciemos un Alumno y ejecutemos el método saludar() lo que va a ejecutarse es el método saludar() de Alumno, no de Persona. Esto no quita que el método saludar() de Alumno llame al de Persona. Además, vale la pena mencionar que los dos tienen los mismos parámetros (ninguno en este caso). Este patrón de diseño es lo que se llama sobrecarga de métodos o overriding."
   ]
  },
  {
   "cell_type": "code",
   "execution_count": null,
   "metadata": {
    "colab": {
     "base_uri": "https://localhost:8080/",
     "height": 102
    },
    "colab_type": "code",
    "id": "eWN6A1VebZDF",
    "outputId": "b0eac13b-0865-4958-c64a-9de6d8e94956"
   },
   "outputs": [],
   "source": [
    "ww = Alumno(curso_python, 'Walter', 'White', 49, 'WW@thebreakingbad.com')\n",
    "ww.saludar()"
   ]
  },
  {
   "cell_type": "code",
   "execution_count": null,
   "metadata": {
    "colab": {},
    "colab_type": "code",
    "id": "yaActu69GauJ"
   },
   "outputs": [],
   "source": [
    "ww.estudiar('Se puede heredar de otra clase y extender sus métodos')"
   ]
  },
  {
   "cell_type": "code",
   "execution_count": null,
   "metadata": {
    "colab": {
     "base_uri": "https://localhost:8080/",
     "height": 34
    },
    "colab_type": "code",
    "id": "TxnvrBvsHGzW",
    "outputId": "572c6a52-53af-444d-80a0-de6228446c5d"
   },
   "outputs": [],
   "source": [
    "ww.conocimiento"
   ]
  },
  {
   "cell_type": "markdown",
   "metadata": {},
   "source": [
    "Ejercicio:\n",
    "\n",
    "1- Listar cuáles son los atributos y los métodos de ww y especificar cuáles provienen de Persona y cuáles están definidos por ser Alumno."
   ]
  },
  {
   "cell_type": "code",
   "execution_count": null,
   "metadata": {},
   "outputs": [],
   "source": []
  },
  {
   "cell_type": "markdown",
   "metadata": {
    "colab_type": "text",
    "id": "6BBCTXGskrBp"
   },
   "source": [
    "### Protección de acceso\n",
    "\n",
    "Podemos cambiar el acceso (publico, no publico, protejido) de los métodos y variables."
   ]
  },
  {
   "cell_type": "markdown",
   "metadata": {
    "colab_type": "text",
    "id": "xY3x3-5Co8-F"
   },
   "source": [
    "Dos formas distintas de encapsulamiento:\n",
    "\n",
    "- `_nopublico`\n",
    "- `__protegido`\n",
    "\n",
    "Los atributos o método no públicos pueden ser accedidos desde el objeto y llevan el prefijo \"\\_\". La utilidad de este es indicarle al usuario que es una variable o método privado, de uso interno en el código de la clase y que no está pensando que sea usado desde afuera, por el usuario. \n",
    "\n",
    "Por otra parte, en el caso de usar como prefijo \"\\_\\_\" (doble \"\\_\") directamente vamos a ocultar la variable o método de la lista de sugerencias para el usuario y tampoco va a poder invocarlo desde el objeto. Por este motivo, decimos que el atributo o método está protegido."
   ]
  },
  {
   "cell_type": "code",
   "execution_count": null,
   "metadata": {
    "colab": {},
    "colab_type": "code",
    "id": "-MxLTGBfkqTN"
   },
   "outputs": [],
   "source": [
    "class Auto():\n",
    "\n",
    "    def __init__(self, color, marca, velocidad_maxima):\n",
    "        self.color = color\n",
    "        self.marca = marca\n",
    "        self.__velocidad_maxima = 200\n",
    "        self.velocidad = 0\n",
    "        self.__contador = 0 # kilometros recorridos\n",
    "    \n",
    "    def avanzar(self, horas=1, velocidad=10):\n",
    "        if self._chequear_velocidad(velocidad):\n",
    "            self.velocidad = velocidad\n",
    "            print(f'avanzando durante {horas} horas')\n",
    "            self.__contador += horas*self.velocidad\n",
    "        else:\n",
    "            print(f\"Tu auto no puede llegar a tanta velocidad, el máximo es {self.__velocidad_maxima}\")\n",
    "    \n",
    "    def _chequear_velocidad(self, velocidad):\n",
    "        es_valida = False\n",
    "        if velocidad < self.__velocidad_maxima:\n",
    "            es_valida = True\n",
    "            if self.velocidad < velocidad:\n",
    "                print(\"Vas a acelerar!\")\n",
    "            else:\n",
    "                print(\"Vas a desaceler!\")\n",
    "        else:\n",
    "            print(\"Tu motor no permite ir tan rápido\")\n",
    "            es_valida = False\n",
    "        return es_valida\n",
    "    \n",
    "    def status(self):\n",
    "        print(f\"Vas a una velocidad de {self.velocidad} y llevás {self.__contador} km. recorridos\")"
   ]
  },
  {
   "cell_type": "code",
   "execution_count": null,
   "metadata": {
    "colab": {},
    "colab_type": "code",
    "id": "pHGKm6iondA5"
   },
   "outputs": [],
   "source": [
    "superauto = Auto('rojo','Ferrari', 200)"
   ]
  },
  {
   "cell_type": "code",
   "execution_count": null,
   "metadata": {
    "colab": {
     "base_uri": "https://localhost:8080/",
     "height": 34
    },
    "colab_type": "code",
    "id": "2VWZRkQ6pfZz",
    "outputId": "c70d1485-807d-4f9e-dcf2-331706a789e5"
   },
   "outputs": [],
   "source": [
    "# Atributo no publico\n",
    "superauto.avanzar(10)"
   ]
  },
  {
   "cell_type": "code",
   "execution_count": null,
   "metadata": {},
   "outputs": [],
   "source": [
    "superauto.status()"
   ]
  },
  {
   "cell_type": "code",
   "execution_count": null,
   "metadata": {
    "colab": {
     "base_uri": "https://localhost:8080/",
     "height": 164
    },
    "colab_type": "code",
    "id": "WSafkUzHnp8y",
    "outputId": "10939014-e8b5-4444-f0c1-ed514e0344c2"
   },
   "outputs": [],
   "source": [
    "# No se puede acceder a un atributo protegido\n",
    "superauto.__contador "
   ]
  },
  {
   "cell_type": "code",
   "execution_count": null,
   "metadata": {},
   "outputs": [],
   "source": [
    "# Pero sí se puede acceder a un método no público:\n",
    "superauto._chequear_velocidad(10)"
   ]
  },
  {
   "cell_type": "markdown",
   "metadata": {},
   "source": [
    "Ejercicio:\n",
    "\n",
    "A continuación se define una clase Linea. Esta clase toma como parámetros dos objetos Punto() (instancias de la clase que definieron antes). \n",
    "\n",
    "1- Agregar un método 'largo' que permita calcular el largo de la línea. Para ello vale la pena recordar que ésta se puede calcular como la hipotenusa del triángulo rectángulo que se forma con los dos puntos."
   ]
  },
  {
   "cell_type": "markdown",
   "metadata": {},
   "source": [
    "$ c = \\sqrt{a^2 + b^2} $"
   ]
  },
  {
   "cell_type": "markdown",
   "metadata": {},
   "source": [
    "<img src=\"https://static1.abc.es/media/ciencia/2019/10/31/TeoremadePitagorasABC-kW8F-U3032581527206JG-620x450@abc.jpg\" width=250/>"
   ]
  },
  {
   "cell_type": "markdown",
   "metadata": {},
   "source": [
    "2- Agregar un método 'pendiente' que permita calcular la pendiente de la línea. Recordar que ésta se puede calcular como el cociente entre las diferencias de 'y' y de 'x'. \n",
    "\n",
    "La fórmula es :\n",
    "$ m = (y_2 - y_1)/(x_2 - x_1) $"
   ]
  },
  {
   "cell_type": "code",
   "execution_count": null,
   "metadata": {},
   "outputs": [],
   "source": []
  },
  {
   "cell_type": "code",
   "execution_count": null,
   "metadata": {
    "slideshow": {
     "slide_type": "subslide"
    }
   },
   "outputs": [],
   "source": []
  },
  {
   "cell_type": "code",
   "execution_count": null,
   "metadata": {},
   "outputs": [],
   "source": []
  },
  {
   "cell_type": "code",
   "execution_count": null,
   "metadata": {},
   "outputs": [],
   "source": []
  },
  {
   "cell_type": "code",
   "execution_count": null,
   "metadata": {},
   "outputs": [],
   "source": []
  },
  {
   "cell_type": "markdown",
   "metadata": {},
   "source": [
    "## Métodos Especiales\n",
    "\n",
    "Las clases en Python cuentan con múltiples métodos especiales, los cuales se encuentran entre dobles guiones bajos __<metodo>__().\n",
    "\n",
    "Los métodos especiales más utilizados son <strong> \\_\\_init\\_\\_(), \\_\\_str\\_\\_() y \\_\\_del\\_\\_() </strong>.\n",
    "\n",
    "\\_\\_init\\_\\_ sirve para inicializar la clase y \\_\\_del\\_\\_ sirve para eliminar completamente el objeto del compilador.\n",
    "\n",
    "Veamos un ejemplo de uso de \\_\\_str\\_\\_. Una vez que definimos este método, responde a la sintaxis reservada de Python str()."
   ]
  },
  {
   "cell_type": "code",
   "execution_count": null,
   "metadata": {},
   "outputs": [],
   "source": [
    "# Clase derivada\n",
    "class Alumno(Persona):\n",
    "    def __init__(self, curso: Curso, *args): \n",
    "        \"\"\" \n",
    "        Alumno pertence a un Curso (una instancia de la clase Curso) y, además, tiene otros atributos que pasaremos\n",
    "        a la clase previa\n",
    "        \"\"\"\n",
    "        self.curso = curso\n",
    "        super().__init__(*args) # inicializamos la clase 'madre'. La llamamos usando super() y ejecutamos el constructor\n",
    "        # Nótese también que desempacamos args\n",
    "\n",
    "    def saludar(self): # Sobrecarga de métodos, ver abajo\n",
    "        super().saludar() # ejecutamos el método de Persona .saludar() y agregamos más cosas a este método\n",
    "        print('Estoy cursando:')\n",
    "        self.curso.resumen()\n",
    "\n",
    "    def estudiar(self, dato): # También podemos definir nuevos métodos\n",
    "        self.conocimiento = dato\n",
    "        \n",
    "    def __str__(self):\n",
    "        #Devuelve un string representativo del alumno\n",
    "        return f'Alumno {self.nombre_completo()}'\n",
    "    "
   ]
  },
  {
   "cell_type": "code",
   "execution_count": null,
   "metadata": {},
   "outputs": [],
   "source": [
    "un_alumno = Alumno(curso_python, 'Luke', 'Skywalker', 19, 'LS@noeresmipadre.com')"
   ]
  },
  {
   "cell_type": "code",
   "execution_count": null,
   "metadata": {},
   "outputs": [],
   "source": [
    "str(un_alumno)"
   ]
  },
  {
   "cell_type": "markdown",
   "metadata": {},
   "source": [
    "## Métodos Estáticos\n",
    "\n",
    "¿Qué pasa si no queremos instanciar los objetos a la hora de usarlos? En algunos diseños, tiene sentido utilizar las clases como simples repositorios de métodos. Por ejemplo, si necesito resolver varias operaciones geométricas puedo crear una clase Geometria que contenga todos los métodos necesarios.\n",
    "\n",
    "Para crear este tipo de métodos en una clase utilizamos el decorador @staticmethod. \n",
    "\n"
   ]
  },
  {
   "cell_type": "code",
   "execution_count": null,
   "metadata": {},
   "outputs": [],
   "source": [
    "class Geomtria():\n",
    "    \"\"\"Resuelve operaciones geométricas\"\"\"\n",
    "    \n",
    "    @staticmethod\n",
    "    def pendiente(x1,y1,x2,y2):\n",
    "        return ((y2 - y1)/(x2-x1))\n",
    "    \n",
    "    @staticmethod\n",
    "    def area_circulo(radio):\n",
    "        return math.pi * (radio**2)"
   ]
  },
  {
   "cell_type": "code",
   "execution_count": null,
   "metadata": {},
   "outputs": [],
   "source": [
    "Geomtria.area_circulo(3)"
   ]
  },
  {
   "cell_type": "markdown",
   "metadata": {},
   "source": [
    "## Duck typing y monkey patching\n",
    "\n",
    "Dos características de la programación orientada a objetos con Python son el duck tiping y el monkey patching. Este tipo de flexibilidad es el que le permitió a Python crecer tanto en su adopción porque reducen la cantidad de palabras que es necesario escribir para desarrollar código, lo cual ahorra tiempo y también disminuyen la complejidad.\n",
    "\n",
    "### Duck typing\n",
    "\n"
   ]
  },
  {
   "cell_type": "code",
   "execution_count": null,
   "metadata": {},
   "outputs": [],
   "source": [
    "class ElHobbit:\n",
    "    \n",
    "    def __init__(self,nombre):\n",
    "        self.nombre = nombre\n",
    "    \n",
    "    def __len__(self):\n",
    "        return 95022\n",
    "    \n",
    "    def saludar(self):\n",
    "        return f'Hola soy {self.nombre}'\n",
    "\n",
    "el_hobbit = ElHobbit('Frodo')"
   ]
  },
  {
   "cell_type": "code",
   "execution_count": null,
   "metadata": {},
   "outputs": [],
   "source": [
    "len(el_hobbit)"
   ]
  },
  {
   "cell_type": "code",
   "execution_count": null,
   "metadata": {},
   "outputs": [],
   "source": [
    "mi_str = \"Hello World\"\n",
    "mi_list = [34, 54, 65, 78]\n",
    "mi_dict = {\"a\": 123, \"b\": 456, \"c\": 789}"
   ]
  },
  {
   "cell_type": "markdown",
   "metadata": {},
   "source": [
    "<i> “If it walks like a duck, and it quacks like a duck, then it must be a duck.”</i>\n",
    "\n",
    "Duck typing significa que a diferencia de otros lenguajes, las funciones especiales no están definidas para una lista específica de clases y tipos, si no que se pueden usar para cualquier objeto que las implemente. Esto no es así para la mayoría de los lenguajes.   "
   ]
  },
  {
   "cell_type": "code",
   "execution_count": null,
   "metadata": {},
   "outputs": [],
   "source": [
    "len(mi_str)\n",
    "len(mi_list)\n",
    "len(mi_dict)\n",
    "len(el_hobbit)"
   ]
  },
  {
   "cell_type": "code",
   "execution_count": null,
   "metadata": {},
   "outputs": [],
   "source": [
    "mi_int = 7\n",
    "mi_float = 42.3"
   ]
  },
  {
   "cell_type": "code",
   "execution_count": null,
   "metadata": {},
   "outputs": [],
   "source": [
    "len(mi_int)\n",
    "len(mi_float)"
   ]
  },
  {
   "cell_type": "markdown",
   "metadata": {},
   "source": [
    "## Monkey Patching\n",
    "\n",
    "Guerrilla, gorilla, ¿monkey?... Este término viene de uno anterior, \"guerrilla patching\", que hace referencia a emparchar el código rápido y cuando es necesario. \n",
    "\n",
    "Se refiere a la posibilidad en Python de sobreescribir clases después de haberlas instanciado y por qué no también la funcionalidad de los módulos. "
   ]
  },
  {
   "cell_type": "code",
   "execution_count": null,
   "metadata": {},
   "outputs": [],
   "source": [
    "el_hobbit.saludar()"
   ]
  },
  {
   "cell_type": "code",
   "execution_count": null,
   "metadata": {},
   "outputs": [],
   "source": [
    "def saludo_largo(self):\n",
    "    return f'Hola mi nombre es {self.nombre}'"
   ]
  },
  {
   "cell_type": "code",
   "execution_count": null,
   "metadata": {},
   "outputs": [],
   "source": [
    "ElHobbit.saludar = saludo_largo"
   ]
  },
  {
   "cell_type": "code",
   "execution_count": null,
   "metadata": {},
   "outputs": [],
   "source": [
    "el_hobbit.saludar()"
   ]
  },
  {
   "cell_type": "markdown",
   "metadata": {},
   "source": [
    "Esto es especialmente útil cuando queremos sobre-escribir ligeramente módulos hechos por terceros (¡o por nosotros mismos en otro momento!) "
   ]
  },
  {
   "cell_type": "code",
   "execution_count": null,
   "metadata": {},
   "outputs": [],
   "source": [
    "import math"
   ]
  },
  {
   "cell_type": "code",
   "execution_count": null,
   "metadata": {},
   "outputs": [],
   "source": [
    "math.pi"
   ]
  },
  {
   "cell_type": "code",
   "execution_count": null,
   "metadata": {},
   "outputs": [],
   "source": [
    "math.pi = 2"
   ]
  },
  {
   "cell_type": "code",
   "execution_count": null,
   "metadata": {},
   "outputs": [],
   "source": [
    "math.pi"
   ]
  },
  {
   "cell_type": "markdown",
   "metadata": {},
   "source": [
    "Los cambios se sobre-escriben si REINICIAMOS EL KERNEL y volvemos a importar el módulo"
   ]
  },
  {
   "cell_type": "code",
   "execution_count": null,
   "metadata": {},
   "outputs": [],
   "source": [
    "import math\n",
    "math.pi"
   ]
  }
 ],
 "metadata": {
  "instance_type": "ml.t3.medium",
  "kernelspec": {
   "display_name": "Python 3",
   "language": "python",
   "name": "python3"
  },
  "language_info": {
   "codemirror_mode": {
    "name": "ipython",
    "version": 3
   },
   "file_extension": ".py",
   "mimetype": "text/x-python",
   "name": "python",
   "nbconvert_exporter": "python",
   "pygments_lexer": "ipython3",
   "version": "3.11.9"
  }
 },
 "nbformat": 4,
 "nbformat_minor": 4
}
