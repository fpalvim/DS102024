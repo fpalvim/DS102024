{
 "cells": [
  {
   "cell_type": "markdown",
   "metadata": {},
   "source": [
    "# Ejercicios POO IV\n",
    "\n",
    "## Programación orientada a objetos\n",
    "\n",
    "En este ejercicio vamos a programar un carrito de compras.\n",
    "\n",
    "Para esto vamos a escribir dos clases: Carrito e Item.\n",
    "\n",
    "El ítem va a tener como propiedades un nombre, un precio y una url de la imágen que lo representa. Por default, la url se inicializa en blanco.\n",
    "\n",
    "El Carrito tiene como propiedad una lista de diccionarios, la variable _lineas. \n",
    "\n",
    "Los carritos se inicializan vacíos y luego se agregan líneas utilizando el método agregar_línea(). Cada línea es un diccionario con dos claves: \"ítem\" que contiene un objeto de tipo ítem y \"cantidad\" según la cantidad que queremos agregar al carrito.\n",
    "\n",
    "Por último los carritos tienen un método get_total() que devuelve la suma de los precios de los ítems, multiplicados por las cantidades que hay en cada línea."
   ]
  },
  {
   "cell_type": "code",
   "execution_count": 158,
   "metadata": {},
   "outputs": [],
   "source": [
    "# Clase Item\n",
    "\n",
    "class Item:\n",
    "\n",
    "    def __init__(self, nombre:str, precio:float, url:str=\"\"):\n",
    "        self.nombre = nombre\n",
    "        self.precio = precio\n",
    "        self.url = url"
   ]
  },
  {
   "cell_type": "code",
   "execution_count": 160,
   "metadata": {},
   "outputs": [],
   "source": [
    "# Crear los ítems harina de $1.50 y peperoni de $1.84\n",
    "\n",
    "item1 = Item('harina',1.50)\n",
    "item2 = Item('peperoni',1.84)"
   ]
  },
  {
   "cell_type": "code",
   "execution_count": 166,
   "metadata": {},
   "outputs": [],
   "source": [
    "# Crear la clase Carrito\n",
    "\n",
    "class Carrito:\n",
    "\n",
    "    def __init__(self):\n",
    "        self._lineas = []\n",
    "\n",
    "    def agregar_linea(self,item:str,cantidad:int):\n",
    "        self._lineas.append({'item':item, 'cantidad':cantidad})\n",
    "\n",
    "    def get_total(self):\n",
    "        total = 0\n",
    "        for linea in self._lineas:\n",
    "            total += linea['item'].precio * linea['cantidad']\n",
    "        return f'El valor total es: ${round(total,2)}'"
   ]
  },
  {
   "cell_type": "markdown",
   "metadata": {},
   "source": [
    "Ahora vamos a instanciar el carrito y agregarle una \"línea\" con dos kilos de harina y otra con tres peperonis."
   ]
  },
  {
   "cell_type": "code",
   "execution_count": 167,
   "metadata": {},
   "outputs": [],
   "source": [
    "# Instancias el carrito\n",
    "\n",
    "mi_carrito = Carrito()"
   ]
  },
  {
   "cell_type": "code",
   "execution_count": 168,
   "metadata": {},
   "outputs": [],
   "source": [
    "# Agregar harina\n",
    "mi_carrito.agregar_linea(item1,10)"
   ]
  },
  {
   "cell_type": "code",
   "execution_count": 169,
   "metadata": {},
   "outputs": [],
   "source": [
    "# Agregar peperoni\n",
    "mi_carrito.agregar_linea(item2,10)"
   ]
  },
  {
   "cell_type": "code",
   "execution_count": 170,
   "metadata": {},
   "outputs": [
    {
     "data": {
      "text/plain": [
       "'El valor total es: $33.4'"
      ]
     },
     "execution_count": 170,
     "metadata": {},
     "output_type": "execute_result"
    }
   ],
   "source": [
    "# Obtener el total\n",
    "mi_carrito.get_total()"
   ]
  },
  {
   "cell_type": "markdown",
   "metadata": {},
   "source": [
    "## Ejercicio II\n",
    "\n",
    "Ahora vamos a crear dos clases. Primero una clase Réctangulo con los métodos area y base. Y luego una clase más específica que sea la Clase Cuadrado que herede los métodos de la clase Rectángulo. \n",
    "\n",
    "Una vez logrado esto vamos a crear una Tercera clase llamada Cubo cuya clase base va a responder a Cuadrado. En esta clase vas a agregar un método que sea volumen utilizando el método Área de su clase base o madre. "
   ]
  },
  {
   "cell_type": "code",
   "execution_count": 77,
   "metadata": {},
   "outputs": [],
   "source": [
    "class Rectangulo():\n",
    "    def __init__(self, base:float, altura:float):\n",
    "        self.base = base\n",
    "        self.altura = altura\n",
    "\n",
    "    def base(self):\n",
    "        return self.base\n",
    "    \n",
    "    def area(self):\n",
    "        return self.base * self.altura\n",
    "    \n",
    "\n",
    "class Cuadrado(Rectangulo):\n",
    "    def __init__(self, lado):\n",
    "        super().__init__(lado, lado)\n",
    "\n",
    "class Cubo(Cuadrado):\n",
    "    def __init__(self, lado):\n",
    "        super().__init__(lado)\n",
    "    \n",
    "    def volumen(self):\n",
    "        return self.area() * self.base"
   ]
  },
  {
   "cell_type": "code",
   "execution_count": 78,
   "metadata": {},
   "outputs": [
    {
     "name": "stdout",
     "output_type": "stream",
     "text": [
      "12\n",
      "4\n",
      "125\n"
     ]
    }
   ],
   "source": [
    "rec1 = Rectangulo(4,3)\n",
    "cua1 = Cuadrado(2)\n",
    "cub1 = Cubo(5)\n",
    "print(rec1.area())\n",
    "print(cua1.area())\n",
    "print(cub1.volumen())"
   ]
  }
 ],
 "metadata": {
  "kernelspec": {
   "display_name": "Python 3",
   "language": "python",
   "name": "python3"
  },
  "language_info": {
   "codemirror_mode": {
    "name": "ipython",
    "version": 3
   },
   "file_extension": ".py",
   "mimetype": "text/x-python",
   "name": "python",
   "nbconvert_exporter": "python",
   "pygments_lexer": "ipython3",
   "version": "3.11.9"
  }
 },
 "nbformat": 4,
 "nbformat_minor": 4
}
