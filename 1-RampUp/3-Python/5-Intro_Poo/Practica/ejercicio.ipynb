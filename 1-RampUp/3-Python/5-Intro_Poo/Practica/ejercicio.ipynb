{
 "cells": [
  {
   "cell_type": "markdown",
   "metadata": {},
   "source": [
    "# Ejercicios POO IV\n",
    "\n",
    "## Programación orientada a objetos\n",
    "\n",
    "En este ejercicio vamos a programar un carrito de compras.\n",
    "\n",
    "Para esto vamos a escribir dos clases: Carrito e Item.\n",
    "\n",
    "El ítem va a tener como propiedades un nombre, un precio y una url de la imágen que lo representa. Por default, la url se inicializa en blanco.\n",
    "\n",
    "El Carrito tiene como propiedad una lista de diccionarios, la variable _lineas. \n",
    "\n",
    "Los carritos se inicializan vacíos y luego se agregan líneas utilizando el método agregar_línea(). Cada línea es un diccionario con dos claves: \"ítem\" que contiene un objeto de tipo ítem y \"cantidad\" según la cantidad que queremos agregar al carrito.\n",
    "\n",
    "Por último los carritos tienen un método get_total() que devuelve la suma de los precios de los ítems, multiplicados por las cantidades que hay en cada línea."
   ]
  },
  {
   "cell_type": "code",
   "execution_count": 20,
   "metadata": {},
   "outputs": [],
   "source": [
    "# Clase Item\n",
    "\n",
    "class Item:\n",
    "    def __init__(self, nombre, precio, url=\"\"):\n",
    "        self.nombre = nombre\n",
    "        self.precio = precio\n",
    "        self.url = url"
   ]
  },
  {
   "cell_type": "code",
   "execution_count": 21,
   "metadata": {},
   "outputs": [],
   "source": [
    "# Crear los ítems harina de $1.50 y peperoni de $1.84\n",
    "\n",
    "new_item = Item(\"harina\",1.50)\n",
    "new_item = Item(\"peperoni\",1.84)"
   ]
  },
  {
   "cell_type": "code",
   "execution_count": null,
   "metadata": {},
   "outputs": [],
   "source": []
  },
  {
   "cell_type": "code",
   "execution_count": null,
   "metadata": {},
   "outputs": [],
   "source": [
    "# Crear la clase Carrito\n",
    "\n",
    "class Carrito:\n",
    "    "
   ]
  },
  {
   "cell_type": "markdown",
   "metadata": {},
   "source": [
    "Ahora vamos a instanciar el carrito y agregarle una \"línea\" con dos kilos de harina y otra con tres peperonis."
   ]
  },
  {
   "cell_type": "code",
   "execution_count": null,
   "metadata": {},
   "outputs": [],
   "source": [
    "# Instancias el carrito\n"
   ]
  },
  {
   "cell_type": "code",
   "execution_count": null,
   "metadata": {},
   "outputs": [],
   "source": [
    "# Agregar harina\n"
   ]
  },
  {
   "cell_type": "code",
   "execution_count": null,
   "metadata": {},
   "outputs": [],
   "source": [
    "# Agregar peperoni\n"
   ]
  },
  {
   "cell_type": "code",
   "execution_count": null,
   "metadata": {},
   "outputs": [],
   "source": [
    "# Obtener el total\n"
   ]
  },
  {
   "cell_type": "markdown",
   "metadata": {},
   "source": [
    "## Ejercicio II\n",
    "\n",
    "Ahora vamos a crear dos clases. Primero una clase Réctangulo con los métodos area y base. Y luego una clase más específica que sea la Clase Cuadrado que herede los métodos de la clase Rectángulo. \n",
    "\n",
    "Una vez logrado esto vamos a crear una Tercera clase llamada Cubo cuya clase base va a responder a Cuadrado. En esta clase vas a agregar un método que sea volumen utilizando el método Área de su clase base o madre. "
   ]
  },
  {
   "cell_type": "code",
   "execution_count": null,
   "metadata": {},
   "outputs": [],
   "source": []
  }
 ],
 "metadata": {
  "kernelspec": {
   "display_name": "Python 3",
   "language": "python",
   "name": "python3"
  },
  "language_info": {
   "codemirror_mode": {
    "name": "ipython",
    "version": 3
   },
   "file_extension": ".py",
   "mimetype": "text/x-python",
   "name": "python",
   "nbconvert_exporter": "python",
   "pygments_lexer": "ipython3",
   "version": "3.11.9"
  }
 },
 "nbformat": 4,
 "nbformat_minor": 4
}
